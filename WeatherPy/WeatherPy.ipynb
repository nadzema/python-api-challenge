{
 "cells": [
  {
   "cell_type": "markdown",
   "metadata": {},
   "source": [
    "# WeatherPy\n",
    "----\n",
    "\n",
    "#### Note\n",
    "* Instructions have been included for each segment. You do not have to follow them exactly, but they are included to help you think through the steps."
   ]
  },
  {
   "cell_type": "code",
   "execution_count": 2,
   "metadata": {
    "scrolled": true
   },
   "outputs": [],
   "source": [
    "# Dependencies and Setup\n",
    "import matplotlib.pyplot as plt\n",
    "import pandas as pd\n",
    "import numpy as np\n",
    "import requests\n",
    "import time\n",
    "import json\n",
    "from scipy import stats\n",
    "from scipy.stats import linregress\n",
    "import pprint as pprint\n",
    "\n",
    "# Import API key\n",
    "from api_keys import weather_api_key\n",
    "\n",
    "# Incorporated citipy to determine city based on latitude and longitude\n",
    "from citipy import citipy\n",
    "\n",
    "# Output File (CSV)\n",
    "output_data_file = \"output_data/cities.csv\"\n",
    "\n",
    "# Range of latitudes and longitudes\n",
    "lat_range = (-90, 90)\n",
    "lng_range = (-180, 180)\n"
   ]
  },
  {
   "cell_type": "code",
   "execution_count": null,
   "metadata": {},
   "outputs": [],
   "source": []
  },
  {
   "cell_type": "code",
   "execution_count": 3,
   "metadata": {},
   "outputs": [
    {
     "data": {
      "text/plain": [
       "627"
      ]
     },
     "execution_count": 3,
     "metadata": {},
     "output_type": "execute_result"
    }
   ],
   "source": [
    "# List for holding lat_lngs and cities\n",
    "lat_lngs = []\n",
    "cities = []\n",
    "\n",
    "# Create a set of random lat and lng combinations\n",
    "lats = np.random.uniform(lat_range[0], lat_range[1], size=1500)\n",
    "lngs = np.random.uniform(lng_range[0], lng_range[1], size=1500)\n",
    "lat_lngs = zip(lats, lngs)\n",
    "\n",
    "# Identify nearest city for each lat, lng combination\n",
    "for lat_lng in lat_lngs:\n",
    "    city = citipy.nearest_city(lat_lng[0], lat_lng[1]).city_name\n",
    "    \n",
    "    # If the city is unique, then add it to a our cities list\n",
    "    if city not in cities:\n",
    "        cities.append(city)\n",
    "\n",
    "# Print the city count to confirm sufficient count\n",
    "len(cities)"
   ]
  },
  {
   "cell_type": "markdown",
   "metadata": {},
   "source": [
    "## Generate Cities List"
   ]
  },
  {
   "cell_type": "markdown",
   "metadata": {},
   "source": [
    "### Perform API Calls\n",
    "* Perform a weather check on each city using a series of successive API calls.\n",
    "* Include a print log of each city as it'sbeing processed (with the city number and city name).\n"
   ]
  },
  {
   "cell_type": "code",
   "execution_count": 4,
   "metadata": {
    "scrolled": true
   },
   "outputs": [
    {
     "name": "stdout",
     "output_type": "stream",
     "text": [
      "{\n",
      "    \"coord\": {\n",
      "        \"lon\": -68.3,\n",
      "        \"lat\": -54.8\n",
      "    },\n",
      "    \"weather\": [\n",
      "        {\n",
      "            \"id\": 803,\n",
      "            \"main\": \"Clouds\",\n",
      "            \"description\": \"broken clouds\",\n",
      "            \"icon\": \"04d\"\n",
      "        }\n",
      "    ],\n",
      "    \"base\": \"stations\",\n",
      "    \"main\": {\n",
      "        \"temp\": 14,\n",
      "        \"feels_like\": 12.25,\n",
      "        \"temp_min\": 14,\n",
      "        \"temp_max\": 14,\n",
      "        \"pressure\": 994,\n",
      "        \"humidity\": 77\n",
      "    },\n",
      "    \"visibility\": 10000,\n",
      "    \"wind\": {\n",
      "        \"speed\": 2.57,\n",
      "        \"deg\": 180\n",
      "    },\n",
      "    \"clouds\": {\n",
      "        \"all\": 75\n",
      "    },\n",
      "    \"dt\": 1613052335,\n",
      "    \"sys\": {\n",
      "        \"type\": 1,\n",
      "        \"id\": 8303,\n",
      "        \"country\": \"AR\",\n",
      "        \"sunrise\": 1613035144,\n",
      "        \"sunset\": 1613088959\n",
      "    },\n",
      "    \"timezone\": -10800,\n",
      "    \"id\": 3833367,\n",
      "    \"name\": \"Ushuaia\",\n",
      "    \"cod\": 200\n",
      "}\n"
     ]
    }
   ],
   "source": [
    "# Save config information.\n",
    "base = \"http://api.openweathermap.org/data/2.5/weather?\" \n",
    "units = \"metric\"\n",
    "\n",
    "# Build partial query URL\n",
    "\n",
    "url = f'{base}appid={weather_api_key}&units={units}&q='\n",
    "response = requests.get(url + city)\n",
    "weather = response.json()\n",
    "print(json.dumps(weather, indent =4))"
   ]
  },
  {
   "cell_type": "code",
   "execution_count": null,
   "metadata": {},
   "outputs": [],
   "source": []
  },
  {
   "cell_type": "code",
   "execution_count": null,
   "metadata": {},
   "outputs": [],
   "source": []
  },
  {
   "cell_type": "markdown",
   "metadata": {},
   "source": [
    "### Convert Raw Data to DataFrame\n",
    "* Export the city data into a .csv.\n",
    "* Display the DataFrame"
   ]
  },
  {
   "cell_type": "code",
   "execution_count": 6,
   "metadata": {},
   "outputs": [
    {
     "data": {
      "text/html": [
       "<div>\n",
       "<style scoped>\n",
       "    .dataframe tbody tr th:only-of-type {\n",
       "        vertical-align: middle;\n",
       "    }\n",
       "\n",
       "    .dataframe tbody tr th {\n",
       "        vertical-align: top;\n",
       "    }\n",
       "\n",
       "    .dataframe thead th {\n",
       "        text-align: right;\n",
       "    }\n",
       "</style>\n",
       "<table border=\"1\" class=\"dataframe\">\n",
       "  <thead>\n",
       "    <tr style=\"text-align: right;\">\n",
       "      <th></th>\n",
       "      <th>City</th>\n",
       "    </tr>\n",
       "  </thead>\n",
       "  <tbody>\n",
       "    <tr>\n",
       "      <th>0</th>\n",
       "      <td>arraial do cabo</td>\n",
       "    </tr>\n",
       "    <tr>\n",
       "      <th>1</th>\n",
       "      <td>lorengau</td>\n",
       "    </tr>\n",
       "    <tr>\n",
       "      <th>2</th>\n",
       "      <td>jamestown</td>\n",
       "    </tr>\n",
       "    <tr>\n",
       "      <th>3</th>\n",
       "      <td>ternate</td>\n",
       "    </tr>\n",
       "    <tr>\n",
       "      <th>4</th>\n",
       "      <td>bengkulu</td>\n",
       "    </tr>\n",
       "    <tr>\n",
       "      <th>...</th>\n",
       "      <td>...</td>\n",
       "    </tr>\n",
       "    <tr>\n",
       "      <th>622</th>\n",
       "      <td>olean</td>\n",
       "    </tr>\n",
       "    <tr>\n",
       "      <th>623</th>\n",
       "      <td>port blair</td>\n",
       "    </tr>\n",
       "    <tr>\n",
       "      <th>624</th>\n",
       "      <td>madang</td>\n",
       "    </tr>\n",
       "    <tr>\n",
       "      <th>625</th>\n",
       "      <td>buraydah</td>\n",
       "    </tr>\n",
       "    <tr>\n",
       "      <th>626</th>\n",
       "      <td>ambilobe</td>\n",
       "    </tr>\n",
       "  </tbody>\n",
       "</table>\n",
       "<p>627 rows × 1 columns</p>\n",
       "</div>"
      ],
      "text/plain": [
       "                City\n",
       "0    arraial do cabo\n",
       "1           lorengau\n",
       "2          jamestown\n",
       "3            ternate\n",
       "4           bengkulu\n",
       "..               ...\n",
       "622            olean\n",
       "623       port blair\n",
       "624           madang\n",
       "625         buraydah\n",
       "626         ambilobe\n",
       "\n",
       "[627 rows x 1 columns]"
      ]
     },
     "execution_count": 6,
     "metadata": {},
     "output_type": "execute_result"
    }
   ],
   "source": [
    "#create a City dataframe\n",
    "citydf = pd.DataFrame({'City': cities})\n",
    "citydf"
   ]
  },
  {
   "cell_type": "code",
   "execution_count": 7,
   "metadata": {},
   "outputs": [],
   "source": [
    "#citydf[\"Country\"] = \"\"\n",
    "#citydf[\"Latitude\"] = \"\"\n",
    "#citydf[\"Longitude\"] = \"\"\n",
    "#citydf[\"Temperature (F)\"] = \"\"\n",
    "#citydf[\"Humidity\"] = \"\"\n",
    "#citydf[\"Cloudiness\"] = \"\"\n",
    "#citydf[\"Wind Speed (mph)\"] = \"\"\n",
    "place =[]\n",
    "country = []\n",
    "latitude = []\n",
    "longitude = []\n",
    "temperature = []\n",
    "humidity = []\n",
    "cloudiness=[]\n",
    "wind_speed= []\n",
    "city_data = []\n"
   ]
  },
  {
   "cell_type": "code",
   "execution_count": null,
   "metadata": {},
   "outputs": [],
   "source": []
  },
  {
   "cell_type": "code",
   "execution_count": 8,
   "metadata": {},
   "outputs": [
    {
     "name": "stdout",
     "output_type": "stream",
     "text": [
      " City number:1 arraial do cabo\n",
      " City number:2 lorengau\n",
      " City number:3 jamestown\n",
      " City number:4 ternate\n",
      " City number:5 bengkulu\n",
      "Country not found\n",
      " City number:6 kodiak\n",
      " City number:7 makokou\n",
      " City number:8 guayaramerin\n",
      " City number:9 bluff\n",
      " City number:10 ushuaia\n",
      " City number:11 plettenberg bay\n",
      " City number:12 kapaa\n",
      " City number:13 port-gentil\n",
      " City number:14 tuatapere\n",
      " City number:15 vostok\n",
      " City number:16 atuona\n",
      " City number:17 ahipara\n",
      " City number:18 lillooet\n",
      " City number:19 rio gallegos\n",
      " City number:20 gushikawa\n",
      " City number:21 petropavl\n",
      " City number:22 sibu\n",
      " City number:23 rawson\n",
      " City number:24 castro\n",
      " City number:25 sechura\n",
      " City number:26 vestmannaeyjar\n",
      "Country not found\n",
      " City number:27 new norfolk\n",
      " City number:28 punta arenas\n",
      " City number:29 qaanaaq\n",
      " City number:30 baruun-urt\n",
      " City number:31 east london\n",
      " City number:32 ugoofaaru\n",
      " City number:33 rikitea\n",
      " City number:34 butaritari\n",
      " City number:35 georgetown\n",
      " City number:36 hobart\n",
      " City number:37 guanica\n",
      " City number:38 taoudenni\n",
      " City number:39 busselton\n",
      " City number:40 tiksi\n",
      " City number:41 ketchikan\n",
      " City number:42 soyo\n",
      " City number:43 genhe\n",
      " City number:44 yellowknife\n",
      "Country not found\n",
      " City number:45 luderitz\n",
      " City number:46 manzanillo\n",
      " City number:47 loikaw\n",
      "Country not found\n",
      "Country not found\n",
      " City number:48 richards bay\n",
      " City number:49 ossora\n",
      " City number:50 cape town\n",
      " City number:51 port elizabeth\n",
      " City number:52 sao joao da barra\n",
      " City number:53 carnarvon\n",
      " City number:54 hilo\n",
      " City number:55 puerto ayora\n",
      " City number:56 le port\n",
      "Country not found\n",
      " City number:57 upernavik\n",
      " City number:58 saint-philippe\n",
      " City number:59 mataura\n",
      " City number:60 thompson\n",
      " City number:61 vaini\n",
      " City number:62 big rapids\n",
      " City number:63 ilulissat\n",
      " City number:64 katsuura\n",
      " City number:65 poshekhonye\n",
      "Country not found\n",
      " City number:66 port alfred\n",
      " City number:67 lompoc\n",
      " City number:68 sao jose da coroa grande\n",
      " City number:69 lebu\n",
      " City number:70 hella\n",
      " City number:71 sao desiderio\n",
      " City number:72 aitape\n",
      " City number:73 khatanga\n",
      " City number:74 asau\n",
      " City number:75 tagusao\n",
      " City number:76 biltine\n",
      " City number:77 hermanus\n",
      " City number:78 bredasdorp\n",
      " City number:79 avarua\n",
      " City number:80 porto walter\n",
      " City number:81 cabinda\n",
      " City number:82 tucurui\n",
      " City number:83 derzhavinsk\n",
      " City number:84 mount isa\n",
      " City number:85 esperance\n",
      " City number:86 hami\n",
      " City number:87 albany\n",
      " City number:88 bandarbeyla\n",
      " City number:89 springbok\n",
      " City number:90 hithadhoo\n",
      " City number:91 nome\n",
      " City number:92 san quintin\n",
      " City number:93 barrow\n",
      " City number:94 bethel\n",
      " City number:95 bukene\n",
      " City number:96 naze\n",
      " City number:97 tasiilaq\n",
      " City number:98 kismayo\n",
      " City number:99 kavieng\n",
      " City number:100 iqaluit\n",
      " City number:101 balkhash\n",
      " City number:102 west wendover\n",
      " City number:103 portland\n",
      " City number:104 bahia de caraquez\n",
      " City number:105 korla\n",
      " City number:106 tanabe\n",
      " City number:107 mar del plata\n",
      " City number:108 bahia honda\n",
      " City number:109 praia da vitoria\n",
      " City number:110 camden\n",
      " City number:111 saint-pierre\n",
      " City number:112 porbandar\n",
      " City number:113 juneau\n",
      " City number:114 ostrovnoy\n",
      "Country not found\n",
      "Country not found\n",
      " City number:115 laguna\n",
      "Country not found\n",
      " City number:116 conde\n",
      " City number:117 victoria\n",
      " City number:118 namibe\n",
      " City number:119 charcas\n",
      " City number:120 nanortalik\n",
      " City number:121 jardim\n",
      " City number:122 svetlaya\n",
      " City number:123 dikson\n",
      "Country not found\n",
      " City number:124 souillac\n",
      "Country not found\n",
      " City number:125 karatuzskoye\n",
      " City number:126 pokhara\n",
      " City number:127 scottsbluff\n",
      " City number:128 nizhniy odes\n",
      " City number:129 maceio\n",
      " City number:130 saldanha\n",
      " City number:131 along\n",
      " City number:132 lodja\n",
      " City number:133 kristiansund\n",
      " City number:134 hualmay\n",
      " City number:135 saint george\n",
      " City number:136 adre\n",
      " City number:137 pevek\n",
      " City number:138 kuryk\n",
      " City number:139 saint anthony\n",
      "Country not found\n",
      " City number:140 champerico\n",
      "Country not found\n",
      "Country not found\n",
      " City number:141 formosa\n",
      " City number:142 monrovia\n",
      " City number:143 inhambane\n",
      " City number:144 shimoda\n",
      " City number:145 kaminskiy\n",
      " City number:146 riyadh\n",
      " City number:147 cherskiy\n",
      "Country not found\n",
      "Country not found\n",
      " City number:148 touros\n",
      " City number:149 yar-sale\n",
      " City number:150 omaruru\n",
      " City number:151 nsanje\n",
      " City number:152 airai\n",
      " City number:153 coquimbo\n",
      " City number:154 kysyl-syr\n",
      " City number:155 kinablangan\n",
      " City number:156 geraldton\n",
      " City number:157 mitsamiouli\n",
      "Country not found\n",
      "Country not found\n",
      " City number:158 fortuna\n",
      " City number:159 tysmenytsya\n",
      " City number:160 verkh-usugli\n",
      " City number:161 kudahuvadhoo\n",
      " City number:162 muroto\n",
      " City number:163 estepona\n",
      " City number:164 namatanai\n",
      " City number:165 maumere\n",
      " City number:166 ponta do sol\n",
      " City number:167 srednekolymsk\n",
      " City number:168 nushki\n",
      "Country not found\n",
      " City number:169 wajid\n",
      " City number:170 sayyan\n",
      " City number:171 jurm\n",
      " City number:172 alpena\n",
      " City number:173 meulaboh\n",
      " City number:174 citrus park\n",
      " City number:175 norsup\n",
      " City number:176 brusyanskiy\n",
      " City number:177 north bend\n",
      " City number:178 saint-joseph\n",
      " City number:179 zhigansk\n",
      "Country not found\n",
      " City number:180 coahuayana\n",
      " City number:181 nouadhibou\n",
      " City number:182 sorland\n",
      "Country not found\n",
      " City number:183 peniche\n",
      " City number:184 veraval\n",
      " City number:185 apatou\n",
      " City number:186 kondopoga\n",
      " City number:187 hohhot\n",
      " City number:188 waipawa\n",
      " City number:189 provideniya\n",
      " City number:190 mahebourg\n",
      "Country not found\n",
      " City number:191 ancud\n",
      " City number:192 maningrida\n",
      " City number:193 loukhi\n",
      " City number:194 ribeira brava\n",
      " City number:195 tiarei\n",
      " City number:196 clyde river\n",
      " City number:197 gizo\n",
      " City number:198 wanlaweyn\n",
      " City number:199 norman wells\n",
      " City number:200 xining\n",
      " City number:201 neuquen\n",
      " City number:202 itarema\n",
      " City number:203 coihueco\n",
      " City number:204 saint-augustin\n",
      " City number:205 malanje\n",
      " City number:206 padang\n",
      " City number:207 vilyuysk\n",
      " City number:208 cartagena\n",
      " City number:209 chokurdakh\n",
      " City number:210 nikolskoye\n",
      " City number:211 sitka\n",
      " City number:212 bambous virieux\n",
      " City number:213 chute-aux-outardes\n",
      " City number:214 longyearbyen\n",
      " City number:215 kaeo\n",
      " City number:216 severo-kurilsk\n",
      " City number:217 wilmington\n",
      " City number:218 te anau\n",
      " City number:219 chuy\n",
      " City number:220 lasa\n",
      " City number:221 lazaro cardenas\n",
      " City number:222 kuusamo\n",
      " City number:223 goroka\n",
      " City number:224 pacific grove\n",
      "Country not found\n",
      " City number:225 glendive\n",
      " City number:226 half moon bay\n",
      " City number:227 saskylakh\n",
      " City number:228 grand baie\n",
      " City number:229 torbay\n",
      " City number:230 imeni poliny osipenko\n",
      " City number:231 mehamn\n",
      " City number:232 mochudi\n",
      " City number:233 leh\n",
      " City number:234 najran\n",
      " City number:235 sao filipe\n",
      " City number:236 evensk\n",
      " City number:237 skibbereen\n",
      " City number:238 yarkovo\n",
      " City number:239 kadyy\n",
      " City number:240 hasaki\n",
      " City number:241 mount gambier\n",
      " City number:242 batie\n",
      "Country not found\n",
      " City number:243 brae\n",
      " City number:244 morro bay\n",
      " City number:245 inirida\n",
      " City number:246 calvinia\n",
      " City number:247 nikolayevka\n",
      " City number:248 izhma\n",
      " City number:249 melfi\n",
      " City number:250 owando\n",
      " City number:251 nishihara\n",
      " City number:252 ibra\n",
      " City number:253 cap malheureux\n",
      " City number:254 vila franca do campo\n",
      " City number:255 ribeira grande\n",
      " City number:256 lobito\n",
      " City number:257 palmer\n",
      " City number:258 matara\n",
      " City number:259 phuket\n",
      " City number:260 goderich\n",
      " City number:261 linxia\n",
      " City number:262 vao\n",
      " City number:263 leeuwarden\n",
      " City number:264 klyuchi\n",
      " City number:265 maroantsetra\n",
      " City number:266 raudeberg\n",
      " City number:267 beisfjord\n",
      " City number:268 puerto leguizamo\n",
      " City number:269 isla mujeres\n",
      " City number:270 taltal\n",
      " City number:271 nagod\n",
      " City number:272 mwinilunga\n",
      " City number:273 sabang\n",
      " City number:274 puteyets\n",
      " City number:275 prieska\n",
      " City number:276 caluquembe\n",
      " City number:277 valavanur\n",
      " City number:278 biak\n",
      " City number:279 port moresby\n",
      " City number:280 san pedro\n",
      " City number:281 los llanos de aridane\n",
      " City number:282 tuktoyaktuk\n",
      "Country not found\n",
      " City number:283 kaura namoda\n",
      "Country not found\n",
      " City number:284 santa lucia\n",
      " City number:285 cabo san lucas\n",
      " City number:286 alofi\n",
      " City number:287 udachnyy\n",
      "Country not found\n",
      "Country not found\n",
      "Country not found\n",
      " City number:288 tilichiki\n",
      "Country not found\n",
      " City number:289 faya\n",
      " City number:290 westport\n",
      " City number:291 caravelas\n",
      " City number:292 ayolas\n",
      " City number:293 beloha\n",
      " City number:294 hambantota\n",
      " City number:295 chapais\n",
      " City number:296 pangkalanbuun\n",
      " City number:297 northam\n",
      " City number:298 mecca\n",
      " City number:299 barabai\n",
      " City number:300 bogdanita\n",
      " City number:301 pudozh\n",
      " City number:302 jadu\n",
      " City number:303 awbari\n",
      " City number:304 pangody\n",
      " City number:305 ixtapa\n",
      " City number:306 samarai\n",
      " City number:307 dahuk\n",
      " City number:308 tautira\n",
      " City number:309 rio grande\n",
      " City number:310 lircay\n",
      " City number:311 macau\n",
      " City number:312 maniitsoq\n",
      " City number:313 havre-saint-pierre\n",
      " City number:314 keita\n",
      " City number:315 yuanping\n",
      " City number:316 upington\n",
      " City number:317 kautokeino\n",
      " City number:318 dax\n",
      " City number:319 changping\n",
      " City number:320 banda aceh\n",
      " City number:321 galle\n",
      " City number:322 matamoros\n",
      " City number:323 aguimes\n",
      " City number:324 khovu-aksy\n",
      " City number:325 atar\n",
      " City number:326 labuhan\n",
      " City number:327 flinders\n",
      " City number:328 krasnoselkup\n",
      " City number:329 burns lake\n",
      " City number:330 margate\n",
      " City number:331 kattivakkam\n",
      " City number:332 ola\n",
      " City number:333 virginia beach\n",
      " City number:334 bohodukhiv\n",
      " City number:335 lagoa\n",
      "Country not found\n",
      " City number:336 deputatskiy\n",
      " City number:337 curup\n",
      " City number:338 misratah\n",
      " City number:339 buin\n",
      "Country not found\n",
      " City number:340 faanui\n",
      " City number:341 kowary\n",
      " City number:342 pirgos\n",
      "Country not found\n",
      " City number:343 yerbogachen\n",
      " City number:344 wanning\n",
      " City number:345 baghdad\n",
      " City number:346 imbituba\n",
      "Country not found\n",
      " City number:347 rudnyy\n",
      " City number:348 pozo colorado\n",
      " City number:349 vardo\n",
      " City number:350 lake wales\n",
      " City number:351 huadian\n",
      " City number:352 lavrentiya\n",
      " City number:353 tromso\n",
      " City number:354 sindgi\n",
      "Country not found\n",
      " City number:355 ashtabula\n",
      " City number:356 qaqortoq\n",
      " City number:357 husavik\n",
      " City number:358 oranjemund\n",
      " City number:359 qandala\n",
      "Country not found\n",
      " City number:360 kavaratti\n",
      " City number:361 minna\n",
      " City number:362 broome\n",
      "Country not found\n",
      " City number:363 turukhansk\n",
      " City number:364 tigzirt\n",
      " City number:365 san patricio\n",
      " City number:366 cidreira\n",
      " City number:367 aliwal north\n",
      " City number:368 ratlam\n",
      " City number:369 petranka\n",
      " City number:370 ust-kulom\n",
      " City number:371 saint-paul\n",
      " City number:372 nipawin\n",
      " City number:373 pyinmana\n",
      " City number:374 general pico\n",
      "Country not found\n",
      " City number:375 nanakuli\n",
      " City number:376 egvekinot\n",
      " City number:377 xuddur\n",
      " City number:378 blagoyevo\n",
      " City number:379 russell\n",
      "Country not found\n",
      " City number:380 constitucion\n",
      " City number:381 hargeysa\n",
      " City number:382 san cristobal\n",
      " City number:383 braganca\n",
      " City number:384 rawlins\n",
      " City number:385 pyapon\n",
      " City number:386 katherine\n",
      " City number:387 gondanglegi\n",
      " City number:388 coihaique\n",
      "Country not found\n",
      "Country not found\n",
      " City number:389 port hardy\n",
      "Country not found\n",
      " City number:390 bambanglipuro\n",
      " City number:391 mokhsogollokh\n",
      " City number:392 grevenmacher\n",
      " City number:393 thunder bay\n",
      " City number:394 tiznit\n",
      " City number:395 harper\n",
      " City number:396 ulaangom\n",
      " City number:397 zheleznodorozhnyy\n",
      " City number:398 tabou\n",
      " City number:399 cukai\n",
      " City number:400 poum\n",
      " City number:401 yarada\n",
      " City number:402 vestmanna\n",
      " City number:403 apac\n",
      "Country not found\n",
      " City number:404 port-cartier\n",
      " City number:405 komsomolskiy\n",
      " City number:406 kaitangata\n",
      " City number:407 molochnoye\n",
      " City number:408 mackenzie\n",
      " City number:409 durango\n",
      " City number:410 bereda\n",
      " City number:411 sisimiut\n",
      " City number:412 kurumkan\n",
      "Country not found\n",
      " City number:413 kruisfontein\n",
      " City number:414 casa branca\n",
      " City number:415 grahamstown\n",
      " City number:416 murmashi\n",
      " City number:417 noumea\n",
      " City number:418 boda\n",
      " City number:419 manado\n",
      " City number:420 college\n",
      "Country not found\n",
      " City number:421 bodden town\n",
      " City number:422 nara\n",
      " City number:423 avera\n",
      " City number:424 dori\n",
      "Country not found\n",
      "Country not found\n",
      " City number:425 hurghada\n",
      " City number:426 fene\n",
      " City number:427 taraz\n",
      " City number:428 miles city\n",
      " City number:429 darhan\n",
      " City number:430 klaksvik\n",
      " City number:431 sala\n",
      " City number:432 tigil\n",
      " City number:433 pemangkat\n",
      " City number:434 sola\n",
      " City number:435 fayaoue\n",
      " City number:436 garoua\n",
      " City number:437 la crosse\n",
      " City number:438 tsabong\n",
      " City number:439 yumen\n",
      " City number:440 broken hill\n",
      " City number:441 yarovoye\n",
      "Country not found\n",
      " City number:442 hamilton\n",
      " City number:443 rabaul\n",
      " City number:444 tura\n",
      " City number:445 cabedelo\n",
      " City number:446 macusani\n",
      " City number:447 cockburn town\n",
      " City number:448 sur\n",
      "Country not found\n",
      " City number:449 buala\n",
      " City number:450 itoman\n",
      " City number:451 besancon\n",
      " City number:452 miri\n",
      " City number:453 wamba\n",
      " City number:454 birjand\n",
      " City number:455 ak-dovurak\n",
      " City number:456 sept-iles\n",
      " City number:457 nam som\n",
      " City number:458 tyrma\n",
      " City number:459 carutapera\n",
      " City number:460 colares\n",
      " City number:461 at-bashi\n",
      " City number:462 takhtamygda\n",
      " City number:463 leopold\n",
      " City number:464 spisske podhradie\n",
      " City number:465 barraute\n",
      " City number:466 aykhal\n",
      " City number:467 kahului\n",
      " City number:468 pizarro\n",
      " City number:469 alihe\n",
      " City number:470 canatlan\n",
      " City number:471 hof\n",
      " City number:472 the valley\n",
      " City number:473 kuytun\n",
      " City number:474 paka\n",
      " City number:475 quepos\n",
      " City number:476 batagay\n",
      " City number:477 ikalamavony\n",
      " City number:478 vila velha\n",
      " City number:479 maine-soroa\n",
      " City number:480 kotelnikovo\n",
      " City number:481 amazar\n",
      " City number:482 wladyslawowo\n",
      " City number:483 zyryanovsk\n",
      "Country not found\n",
      " City number:484 mogadishu\n",
      " City number:485 sonoita\n",
      " City number:486 never\n",
      " City number:487 north charleston\n",
      " City number:488 pangnirtung\n",
      " City number:489 pacifica\n",
      " City number:490 conceicao do almeida\n",
      " City number:491 aswan\n",
      " City number:492 campo de criptana\n",
      " City number:493 ust-ishim\n",
      " City number:494 shelburne\n",
      " City number:495 pangoa\n",
      " City number:496 tartagal\n",
      " City number:497 rosario oeste\n",
      " City number:498 rocha\n",
      " City number:499 mabaruma\n",
      " City number:500 sinnai\n",
      " City number:501 kununurra\n",
      " City number:502 la asuncion\n",
      " City number:503 yermakovskoye\n",
      " City number:504 alim\n",
      " City number:505 ndele\n",
      " City number:506 ashland\n",
      " City number:507 pierre\n",
      " City number:508 marica\n",
      " City number:509 novopavlovsk\n",
      " City number:510 nemuro\n",
      " City number:511 inongo\n",
      " City number:512 tokoname\n",
      " City number:513 antalaha\n",
      " City number:514 denpasar\n",
      " City number:515 kembolcha\n",
      " City number:516 aklavik\n",
      " City number:517 acapulco\n",
      " City number:518 marystown\n",
      " City number:519 kuwana\n",
      " City number:520 oranjestad\n",
      " City number:521 bakchar\n",
      " City number:522 lata\n",
      " City number:523 anadyr\n",
      " City number:524 balkanabat\n",
      " City number:525 aguilas\n",
      " City number:526 grand-santi\n",
      " City number:527 kuminskiy\n",
      " City number:528 kajaani\n",
      " City number:529 natal\n",
      " City number:530 escarcega\n",
      " City number:531 migori\n",
      " City number:532 colombo\n",
      " City number:533 flin flon\n",
      " City number:534 dunedin\n",
      " City number:535 miraflores\n",
      " City number:536 shangrao\n",
      " City number:537 price\n",
      " City number:538 oktyabrskiy\n",
      " City number:539 ismailia\n",
      " City number:540 leningradskiy\n",
      "Country not found\n",
      " City number:541 dire dawa\n",
      " City number:542 kemijarvi\n",
      " City number:543 tullamore\n",
      " City number:544 kholodnyy\n",
      " City number:545 kirakira\n",
      " City number:546 tucumcari\n",
      " City number:547 amalner\n",
      " City number:548 vrises\n",
      " City number:549 grindavik\n",
      " City number:550 ukiah\n",
      " City number:551 alta floresta\n",
      " City number:552 chipinge\n",
      " City number:553 igbo ora\n",
      " City number:554 grimshaw\n",
      " City number:555 marialva\n",
      " City number:556 kenai\n",
      " City number:557 agadez\n",
      " City number:558 baykit\n",
      " City number:559 dillon\n",
      " City number:560 port lincoln\n",
      " City number:561 mattru\n",
      " City number:562 port keats\n",
      " City number:563 sosva\n",
      "Country not found\n",
      " City number:564 juan lacaze\n",
      " City number:565 kutum\n",
      " City number:566 palazzolo acreide\n",
      " City number:567 santa maria\n",
      " City number:568 usinsk\n",
      " City number:569 edson\n",
      " City number:570 olean\n",
      " City number:571 port blair\n",
      " City number:572 madang\n",
      " City number:573 buraydah\n",
      " City number:574 ambilobe\n"
     ]
    }
   ],
   "source": [
    "# Save config information.\n",
    "base = \"http://api.openweathermap.org/data/2.5/weather?\" \n",
    "units = \"metric\"\n",
    "ncity = 1\n",
    "\n",
    "city_data = []\n",
    "\n",
    "for city in cities:\n",
    "    url = f'{base}appid={weather_api_key}&units={units}&q='\n",
    "    \n",
    "    try:\n",
    "        response = requests.get(url + city).json()\n",
    "        country = response[\"sys\"][\"country\"]\n",
    "        latitude= response[\"coord\"][\"lat\"]\n",
    "        longitude =response[\"coord\"][\"lon\"]\n",
    "        temperature = response[\"main\"][\"temp\"]\n",
    "        humidity =response[\"main\"][\"humidity\"]\n",
    "        cloudiness= response[\"clouds\"][\"all\"]\n",
    "        wind_speed=response[\"wind\"][\"speed\"]\n",
    "        city_data.append({\"City\":city, \"Country\": country, 'Latitude':latitude, \n",
    "                          \"Longitude\": longitude, \"Temperature\": temperature, \"Humidity\": humidity,\n",
    "                         \"Cloudiness\": cloudiness, \"Windspeed\": wind_speed})\n",
    "        \n",
    "        print(f\" City number:{ncity} {city}\")\n",
    "        \n",
    "        ncity +=1\n",
    "    \n",
    "    except:\n",
    "        print(\"Country not found\")\n",
    "\n",
    "\n"
   ]
  },
  {
   "cell_type": "code",
   "execution_count": 9,
   "metadata": {},
   "outputs": [
    {
     "data": {
      "text/html": [
       "<div>\n",
       "<style scoped>\n",
       "    .dataframe tbody tr th:only-of-type {\n",
       "        vertical-align: middle;\n",
       "    }\n",
       "\n",
       "    .dataframe tbody tr th {\n",
       "        vertical-align: top;\n",
       "    }\n",
       "\n",
       "    .dataframe thead th {\n",
       "        text-align: right;\n",
       "    }\n",
       "</style>\n",
       "<table border=\"1\" class=\"dataframe\">\n",
       "  <thead>\n",
       "    <tr style=\"text-align: right;\">\n",
       "      <th></th>\n",
       "      <th>City</th>\n",
       "      <th>Country</th>\n",
       "      <th>Latitude</th>\n",
       "      <th>Longitude</th>\n",
       "      <th>Temperature</th>\n",
       "      <th>Humidity</th>\n",
       "      <th>Cloudiness</th>\n",
       "      <th>Windspeed</th>\n",
       "    </tr>\n",
       "  </thead>\n",
       "  <tbody>\n",
       "    <tr>\n",
       "      <th>0</th>\n",
       "      <td>arraial do cabo</td>\n",
       "      <td>BR</td>\n",
       "      <td>-22.9661</td>\n",
       "      <td>-42.0278</td>\n",
       "      <td>84.20</td>\n",
       "      <td>70</td>\n",
       "      <td>0</td>\n",
       "      <td>5.66</td>\n",
       "    </tr>\n",
       "    <tr>\n",
       "      <th>1</th>\n",
       "      <td>lorengau</td>\n",
       "      <td>PG</td>\n",
       "      <td>-2.0226</td>\n",
       "      <td>147.2712</td>\n",
       "      <td>80.89</td>\n",
       "      <td>81</td>\n",
       "      <td>100</td>\n",
       "      <td>5.50</td>\n",
       "    </tr>\n",
       "    <tr>\n",
       "      <th>2</th>\n",
       "      <td>jamestown</td>\n",
       "      <td>US</td>\n",
       "      <td>42.0970</td>\n",
       "      <td>-79.2353</td>\n",
       "      <td>16.38</td>\n",
       "      <td>79</td>\n",
       "      <td>1</td>\n",
       "      <td>3.60</td>\n",
       "    </tr>\n",
       "    <tr>\n",
       "      <th>3</th>\n",
       "      <td>ternate</td>\n",
       "      <td>ID</td>\n",
       "      <td>0.8000</td>\n",
       "      <td>127.4000</td>\n",
       "      <td>82.17</td>\n",
       "      <td>80</td>\n",
       "      <td>68</td>\n",
       "      <td>1.97</td>\n",
       "    </tr>\n",
       "    <tr>\n",
       "      <th>4</th>\n",
       "      <td>bengkulu</td>\n",
       "      <td>ID</td>\n",
       "      <td>-3.8004</td>\n",
       "      <td>102.2655</td>\n",
       "      <td>78.98</td>\n",
       "      <td>83</td>\n",
       "      <td>99</td>\n",
       "      <td>1.02</td>\n",
       "    </tr>\n",
       "    <tr>\n",
       "      <th>...</th>\n",
       "      <td>...</td>\n",
       "      <td>...</td>\n",
       "      <td>...</td>\n",
       "      <td>...</td>\n",
       "      <td>...</td>\n",
       "      <td>...</td>\n",
       "      <td>...</td>\n",
       "      <td>...</td>\n",
       "    </tr>\n",
       "    <tr>\n",
       "      <th>569</th>\n",
       "      <td>olean</td>\n",
       "      <td>US</td>\n",
       "      <td>42.0776</td>\n",
       "      <td>-78.4297</td>\n",
       "      <td>15.89</td>\n",
       "      <td>92</td>\n",
       "      <td>90</td>\n",
       "      <td>1.54</td>\n",
       "    </tr>\n",
       "    <tr>\n",
       "      <th>570</th>\n",
       "      <td>port blair</td>\n",
       "      <td>IN</td>\n",
       "      <td>11.6667</td>\n",
       "      <td>92.7500</td>\n",
       "      <td>77.88</td>\n",
       "      <td>66</td>\n",
       "      <td>0</td>\n",
       "      <td>3.98</td>\n",
       "    </tr>\n",
       "    <tr>\n",
       "      <th>571</th>\n",
       "      <td>madang</td>\n",
       "      <td>PG</td>\n",
       "      <td>-5.2246</td>\n",
       "      <td>145.7966</td>\n",
       "      <td>77.04</td>\n",
       "      <td>88</td>\n",
       "      <td>100</td>\n",
       "      <td>1.94</td>\n",
       "    </tr>\n",
       "    <tr>\n",
       "      <th>572</th>\n",
       "      <td>buraydah</td>\n",
       "      <td>SA</td>\n",
       "      <td>26.3260</td>\n",
       "      <td>43.9750</td>\n",
       "      <td>75.20</td>\n",
       "      <td>38</td>\n",
       "      <td>0</td>\n",
       "      <td>1.03</td>\n",
       "    </tr>\n",
       "    <tr>\n",
       "      <th>573</th>\n",
       "      <td>ambilobe</td>\n",
       "      <td>MG</td>\n",
       "      <td>-13.2000</td>\n",
       "      <td>49.0500</td>\n",
       "      <td>81.48</td>\n",
       "      <td>84</td>\n",
       "      <td>99</td>\n",
       "      <td>1.20</td>\n",
       "    </tr>\n",
       "  </tbody>\n",
       "</table>\n",
       "<p>574 rows × 8 columns</p>\n",
       "</div>"
      ],
      "text/plain": [
       "                City Country  Latitude  Longitude  Temperature  Humidity  \\\n",
       "0    arraial do cabo      BR  -22.9661   -42.0278        84.20        70   \n",
       "1           lorengau      PG   -2.0226   147.2712        80.89        81   \n",
       "2          jamestown      US   42.0970   -79.2353        16.38        79   \n",
       "3            ternate      ID    0.8000   127.4000        82.17        80   \n",
       "4           bengkulu      ID   -3.8004   102.2655        78.98        83   \n",
       "..               ...     ...       ...        ...          ...       ...   \n",
       "569            olean      US   42.0776   -78.4297        15.89        92   \n",
       "570       port blair      IN   11.6667    92.7500        77.88        66   \n",
       "571           madang      PG   -5.2246   145.7966        77.04        88   \n",
       "572         buraydah      SA   26.3260    43.9750        75.20        38   \n",
       "573         ambilobe      MG  -13.2000    49.0500        81.48        84   \n",
       "\n",
       "     Cloudiness  Windspeed  \n",
       "0             0       5.66  \n",
       "1           100       5.50  \n",
       "2             1       3.60  \n",
       "3            68       1.97  \n",
       "4            99       1.02  \n",
       "..          ...        ...  \n",
       "569          90       1.54  \n",
       "570           0       3.98  \n",
       "571         100       1.94  \n",
       "572           0       1.03  \n",
       "573          99       1.20  \n",
       "\n",
       "[574 rows x 8 columns]"
      ]
     },
     "execution_count": 9,
     "metadata": {},
     "output_type": "execute_result"
    }
   ],
   "source": [
    "weatherdf =pd.DataFrame(city_data)\n",
    "weatherdf[\"Temperature\"] = round(1.8 * weatherdf['Temperature'] + 32,2)\n",
    "weatherdf"
   ]
  },
  {
   "cell_type": "markdown",
   "metadata": {},
   "source": [
    "## Inspect the data and remove the cities where the humidity > 100%.\n",
    "----\n",
    "Skip this step if there are no cities that have humidity > 100%. "
   ]
  },
  {
   "cell_type": "code",
   "execution_count": 10,
   "metadata": {},
   "outputs": [
    {
     "data": {
      "text/html": [
       "<div>\n",
       "<style scoped>\n",
       "    .dataframe tbody tr th:only-of-type {\n",
       "        vertical-align: middle;\n",
       "    }\n",
       "\n",
       "    .dataframe tbody tr th {\n",
       "        vertical-align: top;\n",
       "    }\n",
       "\n",
       "    .dataframe thead th {\n",
       "        text-align: right;\n",
       "    }\n",
       "</style>\n",
       "<table border=\"1\" class=\"dataframe\">\n",
       "  <thead>\n",
       "    <tr style=\"text-align: right;\">\n",
       "      <th></th>\n",
       "      <th>City</th>\n",
       "      <th>Country</th>\n",
       "      <th>Latitude</th>\n",
       "      <th>Longitude</th>\n",
       "      <th>Temperature</th>\n",
       "      <th>Humidity</th>\n",
       "      <th>Cloudiness</th>\n",
       "      <th>Windspeed</th>\n",
       "    </tr>\n",
       "  </thead>\n",
       "  <tbody>\n",
       "  </tbody>\n",
       "</table>\n",
       "</div>"
      ],
      "text/plain": [
       "Empty DataFrame\n",
       "Columns: [City, Country, Latitude, Longitude, Temperature, Humidity, Cloudiness, Windspeed]\n",
       "Index: []"
      ]
     },
     "execution_count": 10,
     "metadata": {},
     "output_type": "execute_result"
    }
   ],
   "source": [
    "#no cities over 100% humidity\n",
    "overhum = weatherdf[weatherdf[\"Humidity\"]>100]\n",
    "overhum"
   ]
  },
  {
   "cell_type": "code",
   "execution_count": 11,
   "metadata": {},
   "outputs": [],
   "source": [
    "#  Get the indices of cities that have humidity over 100%.\n",
    "#N/A"
   ]
  },
  {
   "cell_type": "code",
   "execution_count": 12,
   "metadata": {},
   "outputs": [],
   "source": [
    "# Make a new DataFrame equal to the city data to drop all humidity outliers by index.\n",
    "# Passing \"inplace=False\" will make a copy of the city_data DataFrame, which we call \"clean_city_data\".\n"
   ]
  },
  {
   "cell_type": "code",
   "execution_count": 13,
   "metadata": {},
   "outputs": [],
   "source": [
    "#N/A"
   ]
  },
  {
   "cell_type": "markdown",
   "metadata": {},
   "source": [
    "## Plotting the Data\n",
    "* Use proper labeling of the plots using plot titles (including date of analysis) and axes labels.\n",
    "* Save the plotted figures as .pngs."
   ]
  },
  {
   "cell_type": "markdown",
   "metadata": {},
   "source": [
    "## Latitude vs. Temperature Plot"
   ]
  },
  {
   "cell_type": "code",
   "execution_count": 14,
   "metadata": {
    "scrolled": true
   },
   "outputs": [
    {
     "data": {
      "image/png": "[encoded data removed]",
      "text/plain": [
       "<Figure size 432x288 with 1 Axes>"
      ]
     },
     "metadata": {
      "needs_background": "light"
     },
     "output_type": "display_data"
    }
   ],
   "source": [
    "#scatterplot Temp vs Latitude\n",
    "\n",
    "plt.scatter(weatherdf[\"Latitude\"], weatherdf[\"Temperature\"], facecolors = 'blue', marker = 'o')\n",
    "\n",
    "plt.title(\"City Latitude vs Temperature (F)\")\n",
    "plt.xlabel(\"City Latitude\")\n",
    "plt.ylabel(\"City Temperature (F)\")\n",
    "\n",
    "plt.show()\n",
    "#Observation: The closer the city is to the equator, the higher the temperature. \n",
    "#Also, the northern hemisphere cities are getting colder than the southern hemispherer cities.\n",
    "#Factors to consider:  Winter vs Summer in the hemispheres."
   ]
  },
  {
   "cell_type": "markdown",
   "metadata": {},
   "source": [
    "## Latitude vs. Humidity Plot"
   ]
  },
  {
   "cell_type": "code",
   "execution_count": 15,
   "metadata": {},
   "outputs": [
    {
     "data": {
      "image/png": "[encoded data removed]",
      "text/plain": [
       "<Figure size 432x288 with 1 Axes>"
      ]
     },
     "metadata": {
      "needs_background": "light"
     },
     "output_type": "display_data"
    }
   ],
   "source": [
    "plt.scatter(weatherdf[\"Latitude\"], weatherdf[\"Humidity\"], facecolors = 'blue', marker = 'o')\n",
    "\n",
    "plt.title(\"Latitude vs Humidity %\")\n",
    "plt.xlabel(\"City Latitude\")\n",
    "plt.ylabel(\"City Humidity %\")\n",
    "\n",
    "plt.show()\n",
    "#Observation: The cities closest to the equator does not necessarily mean the humidity percentage is higher.  \n",
    "#If fact, some cities closer to the equator are less humidity right now than other cities. \n",
    "#Factors to consider:  Winter vs Summer in the hemispheres."
   ]
  },
  {
   "cell_type": "markdown",
   "metadata": {},
   "source": [
    "## Latitude vs. Cloudiness Plot"
   ]
  },
  {
   "cell_type": "code",
   "execution_count": 16,
   "metadata": {},
   "outputs": [
    {
     "data": {
      "image/png": "[encoded data removed]",
      "text/plain": [
       "<Figure size 432x288 with 1 Axes>"
      ]
     },
     "metadata": {
      "needs_background": "light"
     },
     "output_type": "display_data"
    }
   ],
   "source": [
    "plt.scatter(weatherdf[\"Latitude\"], weatherdf[\"Cloudiness\"], facecolors = 'blue', marker = 'o')\n",
    "\n",
    "plt.title(\"Latitude vs Cloudiness %\")\n",
    "plt.xlabel(\"City Latitude\")\n",
    "plt.ylabel(\"Cloudiness %\")\n",
    "\n",
    "plt.show()\n",
    "#Observations: Cities tend to have more 0% cloudiness or 100% than anything in between no matter the city's latitude."
   ]
  },
  {
   "cell_type": "markdown",
   "metadata": {},
   "source": [
    "## Latitude vs. Wind Speed Plot"
   ]
  },
  {
   "cell_type": "code",
   "execution_count": 17,
   "metadata": {},
   "outputs": [
    {
     "data": {
      "image/png": "[encoded data removed]",
      "text/plain": [
       "<Figure size 432x288 with 1 Axes>"
      ]
     },
     "metadata": {
      "needs_background": "light"
     },
     "output_type": "display_data"
    }
   ],
   "source": [
    "plt.scatter(weatherdf[\"Latitude\"], weatherdf[\"Windspeed\"], facecolors = 'blue', marker = 'o')\n",
    "\n",
    "plt.title(\"Latitude vs Wind Speed (mph)\")\n",
    "plt.xlabel(\"City Latitude\")\n",
    "plt.ylabel(\"Wind Speed (mph)\")\n",
    "\n",
    "plt.show()\n",
    "#Observations: The city's latitude does not have a high correlation with the wind speed in that city. Most city's wind blows at about 5mph or lower each day."
   ]
  },
  {
   "cell_type": "markdown",
   "metadata": {},
   "source": [
    "## Linear Regression"
   ]
  },
  {
   "cell_type": "code",
   "execution_count": 18,
   "metadata": {},
   "outputs": [],
   "source": [
    "#dataframe for just North Hemisphere\n",
    "northtemp = weatherdf[weatherdf[\"Latitude\"]>0]"
   ]
  },
  {
   "cell_type": "markdown",
   "metadata": {},
   "source": [
    "####  Northern Hemisphere - Max Temp vs. Latitude Linear Regression"
   ]
  },
  {
   "cell_type": "code",
   "execution_count": 19,
   "metadata": {},
   "outputs": [
    {
     "name": "stdout",
     "output_type": "stream",
     "text": [
      "y = -1.6x +99.76\n"
     ]
    },
    {
     "data": {
      "text/plain": [
       "LinregressResult(slope=-1.5972131871754456, intercept=99.7562362041954, rvalue=-0.8819830627701872, pvalue=4.0105555604330505e-131, stderr=0.04294218309657472)"
      ]
     },
     "execution_count": 19,
     "metadata": {},
     "output_type": "execute_result"
    }
   ],
   "source": [
    "#define the axis\n",
    "x_values = northtemp['Latitude']\n",
    "y_values = northtemp['Temperature']\n",
    "\n",
    "# Perform a linear regression on temperature vs. latitude\n",
    "(slope, intercept, rvalue, pvalue, stderr) = stats.linregress(x_values, y_values)\n",
    "\n",
    "#define regression values\n",
    "regress_values = x_values * slope + intercept\n",
    "#print(regress_values)\n",
    "line_eq = \"y = \" + str(round(slope,2)) + \"x +\" + str(round(intercept,2))\n",
    "print(line_eq)\n",
    "stats.linregress(x_values, y_values)"
   ]
  },
  {
   "cell_type": "code",
   "execution_count": 20,
   "metadata": {},
   "outputs": [
    {
     "name": "stdout",
     "output_type": "stream",
     "text": [
      "The r value is: 0.77789412301348\n"
     ]
    },
    {
     "data": {
      "image/png": "[encoded data removed]",
      "text/plain": [
       "<Figure size 432x288 with 1 Axes>"
      ]
     },
     "metadata": {
      "needs_background": "light"
     },
     "output_type": "display_data"
    }
   ],
   "source": [
    "plt.plot(x_values,regress_values,\"r-\")\n",
    "\n",
    "# Label plot and annotate the line equation\n",
    "plt.title(\"North Hemisphere: City Latitude vs Temperature (F)\")\n",
    "plt.xlabel(' City Latitude')\n",
    "plt.ylabel('City Temperature (F)')\n",
    "plt.annotate(line_eq,(20,15),fontsize=16,color=\"blue\")\n",
    "\n",
    "# Print r value by squaring it\n",
    "print(f\"The r value is: {rvalue**2}\")\n",
    "\n",
    "# Show plot\n",
    "plt.show()\n",
    "\n",
    "#Answer : This is modeling the temperature changing at -1.47 Farhenheit for each degree in latitude it is away from the hottest city (closest to equator) in the Northern hemisphere."
   ]
  },
  {
   "cell_type": "code",
   "execution_count": 21,
   "metadata": {},
   "outputs": [
    {
     "data": {
      "image/png": "[encoded data removed]",
      "text/plain": [
       "<Figure size 432x288 with 1 Axes>"
      ]
     },
     "metadata": {
      "needs_background": "light"
     },
     "output_type": "display_data"
    }
   ],
   "source": [
    "plt.scatter(x_values, y_values, facecolors = 'blue', marker = 'o')\n",
    "plt.title(\"North Hemisphere: City Latitude vs Temperature (F)\")\n",
    "plt.xlabel(\"City Latitude\")\n",
    "plt.ylabel(\"City Temperature (F)\")\n",
    "\n",
    "plt.show()\n",
    "#Observations: The further away from the equator, the colder the temperature. (drops in a linear way) "
   ]
  },
  {
   "cell_type": "markdown",
   "metadata": {},
   "source": [
    "####  Southern Hemisphere - Max Temp vs. Latitude Linear Regression"
   ]
  },
  {
   "cell_type": "code",
   "execution_count": 22,
   "metadata": {},
   "outputs": [
    {
     "data": {
      "text/html": [
       "<div>\n",
       "<style scoped>\n",
       "    .dataframe tbody tr th:only-of-type {\n",
       "        vertical-align: middle;\n",
       "    }\n",
       "\n",
       "    .dataframe tbody tr th {\n",
       "        vertical-align: top;\n",
       "    }\n",
       "\n",
       "    .dataframe thead th {\n",
       "        text-align: right;\n",
       "    }\n",
       "</style>\n",
       "<table border=\"1\" class=\"dataframe\">\n",
       "  <thead>\n",
       "    <tr style=\"text-align: right;\">\n",
       "      <th></th>\n",
       "      <th>City</th>\n",
       "      <th>Country</th>\n",
       "      <th>Latitude</th>\n",
       "      <th>Longitude</th>\n",
       "      <th>Temperature</th>\n",
       "      <th>Humidity</th>\n",
       "      <th>Cloudiness</th>\n",
       "      <th>Windspeed</th>\n",
       "    </tr>\n",
       "  </thead>\n",
       "  <tbody>\n",
       "    <tr>\n",
       "      <th>0</th>\n",
       "      <td>arraial do cabo</td>\n",
       "      <td>BR</td>\n",
       "      <td>-22.9661</td>\n",
       "      <td>-42.0278</td>\n",
       "      <td>84.20</td>\n",
       "      <td>70</td>\n",
       "      <td>0</td>\n",
       "      <td>5.66</td>\n",
       "    </tr>\n",
       "    <tr>\n",
       "      <th>1</th>\n",
       "      <td>lorengau</td>\n",
       "      <td>PG</td>\n",
       "      <td>-2.0226</td>\n",
       "      <td>147.2712</td>\n",
       "      <td>80.89</td>\n",
       "      <td>81</td>\n",
       "      <td>100</td>\n",
       "      <td>5.50</td>\n",
       "    </tr>\n",
       "    <tr>\n",
       "      <th>4</th>\n",
       "      <td>bengkulu</td>\n",
       "      <td>ID</td>\n",
       "      <td>-3.8004</td>\n",
       "      <td>102.2655</td>\n",
       "      <td>78.98</td>\n",
       "      <td>83</td>\n",
       "      <td>99</td>\n",
       "      <td>1.02</td>\n",
       "    </tr>\n",
       "    <tr>\n",
       "      <th>7</th>\n",
       "      <td>guayaramerin</td>\n",
       "      <td>BO</td>\n",
       "      <td>-10.8368</td>\n",
       "      <td>-65.3614</td>\n",
       "      <td>75.20</td>\n",
       "      <td>88</td>\n",
       "      <td>75</td>\n",
       "      <td>0.51</td>\n",
       "    </tr>\n",
       "    <tr>\n",
       "      <th>8</th>\n",
       "      <td>bluff</td>\n",
       "      <td>NZ</td>\n",
       "      <td>-46.6000</td>\n",
       "      <td>168.3333</td>\n",
       "      <td>53.24</td>\n",
       "      <td>75</td>\n",
       "      <td>85</td>\n",
       "      <td>6.88</td>\n",
       "    </tr>\n",
       "    <tr>\n",
       "      <th>...</th>\n",
       "      <td>...</td>\n",
       "      <td>...</td>\n",
       "      <td>...</td>\n",
       "      <td>...</td>\n",
       "      <td>...</td>\n",
       "      <td>...</td>\n",
       "      <td>...</td>\n",
       "      <td>...</td>\n",
       "    </tr>\n",
       "    <tr>\n",
       "      <th>561</th>\n",
       "      <td>port keats</td>\n",
       "      <td>AU</td>\n",
       "      <td>-14.2500</td>\n",
       "      <td>129.5500</td>\n",
       "      <td>82.09</td>\n",
       "      <td>82</td>\n",
       "      <td>83</td>\n",
       "      <td>4.12</td>\n",
       "    </tr>\n",
       "    <tr>\n",
       "      <th>563</th>\n",
       "      <td>juan lacaze</td>\n",
       "      <td>UY</td>\n",
       "      <td>-34.4342</td>\n",
       "      <td>-57.4381</td>\n",
       "      <td>77.00</td>\n",
       "      <td>69</td>\n",
       "      <td>75</td>\n",
       "      <td>3.60</td>\n",
       "    </tr>\n",
       "    <tr>\n",
       "      <th>566</th>\n",
       "      <td>santa maria</td>\n",
       "      <td>BR</td>\n",
       "      <td>-29.6842</td>\n",
       "      <td>-53.8069</td>\n",
       "      <td>73.40</td>\n",
       "      <td>88</td>\n",
       "      <td>75</td>\n",
       "      <td>2.06</td>\n",
       "    </tr>\n",
       "    <tr>\n",
       "      <th>571</th>\n",
       "      <td>madang</td>\n",
       "      <td>PG</td>\n",
       "      <td>-5.2246</td>\n",
       "      <td>145.7966</td>\n",
       "      <td>77.04</td>\n",
       "      <td>88</td>\n",
       "      <td>100</td>\n",
       "      <td>1.94</td>\n",
       "    </tr>\n",
       "    <tr>\n",
       "      <th>573</th>\n",
       "      <td>ambilobe</td>\n",
       "      <td>MG</td>\n",
       "      <td>-13.2000</td>\n",
       "      <td>49.0500</td>\n",
       "      <td>81.48</td>\n",
       "      <td>84</td>\n",
       "      <td>99</td>\n",
       "      <td>1.20</td>\n",
       "    </tr>\n",
       "  </tbody>\n",
       "</table>\n",
       "<p>177 rows × 8 columns</p>\n",
       "</div>"
      ],
      "text/plain": [
       "                City Country  Latitude  Longitude  Temperature  Humidity  \\\n",
       "0    arraial do cabo      BR  -22.9661   -42.0278        84.20        70   \n",
       "1           lorengau      PG   -2.0226   147.2712        80.89        81   \n",
       "4           bengkulu      ID   -3.8004   102.2655        78.98        83   \n",
       "7       guayaramerin      BO  -10.8368   -65.3614        75.20        88   \n",
       "8              bluff      NZ  -46.6000   168.3333        53.24        75   \n",
       "..               ...     ...       ...        ...          ...       ...   \n",
       "561       port keats      AU  -14.2500   129.5500        82.09        82   \n",
       "563      juan lacaze      UY  -34.4342   -57.4381        77.00        69   \n",
       "566      santa maria      BR  -29.6842   -53.8069        73.40        88   \n",
       "571           madang      PG   -5.2246   145.7966        77.04        88   \n",
       "573         ambilobe      MG  -13.2000    49.0500        81.48        84   \n",
       "\n",
       "     Cloudiness  Windspeed  \n",
       "0             0       5.66  \n",
       "1           100       5.50  \n",
       "4            99       1.02  \n",
       "7            75       0.51  \n",
       "8            85       6.88  \n",
       "..          ...        ...  \n",
       "561          83       4.12  \n",
       "563          75       3.60  \n",
       "566          75       2.06  \n",
       "571         100       1.94  \n",
       "573          99       1.20  \n",
       "\n",
       "[177 rows x 8 columns]"
      ]
     },
     "execution_count": 22,
     "metadata": {},
     "output_type": "execute_result"
    }
   ],
   "source": [
    "#define souhern hemisphere dataframe\n",
    "southtemp = weatherdf[weatherdf[\"Latitude\"]<0]\n",
    "southtemp "
   ]
  },
  {
   "cell_type": "code",
   "execution_count": 23,
   "metadata": {},
   "outputs": [
    {
     "name": "stdout",
     "output_type": "stream",
     "text": [
      "y = 0.4x +84.48\n"
     ]
    },
    {
     "data": {
      "text/plain": [
       "LinregressResult(slope=0.3975328868484749, intercept=84.47680514989088, rvalue=0.5302482122399731, pvalue=3.1945584350751406e-14, stderr=0.048049623210666255)"
      ]
     },
     "execution_count": 23,
     "metadata": {},
     "output_type": "execute_result"
    }
   ],
   "source": [
    "#define the axis\n",
    "x_values = southtemp['Latitude']\n",
    "y_values = southtemp['Temperature']\n",
    "\n",
    "# Perform a linear regression on temperature vs. latitude\n",
    "(slope, intercept, rvalue, pvalue, stderr) = stats.linregress(x_values, y_values)\n",
    "\n",
    "#define regression values\n",
    "regress_values = x_values * slope + intercept\n",
    "#print(regress_values)\n",
    "line_eq = \"y = \" + str(round(slope,2)) + \"x +\" + str(round(intercept,2))\n",
    "print(line_eq)\n",
    "stats.linregress(x_values, y_values)"
   ]
  },
  {
   "cell_type": "code",
   "execution_count": 24,
   "metadata": {},
   "outputs": [
    {
     "name": "stdout",
     "output_type": "stream",
     "text": [
      "The r value is: 0.28116316658368756\n"
     ]
    },
    {
     "data": {
      "image/png": "[encoded data removed]",
      "text/plain": [
       "<Figure size 432x288 with 1 Axes>"
      ]
     },
     "metadata": {
      "needs_background": "light"
     },
     "output_type": "display_data"
    }
   ],
   "source": [
    "plt.plot(x_values,regress_values,\"r-\")\n",
    "\n",
    "# Label plot and annotate the line equation\n",
    "plt.title(\"South Hemisphere: City Latitude vs Temperature (F)\")\n",
    "plt.xlabel(' City Latitude')\n",
    "plt.ylabel('City Temperature (F)')\n",
    "plt.annotate(line_eq,(20,15),fontsize=16,color=\"blue\")\n",
    "\n",
    "# Print r value by squaring it\n",
    "print(f\"The r value is: {rvalue**2}\")\n",
    "\n",
    "# Show plot\n",
    "plt.show()\n",
    "#Answer: This is modeling the temperature changing at 0.37 degrees Farhenheit for each degree in latitude it is away from the coldest city in the Southern Hemisphere."
   ]
  },
  {
   "cell_type": "code",
   "execution_count": 25,
   "metadata": {},
   "outputs": [
    {
     "data": {
      "image/png": "[encoded data removed]",
      "text/plain": [
       "<Figure size 432x288 with 1 Axes>"
      ]
     },
     "metadata": {
      "needs_background": "light"
     },
     "output_type": "display_data"
    }
   ],
   "source": [
    "#scatterplot southern hemisphere latitude vs temperature\n",
    "plt.scatter(southtemp[\"Latitude\"], southtemp[\"Temperature\"], facecolors = 'blue', marker = 'o')\n",
    "plt.title(\"South Hemisphere: City Latitude vs Temperature (F)\")\n",
    "plt.xlabel(\"City Latitude\")\n",
    "plt.ylabel(\"City Temperature (F)\")\n",
    "\n",
    "plt.show()\n",
    "#Observations: The cities in the souther hemisphere show an decrease in temperature as they get further from the equator.\n",
    "#The correlation isn't as strong as the northern hemisphere. "
   ]
  },
  {
   "cell_type": "code",
   "execution_count": null,
   "metadata": {},
   "outputs": [],
   "source": []
  },
  {
   "cell_type": "markdown",
   "metadata": {},
   "source": [
    "####  Northern Hemisphere - Humidity (%) vs. Latitude Linear Regression"
   ]
  },
  {
   "cell_type": "code",
   "execution_count": 26,
   "metadata": {},
   "outputs": [
    {
     "name": "stdout",
     "output_type": "stream",
     "text": [
      "y = 0.48x +51.21\n"
     ]
    },
    {
     "data": {
      "text/plain": [
       "LinregressResult(slope=0.4849425235672054, intercept=51.21356447035113, rvalue=0.42884231759165414, pvalue=3.4281287563471943e-19, stderr=0.05140013377658423)"
      ]
     },
     "execution_count": 26,
     "metadata": {},
     "output_type": "execute_result"
    }
   ],
   "source": [
    "#define the axis\n",
    "x_values = northtemp['Latitude']\n",
    "y_values = northtemp['Humidity']\n",
    "\n",
    "# Perform a linear regression on temperature vs. latitude\n",
    "(slope, intercept, rvalue, pvalue, stderr) = stats.linregress(x_values, y_values)\n",
    "\n",
    "#define regression values\n",
    "regress_values = x_values * slope + intercept\n",
    "#print(regress_values)\n",
    "line_eq = \"y = \" + str(round(slope,2)) + \"x +\" + str(round(intercept,2))\n",
    "print(line_eq)\n",
    "stats.linregress(x_values, y_values)"
   ]
  },
  {
   "cell_type": "code",
   "execution_count": 27,
   "metadata": {},
   "outputs": [
    {
     "name": "stdout",
     "output_type": "stream",
     "text": [
      "The r value is: 0.18390573335738117\n"
     ]
    },
    {
     "data": {
      "image/png": "[encoded data removed]",
      "text/plain": [
       "<Figure size 432x288 with 1 Axes>"
      ]
     },
     "metadata": {
      "needs_background": "light"
     },
     "output_type": "display_data"
    }
   ],
   "source": [
    "plt.plot(x_values,regress_values,\"r-\")\n",
    "\n",
    "# Label plot and annotate the line equation\n",
    "plt.title(\"North Hemisphere: City Latitude vs Humidity %\")\n",
    "plt.xlabel(' City Latitude')\n",
    "plt.ylabel('City Humidity %')\n",
    "plt.annotate(line_eq,(20,15),fontsize=16,color=\"blue\")\n",
    "\n",
    "# Print r value by squaring it\n",
    "print(f\"The r value is: {rvalue**2}\")\n",
    "\n",
    "# Show plot\n",
    "plt.show()\n",
    "#Answer: The increase in city humidity is 0.39% for each latitude degree it is away from the hottest city in the Northern Hemisphere."
   ]
  },
  {
   "cell_type": "code",
   "execution_count": 28,
   "metadata": {},
   "outputs": [
    {
     "data": {
      "image/png": "[encoded data removed]",
      "text/plain": [
       "<Figure size 432x288 with 1 Axes>"
      ]
     },
     "metadata": {
      "needs_background": "light"
     },
     "output_type": "display_data"
    }
   ],
   "source": [
    "plt.scatter(northtemp[\"Latitude\"], northtemp[\"Humidity\"], facecolors = 'blue', marker = 'o')\n",
    "\n",
    "plt.title(\"North Hemisphere: City Latitude vs Humdity (%)\")\n",
    "plt.xlabel(\"City Latitude\")\n",
    "plt.ylabel(\"City Humdity (%)\")\n",
    "\n",
    "plt.show()\n",
    "#Observations: The further away from the equator, the clolder the temperature. (drops in a linear way)"
   ]
  },
  {
   "cell_type": "markdown",
   "metadata": {},
   "source": [
    "####  Southern Hemisphere - Humidity (%) vs. Latitude Linear Regression"
   ]
  },
  {
   "cell_type": "code",
   "execution_count": 29,
   "metadata": {},
   "outputs": [
    {
     "name": "stdout",
     "output_type": "stream",
     "text": [
      "y = 0.17x +75.47\n"
     ]
    },
    {
     "data": {
      "text/plain": [
       "LinregressResult(slope=0.1690928576835424, intercept=75.47434471743694, rvalue=0.14205113027533603, pvalue=0.0592878324907544, stderr=0.08907073231606324)"
      ]
     },
     "execution_count": 29,
     "metadata": {},
     "output_type": "execute_result"
    }
   ],
   "source": [
    "#define the axis\n",
    "x_values = southtemp['Latitude']\n",
    "y_values = southtemp['Humidity']\n",
    "\n",
    "# Perform a linear regression on temperature vs. latitude\n",
    "(slope, intercept, rvalue, pvalue, stderr) = stats.linregress(x_values, y_values)\n",
    "\n",
    "#define regression values\n",
    "regress_values = x_values * slope + intercept\n",
    "#print(regress_values)\n",
    "line_eq = \"y = \" + str(round(slope,2)) + \"x +\" + str(round(intercept,2))\n",
    "print(line_eq)\n",
    "stats.linregress(x_values, y_values)"
   ]
  },
  {
   "cell_type": "code",
   "execution_count": 30,
   "metadata": {},
   "outputs": [
    {
     "name": "stdout",
     "output_type": "stream",
     "text": [
      "The r value is: 0.020178523612500488\n"
     ]
    },
    {
     "data": {
      "image/png": "[encoded data removed]",
      "text/plain": [
       "<Figure size 432x288 with 1 Axes>"
      ]
     },
     "metadata": {
      "needs_background": "light"
     },
     "output_type": "display_data"
    }
   ],
   "source": [
    "plt.plot(x_values,regress_values,\"r-\")\n",
    "\n",
    "# Label plot and annotate the line equation\n",
    "plt.title(\"South Hemisphere: City Latitude vs Humidity (%)\")\n",
    "plt.xlabel(' City Latitude')\n",
    "plt.ylabel('City Humidity (%)')\n",
    "plt.annotate(line_eq,(20,15),fontsize=16,color=\"blue\")\n",
    "\n",
    "# Print r value by squaring it\n",
    "print(f\"The r value is: {rvalue**2}\")\n",
    "\n",
    "# Show plot\n",
    "plt.show()\n",
    "#Answer: The city humidity increases by 0.38% for each latitude degree it is away from the coldest city in the Southern Hemisphere."
   ]
  },
  {
   "cell_type": "code",
   "execution_count": 31,
   "metadata": {},
   "outputs": [
    {
     "data": {
      "image/png": "[encoded data removed]",
      "text/plain": [
       "<Figure size 432x288 with 1 Axes>"
      ]
     },
     "metadata": {
      "needs_background": "light"
     },
     "output_type": "display_data"
    }
   ],
   "source": [
    "plt.scatter(southtemp[\"Latitude\"], southtemp[\"Humidity\"], facecolors = 'blue', marker = 'o')\n",
    "\n",
    "plt.title(\"South Hemisphere: City Latitude vs Humidity (%)\")\n",
    "plt.xlabel(\"City Latitude\")\n",
    "plt.ylabel(\"City Humidity (%)\")\n",
    "\n",
    "plt.show()"
   ]
  },
  {
   "cell_type": "markdown",
   "metadata": {},
   "source": [
    "####  Northern Hemisphere - Cloudiness (%) vs. Latitude Linear Regression"
   ]
  },
  {
   "cell_type": "code",
   "execution_count": 32,
   "metadata": {},
   "outputs": [
    {
     "name": "stdout",
     "output_type": "stream",
     "text": [
      "y = 0.32x +37.63\n"
     ]
    },
    {
     "data": {
      "text/plain": [
       "LinregressResult(slope=0.32358771819903803, intercept=37.62547465944674, rvalue=0.1624659043922383, pvalue=0.0011601063656848517, stderr=0.09888322203602075)"
      ]
     },
     "execution_count": 32,
     "metadata": {},
     "output_type": "execute_result"
    }
   ],
   "source": [
    "#define the axis\n",
    "x_values = northtemp['Latitude']\n",
    "y_values = northtemp['Cloudiness']\n",
    "\n",
    "# Perform a linear regression on temperature vs. latitude\n",
    "(slope, intercept, rvalue, pvalue, stderr) = stats.linregress(x_values, y_values)\n",
    "\n",
    "#define regression values\n",
    "regress_values = x_values * slope + intercept\n",
    "#print(regress_values)\n",
    "line_eq = \"y = \" + str(round(slope,2)) + \"x +\" + str(round(intercept,2))\n",
    "print(line_eq)\n",
    "stats.linregress(x_values, y_values)"
   ]
  },
  {
   "cell_type": "code",
   "execution_count": 33,
   "metadata": {},
   "outputs": [
    {
     "name": "stdout",
     "output_type": "stream",
     "text": [
      "The r value is: 0.026395170089987912\n"
     ]
    },
    {
     "data": {
      "image/png": "[encoded data removed]",
      "text/plain": [
       "<Figure size 432x288 with 1 Axes>"
      ]
     },
     "metadata": {
      "needs_background": "light"
     },
     "output_type": "display_data"
    }
   ],
   "source": [
    "plt.plot(x_values,regress_values,\"r-\")\n",
    "\n",
    "# Label plot and annotate the line equation\n",
    "plt.title(\"North Hemisphere: City Latitude vs Cloudiness %\")\n",
    "plt.xlabel('City Latitude')\n",
    "plt.ylabel('City Cloudiness %')\n",
    "plt.annotate(line_eq,(20,15),fontsize=16,color=\"blue\")\n",
    "\n",
    "# Print r value by squaring it\n",
    "print(f\"The r value is: {rvalue**2}\")\n",
    "\n",
    "# Show plot\n",
    "plt.show()\n",
    "#Answer: The cloudiness changes by 0.24% for every latitude degree it is away from the equator"
   ]
  },
  {
   "cell_type": "code",
   "execution_count": 34,
   "metadata": {},
   "outputs": [
    {
     "data": {
      "image/png": "[encoded data removed]",
      "text/plain": [
       "<Figure size 432x288 with 1 Axes>"
      ]
     },
     "metadata": {
      "needs_background": "light"
     },
     "output_type": "display_data"
    }
   ],
   "source": [
    "plt.scatter(northtemp[\"Latitude\"], northtemp[\"Cloudiness\"], facecolors = 'blue', marker = 'o')\n",
    "\n",
    "plt.title(\"North Hemisphere: City Latitude vs Cloudiness %\")\n",
    "plt.xlabel(\"City Latitude\")\n",
    "plt.ylabel(\"City Cloudiness %\")\n",
    "plt.show()"
   ]
  },
  {
   "cell_type": "markdown",
   "metadata": {},
   "source": [
    "####  Southern Hemisphere - Cloudiness (%) vs. Latitude Linear Regression"
   ]
  },
  {
   "cell_type": "code",
   "execution_count": 35,
   "metadata": {},
   "outputs": [
    {
     "name": "stdout",
     "output_type": "stream",
     "text": [
      "y = 0.94x +84.78\n"
     ]
    },
    {
     "data": {
      "text/plain": [
       "LinregressResult(slope=0.9407650806321584, intercept=84.77691178546465, rvalue=0.3381179593739846, pvalue=4.168708088177547e-06, stderr=0.1979390236142613)"
      ]
     },
     "execution_count": 35,
     "metadata": {},
     "output_type": "execute_result"
    }
   ],
   "source": [
    "#define the axis\n",
    "x_values = southtemp['Latitude']\n",
    "y_values = southtemp['Cloudiness']\n",
    "\n",
    "# Perform a linear regression on temperature vs. latitude\n",
    "(slope, intercept, rvalue, pvalue, stderr) = stats.linregress(x_values, y_values)\n",
    "\n",
    "#define regression values\n",
    "regress_values = x_values * slope + intercept\n",
    "#print(regress_values)\n",
    "line_eq = \"y = \" + str(round(slope,2)) + \"x +\" + str(round(intercept,2))\n",
    "print(line_eq)\n",
    "stats.linregress(x_values, y_values)"
   ]
  },
  {
   "cell_type": "code",
   "execution_count": 36,
   "metadata": {},
   "outputs": [
    {
     "name": "stdout",
     "output_type": "stream",
     "text": [
      "The r value is: 0.1143237544512275\n"
     ]
    },
    {
     "data": {
      "image/png": "[encoded data removed]",
      "text/plain": [
       "<Figure size 432x288 with 1 Axes>"
      ]
     },
     "metadata": {
      "needs_background": "light"
     },
     "output_type": "display_data"
    }
   ],
   "source": [
    "plt.plot(x_values,regress_values,\"r-\")\n",
    "\n",
    "# Label plot and annotate the line equation\n",
    "plt.title(\"South Hemisphere: City Latitude vs Cloudiness %\")\n",
    "plt.xlabel('City Latitude')\n",
    "plt.ylabel('City Cloudiness %')\n",
    "plt.annotate(line_eq,(20,15),fontsize=16,color=\"blue\")\n",
    "\n",
    "# Print r value by squaring it\n",
    "print(f\"The r value is: {rvalue**2}\")\n",
    "\n",
    "# Show plot\n",
    "plt.show()\n",
    "#Answer: The cloudiness changes by 1.03% for every latitude degree it is towards the equator"
   ]
  },
  {
   "cell_type": "code",
   "execution_count": 37,
   "metadata": {},
   "outputs": [
    {
     "data": {
      "image/png": "[encoded data removed]",
      "text/plain": [
       "<Figure size 432x288 with 1 Axes>"
      ]
     },
     "metadata": {
      "needs_background": "light"
     },
     "output_type": "display_data"
    }
   ],
   "source": [
    "plt.scatter(southtemp[\"Latitude\"], southtemp[\"Humidity\"], facecolors = 'blue', marker = 'o')\n",
    "\n",
    "plt.title(\"South Hemisphere: City Latitude vs Cloudiness %\")\n",
    "plt.xlabel(\"City Latitude\")\n",
    "plt.ylabel(\"City Cloudiness %\")\n",
    "\n",
    "plt.show()"
   ]
  },
  {
   "cell_type": "markdown",
   "metadata": {},
   "source": [
    "####  Northern Hemisphere - Wind Speed (mph) vs. Latitude Linear Regression"
   ]
  },
  {
   "cell_type": "code",
   "execution_count": 38,
   "metadata": {},
   "outputs": [
    {
     "name": "stdout",
     "output_type": "stream",
     "text": [
      "y = 0.01x +3.04\n"
     ]
    },
    {
     "data": {
      "text/plain": [
       "LinregressResult(slope=0.01438685322892839, intercept=3.04304567152172, rvalue=0.09703012207878672, pvalue=0.053387190728316936, stderr=0.007425173314974965)"
      ]
     },
     "execution_count": 38,
     "metadata": {},
     "output_type": "execute_result"
    }
   ],
   "source": [
    "#define the axis\n",
    "x_values = northtemp['Latitude']\n",
    "y_values = northtemp['Windspeed']\n",
    "\n",
    "# Perform a linear regression on temperature vs. latitude\n",
    "(slope, intercept, rvalue, pvalue, stderr) = stats.linregress(x_values, y_values)\n",
    "\n",
    "#define regression values\n",
    "regress_values = x_values * slope + intercept\n",
    "#print(regress_values)\n",
    "line_eq = \"y = \" + str(round(slope,2)) + \"x +\" + str(round(intercept,2))\n",
    "print(line_eq)\n",
    "stats.linregress(x_values, y_values)"
   ]
  },
  {
   "cell_type": "code",
   "execution_count": 39,
   "metadata": {},
   "outputs": [
    {
     "name": "stdout",
     "output_type": "stream",
     "text": [
      "The r value is: 0.009414844590624255\n"
     ]
    },
    {
     "data": {
      "image/png": "[encoded data removed]",
      "text/plain": [
       "<Figure size 432x288 with 1 Axes>"
      ]
     },
     "metadata": {
      "needs_background": "light"
     },
     "output_type": "display_data"
    }
   ],
   "source": [
    "plt.plot(x_values,regress_values,\"r-\")\n",
    "\n",
    "# Label plot and annotate the line equation\n",
    "plt.title(\"North Hemisphere: City Latitude vs Windspeed (mph)\")\n",
    "plt.xlabel('City Latitude')\n",
    "plt.ylabel('City Windspeed (mph)')\n",
    "plt.annotate(line_eq,(20,15),fontsize=16,color=\"blue\")\n",
    "\n",
    "# Print r value by squaring it\n",
    "print(f\"The r value is: {rvalue**2}\")\n",
    "\n",
    "# Show plot\n",
    "plt.show()\n",
    "#Answer: The windspeed goes up by 0.01 mph per every latitude degree away from the equator in the Northern Hemisphere."
   ]
  },
  {
   "cell_type": "code",
   "execution_count": 40,
   "metadata": {},
   "outputs": [
    {
     "data": {
      "image/png": "[encoded data removed]",
      "text/plain": [
       "<Figure size 432x288 with 1 Axes>"
      ]
     },
     "metadata": {
      "needs_background": "light"
     },
     "output_type": "display_data"
    }
   ],
   "source": [
    "plt.scatter(northtemp[\"Latitude\"], northtemp[\"Windspeed\"], facecolors = 'blue', marker = 'o')\n",
    "\n",
    "plt.title(\"North Hemisphere: City Latitude vs Windspeed (mph)\")\n",
    "plt.xlabel(\"City Latitude\")\n",
    "plt.ylabel(\"City Windspeed (mph)\")\n",
    "plt.show()"
   ]
  },
  {
   "cell_type": "markdown",
   "metadata": {},
   "source": [
    "####  Southern Hemisphere - Wind Speed (mph) vs. Latitude Linear Regression"
   ]
  },
  {
   "cell_type": "code",
   "execution_count": 41,
   "metadata": {},
   "outputs": [
    {
     "name": "stdout",
     "output_type": "stream",
     "text": [
      "y = -0.03x +3.18\n"
     ]
    },
    {
     "data": {
      "text/plain": [
       "LinregressResult(slope=-0.029922238049281145, intercept=3.1755057423005617, rvalue=-0.15078073151497143, pvalue=0.04514917295676615, stderr=0.014829804094859645)"
      ]
     },
     "execution_count": 41,
     "metadata": {},
     "output_type": "execute_result"
    }
   ],
   "source": [
    "#define the axis\n",
    "x_values = southtemp['Latitude']\n",
    "y_values = southtemp['Windspeed']\n",
    "\n",
    "# Perform a linear regression on temperature vs. latitude\n",
    "(slope, intercept, rvalue, pvalue, stderr) = stats.linregress(x_values, y_values)\n",
    "\n",
    "#define regression values\n",
    "regress_values = x_values * slope + intercept\n",
    "#print(regress_values)\n",
    "line_eq = \"y = \" + str(round(slope,2)) + \"x +\" + str(round(intercept,2))\n",
    "print(line_eq)\n",
    "stats.linregress(x_values, y_values)"
   ]
  },
  {
   "cell_type": "code",
   "execution_count": 42,
   "metadata": {},
   "outputs": [
    {
     "name": "stdout",
     "output_type": "stream",
     "text": [
      "The r value is: 0.022734828996189897\n"
     ]
    },
    {
     "data": {
      "image/png": "[encoded data removed]",
      "text/plain": [
       "<Figure size 432x288 with 1 Axes>"
      ]
     },
     "metadata": {
      "needs_background": "light"
     },
     "output_type": "display_data"
    }
   ],
   "source": [
    "plt.plot(x_values,regress_values,\"r-\")\n",
    "\n",
    "# Label plot and annotate the line equation\n",
    "plt.title(\"South Hemisphere: City Latitude vs Windspeed(mph)\")\n",
    "plt.xlabel('City Latitude')\n",
    "plt.ylabel('City Windspeed(mph)')\n",
    "plt.annotate(line_eq,(20,15),fontsize=16,color=\"blue\")\n",
    "\n",
    "# Print r value by squaring it\n",
    "print(f\"The r value is: {rvalue**2}\")\n",
    "\n",
    "# Show plot\n",
    "plt.show()\n",
    "#Answer: The windspeed goes down by 0.03 mph per every latitude degree towards the equator in the Southern Hemisphere."
   ]
  },
  {
   "cell_type": "code",
   "execution_count": 43,
   "metadata": {},
   "outputs": [
    {
     "data": {
      "image/png": "[encoded data removed]",
      "text/plain": [
       "<Figure size 432x288 with 1 Axes>"
      ]
     },
     "metadata": {
      "needs_background": "light"
     },
     "output_type": "display_data"
    }
   ],
   "source": [
    "plt.scatter(southtemp[\"Latitude\"], southtemp[\"Windspeed\"], facecolors = 'blue', marker = 'o')\n",
    "\n",
    "plt.title(\"South Hemisphere: City Latitude vs Windspeed (mph)\")\n",
    "plt.xlabel(\"City Latitude\")\n",
    "plt.ylabel(\"City Windspeed (mph)\")\n",
    "\n",
    "plt.show()"
   ]
  },
  {
   "cell_type": "code",
   "execution_count": 44,
   "metadata": {},
   "outputs": [],
   "source": [
    "weatherdf.to_csv('weatherAPI')"
   ]
  },
  {
   "cell_type": "code",
   "execution_count": null,
   "metadata": {},
   "outputs": [],
   "source": []
  }
 ],
 "metadata": {
  "anaconda-cloud": {},
  "kernel_info": {
   "name": "python3"
  },
  "kernelspec": {
   "display_name": "Python 3",
   "language": "python",
   "name": "python3"
  },
  "language_info": {
   "codemirror_mode": {
    "name": "ipython",
    "version": 3
   },
   "file_extension": ".py",
   "mimetype": "text/x-python",
   "name": "python",
   "nbconvert_exporter": "python",
   "pygments_lexer": "ipython3",
   "version": "3.8.5"
  },
  "latex_envs": {
   "LaTeX_envs_menu_present": true,
   "autoclose": false,
   "autocomplete": true,
   "bibliofile": "biblio.bib",
   "cite_by": "apalike",
   "current_citInitial": 1,
   "eqLabelWithNumbers": true,
   "eqNumInitial": 1,
   "hotkeys": {
    "equation": "Ctrl-E",
    "itemize": "Ctrl-I"
   },
   "labels_anchors": false,
   "latex_user_defs": false,
   "report_style_numbering": false,
   "user_envs_cfg": false
  },
  "nteract": {
   "version": "0.12.3"
  }
 },
 "nbformat": 4,
 "nbformat_minor": 4
}
