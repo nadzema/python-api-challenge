{
 "cells": [
  {
   "cell_type": "markdown",
   "metadata": {},
   "source": [
    "# WeatherPy\n",
    "----\n",
    "\n",
    "#### Note\n",
    "* Instructions have been included for each segment. You do not have to follow them exactly, but they are included to help you think through the steps."
   ]
  },
  {
   "cell_type": "code",
   "execution_count": 3,
   "metadata": {
    "scrolled": true
   },
   "outputs": [],
   "source": [
    "# Dependencies and Setup\n",
    "import matplotlib.pyplot as plt\n",
    "import pandas as pd\n",
    "import numpy as np\n",
    "import requests\n",
    "import time\n",
    "import json\n",
    "from scipy import stats\n",
    "from scipy.stats import linregress\n",
    "import pprint as pprint\n",
    "\n",
    "# Import API key\n",
    "from api_keys import weather_api_key\n",
    "\n",
    "# Incorporated citipy to determine city based on latitude and longitude\n",
    "from citipy import citipy\n",
    "\n",
    "# Output File (CSV)\n",
    "output_data_file = \"output_data/cities.csv\"\n",
    "\n",
    "# Range of latitudes and longitudes\n",
    "lat_range = (-90, 90)\n",
    "lng_range = (-180, 180)\n"
   ]
  },
  {
   "cell_type": "code",
   "execution_count": null,
   "metadata": {},
   "outputs": [],
   "source": []
  },
  {
   "cell_type": "code",
   "execution_count": 4,
   "metadata": {},
   "outputs": [
    {
     "data": {
      "text/plain": [
       "597"
      ]
     },
     "execution_count": 4,
     "metadata": {},
     "output_type": "execute_result"
    }
   ],
   "source": [
    "# List for holding lat_lngs and cities\n",
    "lat_lngs = []\n",
    "cities = []\n",
    "\n",
    "# Create a set of random lat and lng combinations\n",
    "lats = np.random.uniform(lat_range[0], lat_range[1], size=1500)\n",
    "lngs = np.random.uniform(lng_range[0], lng_range[1], size=1500)\n",
    "lat_lngs = zip(lats, lngs)\n",
    "\n",
    "# Identify nearest city for each lat, lng combination\n",
    "for lat_lng in lat_lngs:\n",
    "    city = citipy.nearest_city(lat_lng[0], lat_lng[1]).city_name\n",
    "    \n",
    "    # If the city is unique, then add it to a our cities list\n",
    "    if city not in cities:\n",
    "        cities.append(city)\n",
    "\n",
    "# Print the city count to confirm sufficient count\n",
    "len(cities)"
   ]
  },
  {
   "cell_type": "markdown",
   "metadata": {},
   "source": [
    "## Generate Cities List"
   ]
  },
  {
   "cell_type": "markdown",
   "metadata": {},
   "source": [
    "### Perform API Calls\n",
    "* Perform a weather check on each city using a series of successive API calls.\n",
    "* Include a print log of each city as it'sbeing processed (with the city number and city name).\n"
   ]
  },
  {
   "cell_type": "code",
   "execution_count": 5,
   "metadata": {
    "scrolled": true
   },
   "outputs": [
    {
     "name": "stdout",
     "output_type": "stream",
     "text": [
      "{\n",
      "    \"coord\": {\n",
      "        \"lon\": 50.8122,\n",
      "        \"lat\": 9.4942\n",
      "    },\n",
      "    \"weather\": [\n",
      "        {\n",
      "            \"id\": 802,\n",
      "            \"main\": \"Clouds\",\n",
      "            \"description\": \"scattered clouds\",\n",
      "            \"icon\": \"03d\"\n",
      "        }\n",
      "    ],\n",
      "    \"base\": \"stations\",\n",
      "    \"main\": {\n",
      "        \"temp\": 25.94,\n",
      "        \"feels_like\": 22.15,\n",
      "        \"temp_min\": 25.94,\n",
      "        \"temp_max\": 25.94,\n",
      "        \"pressure\": 1012,\n",
      "        \"humidity\": 54,\n",
      "        \"sea_level\": 1012,\n",
      "        \"grnd_level\": 1010\n",
      "    },\n",
      "    \"visibility\": 10000,\n",
      "    \"wind\": {\n",
      "        \"speed\": 8.2,\n",
      "        \"deg\": 42\n",
      "    },\n",
      "    \"clouds\": {\n",
      "        \"all\": 26\n",
      "    },\n",
      "    \"dt\": 1613121008,\n",
      "    \"sys\": {\n",
      "        \"country\": \"SO\",\n",
      "        \"sunrise\": 1613098616,\n",
      "        \"sunset\": 1613141113\n",
      "    },\n",
      "    \"timezone\": 10800,\n",
      "    \"id\": 64814,\n",
      "    \"name\": \"Bandarbeyla\",\n",
      "    \"cod\": 200\n",
      "}\n"
     ]
    }
   ],
   "source": [
    "# Save config information.\n",
    "base = \"http://api.openweathermap.org/data/2.5/weather?\" \n",
    "units = \"metric\"\n",
    "\n",
    "# Build partial query URL\n",
    "\n",
    "url = f'{base}appid={weather_api_key}&units={units}&q='\n",
    "response = requests.get(url + city)\n",
    "weather = response.json()\n",
    "print(json.dumps(weather, indent =4))"
   ]
  },
  {
   "cell_type": "markdown",
   "metadata": {},
   "source": [
    "### Convert Raw Data to DataFrame\n",
    "* Export the city data into a .csv.\n",
    "* Display the DataFrame"
   ]
  },
  {
   "cell_type": "code",
   "execution_count": 59,
   "metadata": {},
   "outputs": [
    {
     "data": {
      "text/html": [
       "<div>\n",
       "<style scoped>\n",
       "    .dataframe tbody tr th:only-of-type {\n",
       "        vertical-align: middle;\n",
       "    }\n",
       "\n",
       "    .dataframe tbody tr th {\n",
       "        vertical-align: top;\n",
       "    }\n",
       "\n",
       "    .dataframe thead th {\n",
       "        text-align: right;\n",
       "    }\n",
       "</style>\n",
       "<table border=\"1\" class=\"dataframe\">\n",
       "  <thead>\n",
       "    <tr style=\"text-align: right;\">\n",
       "      <th></th>\n",
       "      <th>City</th>\n",
       "    </tr>\n",
       "  </thead>\n",
       "  <tbody>\n",
       "    <tr>\n",
       "      <th>0</th>\n",
       "      <td>provideniya</td>\n",
       "    </tr>\n",
       "    <tr>\n",
       "      <th>1</th>\n",
       "      <td>havre-saint-pierre</td>\n",
       "    </tr>\n",
       "    <tr>\n",
       "      <th>2</th>\n",
       "      <td>faanui</td>\n",
       "    </tr>\n",
       "    <tr>\n",
       "      <th>3</th>\n",
       "      <td>rikitea</td>\n",
       "    </tr>\n",
       "    <tr>\n",
       "      <th>4</th>\n",
       "      <td>kishanganj</td>\n",
       "    </tr>\n",
       "    <tr>\n",
       "      <th>...</th>\n",
       "      <td>...</td>\n",
       "    </tr>\n",
       "    <tr>\n",
       "      <th>592</th>\n",
       "      <td>mendi</td>\n",
       "    </tr>\n",
       "    <tr>\n",
       "      <th>593</th>\n",
       "      <td>maltahohe</td>\n",
       "    </tr>\n",
       "    <tr>\n",
       "      <th>594</th>\n",
       "      <td>puerto leguizamo</td>\n",
       "    </tr>\n",
       "    <tr>\n",
       "      <th>595</th>\n",
       "      <td>zyryanka</td>\n",
       "    </tr>\n",
       "    <tr>\n",
       "      <th>596</th>\n",
       "      <td>bandarbeyla</td>\n",
       "    </tr>\n",
       "  </tbody>\n",
       "</table>\n",
       "<p>597 rows × 1 columns</p>\n",
       "</div>"
      ],
      "text/plain": [
       "                   City\n",
       "0           provideniya\n",
       "1    havre-saint-pierre\n",
       "2                faanui\n",
       "3               rikitea\n",
       "4            kishanganj\n",
       "..                  ...\n",
       "592               mendi\n",
       "593           maltahohe\n",
       "594    puerto leguizamo\n",
       "595            zyryanka\n",
       "596         bandarbeyla\n",
       "\n",
       "[597 rows x 1 columns]"
      ]
     },
     "execution_count": 59,
     "metadata": {},
     "output_type": "execute_result"
    }
   ],
   "source": [
    "#create a City dataframe\n",
    "citydf = pd.DataFrame({'City': cities})\n",
    "citydf"
   ]
  },
  {
   "cell_type": "code",
   "execution_count": 60,
   "metadata": {},
   "outputs": [],
   "source": [
    "#citydf[\"Country\"] = \"\"\n",
    "#citydf[\"Latitude\"] = \"\"\n",
    "#citydf[\"Longitude\"] = \"\"\n",
    "#citydf[\"Temperature (F)\"] = \"\"\n",
    "#citydf[\"Humidity\"] = \"\"\n",
    "#citydf[\"Cloudiness\"] = \"\"\n",
    "#citydf[\"Wind Speed (mph)\"] = \"\"\n",
    "place =[]\n",
    "country = []\n",
    "latitude = []\n",
    "longitude = []\n",
    "temperature = []\n",
    "humidity = []\n",
    "cloudiness=[]\n",
    "wind_speed= []\n",
    "city_data = []\n"
   ]
  },
  {
   "cell_type": "code",
   "execution_count": null,
   "metadata": {},
   "outputs": [],
   "source": []
  },
  {
   "cell_type": "code",
   "execution_count": 61,
   "metadata": {},
   "outputs": [
    {
     "name": "stdout",
     "output_type": "stream",
     "text": [
      " City number:1 provideniya\n",
      " City number:2 havre-saint-pierre\n",
      " City number:3 faanui\n",
      " City number:4 rikitea\n",
      " City number:5 kishanganj\n",
      " City number:6 nikolskoye\n",
      " City number:7 buguda\n",
      " City number:8 esna\n",
      " City number:9 east london\n",
      " City number:10 flin flon\n",
      "Country not found\n",
      " City number:11 port-gentil\n",
      " City number:12 kerema\n",
      " City number:13 yellowknife\n",
      " City number:14 leningradskiy\n",
      " City number:15 mazagao\n",
      " City number:16 bathsheba\n",
      " City number:17 tocopilla\n",
      " City number:18 severo-kurilsk\n",
      " City number:19 bluff\n",
      " City number:20 dikson\n",
      " City number:21 tasiilaq\n",
      " City number:22 taman\n",
      " City number:23 ribeira grande\n",
      " City number:24 barrow\n",
      " City number:25 hay river\n",
      "Country not found\n",
      " City number:26 sitka\n",
      " City number:27 puerto ayacucho\n",
      " City number:28 harper\n",
      " City number:29 inhambane\n",
      " City number:30 port pirie\n",
      " City number:31 hamilton\n",
      " City number:32 puerto ayora\n",
      " City number:33 tuktoyaktuk\n",
      " City number:34 waipawa\n",
      " City number:35 grindavik\n",
      " City number:36 ibra\n",
      " City number:37 chunskiy\n",
      " City number:38 souillac\n",
      "Country not found\n",
      " City number:39 prince rupert\n",
      " City number:40 pangnirtung\n",
      " City number:41 daru\n",
      " City number:42 ponta do sol\n",
      " City number:43 punta arenas\n",
      " City number:44 los lunas\n",
      " City number:45 sain alto\n",
      " City number:46 obodivka\n",
      " City number:47 mount isa\n",
      " City number:48 port alfred\n",
      " City number:49 kapaa\n",
      "Country not found\n",
      " City number:50 mehamn\n",
      " City number:51 ushuaia\n",
      " City number:52 hermanus\n",
      " City number:53 hilo\n",
      " City number:54 kingman\n",
      " City number:55 lebu\n",
      " City number:56 davila\n",
      " City number:57 taoudenni\n",
      " City number:58 vydrino\n",
      " City number:59 new norfolk\n",
      " City number:60 alta floresta\n",
      " City number:61 maragogi\n",
      " City number:62 chuy\n",
      " City number:63 okhotsk\n",
      "Country not found\n",
      "Country not found\n",
      " City number:64 constitucion\n",
      " City number:65 raudeberg\n",
      " City number:66 saint anthony\n",
      " City number:67 omboue\n",
      " City number:68 dhidhdhoo\n",
      " City number:69 mahon\n",
      " City number:70 vaini\n",
      " City number:71 woodward\n",
      " City number:72 hithadhoo\n",
      " City number:73 west bay\n",
      "Country not found\n",
      " City number:74 carnarvon\n",
      " City number:75 rockport\n",
      "Country not found\n",
      " City number:76 dillon\n",
      " City number:77 matara\n",
      " City number:78 la ronge\n",
      " City number:79 bredasdorp\n",
      " City number:80 bud\n",
      " City number:81 berbera\n",
      "Country not found\n",
      " City number:82 konstantinovka\n",
      " City number:83 sola\n",
      " City number:84 sorong\n",
      " City number:85 ngunguru\n",
      " City number:86 turukhansk\n",
      " City number:87 bambous virieux\n",
      " City number:88 kavaratti\n",
      " City number:89 buloh kasap\n",
      " City number:90 yaan\n",
      " City number:91 kodiak\n",
      " City number:92 deputatskiy\n",
      " City number:93 hobart\n",
      " City number:94 luderitz\n",
      " City number:95 yecuatla\n",
      " City number:96 sorbhog\n",
      " City number:97 pa daet\n",
      " City number:98 butaritari\n",
      " City number:99 grand gaube\n",
      " City number:100 saint joseph\n",
      " City number:101 ketchikan\n",
      " City number:102 rudbar\n",
      " City number:103 albany\n",
      " City number:104 geraldton\n",
      " City number:105 bengkulu\n",
      " City number:106 boone\n",
      " City number:107 katsuura\n",
      " City number:108 kaita\n",
      " City number:109 qaanaaq\n",
      " City number:110 pemberton\n",
      " City number:111 chokurdakh\n",
      " City number:112 nassau\n",
      " City number:113 rundu\n",
      " City number:114 beyneu\n",
      " City number:115 mahanoro\n",
      "Country not found\n",
      " City number:116 upington\n",
      " City number:117 mataura\n",
      " City number:118 biak\n",
      " City number:119 khatanga\n",
      " City number:120 cidreira\n",
      " City number:121 batemans bay\n",
      " City number:122 shirokiy\n",
      " City number:123 busselton\n",
      " City number:124 san policarpo\n",
      " City number:125 nogales\n",
      " City number:126 penaflor\n",
      " City number:127 husavik\n",
      " City number:128 arraial do cabo\n",
      " City number:129 iqaluit\n",
      " City number:130 bubaque\n",
      " City number:131 henties bay\n",
      " City number:132 upernavik\n",
      " City number:133 talcahuano\n",
      " City number:134 tura\n",
      " City number:135 savinka\n",
      " City number:136 skarnes\n",
      " City number:137 jamestown\n",
      " City number:138 caceres\n",
      " City number:139 avarua\n",
      " City number:140 pevek\n",
      " City number:141 hofn\n",
      " City number:142 mahebourg\n",
      " City number:143 tuy hoa\n",
      " City number:144 huarmey\n",
      " City number:145 artyom\n",
      " City number:146 vila do maio\n",
      "Country not found\n",
      "Country not found\n",
      " City number:147 khandyga\n",
      " City number:148 georgetown\n",
      " City number:149 novoagansk\n",
      " City number:150 bosaso\n",
      " City number:151 luganville\n",
      " City number:152 sao joao da barra\n",
      " City number:153 balabac\n",
      " City number:154 saint-philippe\n",
      " City number:155 praia da vitoria\n",
      " City number:156 esik\n",
      " City number:157 thompson\n",
      "Country not found\n",
      " City number:158 kaitangata\n",
      " City number:159 quatre cocos\n",
      " City number:160 isangel\n",
      " City number:161 dingle\n",
      "Country not found\n",
      " City number:162 atuona\n",
      " City number:163 lata\n",
      " City number:164 shahrud\n",
      " City number:165 andenes\n",
      " City number:166 lasa\n",
      " City number:167 ledyard\n",
      " City number:168 winnemucca\n",
      " City number:169 aswan\n",
      " City number:170 morena\n",
      " City number:171 kankan\n",
      " City number:172 cape town\n",
      "Country not found\n",
      " City number:173 ekhabi\n",
      " City number:174 trelew\n",
      "Country not found\n",
      " City number:175 north bend\n",
      " City number:176 vestmannaeyjar\n",
      " City number:177 sakakah\n",
      " City number:178 maturin\n",
      " City number:179 sao jose da coroa grande\n",
      " City number:180 ponta delgada\n",
      " City number:181 charters towers\n",
      " City number:182 saint george\n",
      " City number:183 bethel\n",
      " City number:184 hasaki\n",
      " City number:185 khasan\n",
      " City number:186 great yarmouth\n",
      " City number:187 mumbwa\n",
      " City number:188 salalah\n",
      " City number:189 kysyl-syr\n",
      " City number:190 piterka\n",
      " City number:191 waddan\n",
      " City number:192 vostok\n",
      " City number:193 mar del plata\n",
      " City number:194 nueva loja\n",
      "Country not found\n",
      " City number:195 noumea\n",
      "Country not found\n",
      " City number:196 launceston\n",
      " City number:197 makushino\n",
      " City number:198 gizo\n",
      " City number:199 nemuro\n",
      " City number:200 trat\n",
      " City number:201 port lincoln\n",
      " City number:202 vilhena\n",
      " City number:203 verkhnyaya inta\n",
      " City number:204 hit\n",
      " City number:205 tautira\n",
      " City number:206 kangaatsiaq\n",
      " City number:207 timmins\n",
      " City number:208 sorland\n",
      " City number:209 faya\n",
      " City number:210 castro\n",
      " City number:211 mackay\n",
      " City number:212 kavieng\n",
      "Country not found\n",
      " City number:213 saskylakh\n",
      " City number:214 hambantota\n",
      " City number:215 fort beaufort\n",
      "Country not found\n",
      "Country not found\n",
      "Country not found\n",
      " City number:216 yuxia\n",
      " City number:217 gat\n",
      " City number:218 planaltina\n",
      " City number:219 nioro\n",
      " City number:220 lucea\n",
      " City number:221 pacific grove\n",
      " City number:222 opuwo\n",
      " City number:223 kochubey\n",
      " City number:224 voronovytsya\n",
      " City number:225 haines junction\n",
      " City number:226 dudinka\n",
      " City number:227 goderich\n",
      " City number:228 oksfjord\n",
      " City number:229 cherskiy\n",
      " City number:230 saint-joseph\n",
      "Country not found\n",
      " City number:231 torbay\n",
      " City number:232 rio grande\n",
      " City number:233 genhe\n",
      " City number:234 shubarshi\n",
      " City number:235 portland\n",
      " City number:236 walvis bay\n",
      " City number:237 yulara\n",
      " City number:238 antalaha\n",
      "Country not found\n",
      "Country not found\n",
      "Country not found\n",
      " City number:239 san patricio\n",
      " City number:240 piacabucu\n",
      " City number:241 sioux lookout\n",
      " City number:242 half moon bay\n",
      " City number:243 narsaq\n",
      " City number:244 lazaro cardenas\n",
      "Country not found\n",
      " City number:245 nome\n",
      " City number:246 lakatoro\n",
      " City number:247 port elizabeth\n",
      " City number:248 bantry\n",
      " City number:249 adrar\n",
      " City number:250 lagoa\n",
      " City number:251 zhangjiakou\n",
      " City number:252 santa cruz de la palma\n",
      " City number:253 sudislavl\n",
      " City number:254 monticello\n",
      " City number:255 kralendijk\n",
      " City number:256 saldanha\n",
      " City number:257 chingirlau\n",
      " City number:258 ous\n",
      " City number:259 kautokeino\n",
      " City number:260 san quintin\n",
      "Country not found\n",
      " City number:261 kieta\n",
      " City number:262 new bern\n",
      " City number:263 sao filipe\n",
      " City number:264 minggang\n",
      " City number:265 yangjiang\n",
      "Country not found\n",
      " City number:266 capitan bado\n",
      " City number:267 port hardy\n",
      " City number:268 minab\n",
      " City number:269 los llanos de aridane\n",
      " City number:270 bambanglipuro\n",
      " City number:271 port augusta\n",
      " City number:272 eureka\n",
      " City number:273 ambilobe\n",
      " City number:274 vila franca do campo\n",
      " City number:275 pocking\n",
      " City number:276 bac lieu\n",
      "Country not found\n",
      " City number:277 mandalgovi\n",
      " City number:278 illela\n",
      " City number:279 tual\n",
      " City number:280 nishihara\n",
      " City number:281 kyren\n",
      " City number:282 pergamino\n",
      " City number:283 kahului\n",
      " City number:284 finote selam\n",
      " City number:285 karratha\n",
      " City number:286 palmer\n",
      " City number:287 laguna\n",
      " City number:288 norman wells\n",
      " City number:289 swellendam\n",
      " City number:290 springbok\n",
      " City number:291 meulaboh\n",
      " City number:292 hualmay\n",
      "Country not found\n",
      " City number:293 vardo\n",
      " City number:294 nyurba\n"
     ]
    },
    {
     "name": "stdout",
     "output_type": "stream",
     "text": [
      " City number:295 kodino\n",
      " City number:296 viedma\n",
      " City number:297 lengshuijiang\n",
      " City number:298 bend\n",
      " City number:299 kathmandu\n",
      " City number:300 longyearbyen\n",
      " City number:301 gidole\n",
      " City number:302 marzuq\n",
      " City number:303 kang\n",
      " City number:304 sao fidelis\n",
      "Country not found\n",
      " City number:305 ruteng\n",
      " City number:306 elizabeth city\n",
      " City number:307 valparaiso\n",
      " City number:308 sakaiminato\n",
      " City number:309 russell\n",
      " City number:310 arman\n",
      " City number:311 qui nhon\n",
      " City number:312 coquimbo\n",
      " City number:313 lalawigan\n",
      " City number:314 kindu\n",
      " City number:315 xudat\n",
      " City number:316 lompoc\n",
      " City number:317 kibakwe\n",
      " City number:318 vila velha\n",
      " City number:319 isla mujeres\n",
      " City number:320 shymkent\n",
      " City number:321 tazovskiy\n",
      " City number:322 vikulovo\n",
      " City number:323 lorengau\n",
      " City number:324 tomatlan\n",
      " City number:325 college\n",
      " City number:326 vanavara\n",
      " City number:327 mareeba\n",
      " City number:328 broome\n",
      " City number:329 fort nelson\n",
      " City number:330 blythe\n",
      " City number:331 eganville\n",
      " City number:332 rawson\n",
      " City number:333 yining\n",
      "Country not found\n",
      " City number:334 zachepylivka\n",
      " City number:335 amapa\n",
      " City number:336 nanortalik\n",
      " City number:337 ouesso\n",
      " City number:338 samarai\n",
      " City number:339 sechura\n",
      " City number:340 pierre\n",
      " City number:341 saravena\n",
      " City number:342 saint-georges\n",
      " City number:343 sur\n",
      "Country not found\n",
      " City number:344 kitob\n",
      "Country not found\n",
      " City number:345 acapulco\n",
      " City number:346 flinders\n",
      "Country not found\n",
      " City number:347 aripuana\n",
      " City number:348 urucara\n",
      " City number:349 qasigiannguit\n",
      " City number:350 valente\n",
      " City number:351 loa janan\n",
      " City number:352 scarborough\n",
      " City number:353 kaseda\n",
      " City number:354 taksimo\n",
      " City number:355 nizwa\n",
      " City number:356 tukrah\n",
      " City number:357 lamar\n",
      " City number:358 padang\n",
      " City number:359 atotonilco el grande\n",
      "Country not found\n",
      " City number:360 tiznit\n",
      " City number:361 bonavista\n",
      " City number:362 nieuw amsterdam\n",
      "Country not found\n",
      " City number:363 saint-augustin\n",
      " City number:364 saint-francois\n",
      " City number:365 esperance\n",
      " City number:366 salamiyah\n",
      " City number:367 kovdor\n",
      "Country not found\n",
      " City number:368 santa rita\n",
      " City number:369 azamgarh\n",
      " City number:370 sevelen\n",
      "Country not found\n",
      " City number:371 madukkur\n",
      " City number:372 yenagoa\n",
      "Country not found\n",
      " City number:373 alekseyevsk\n",
      " City number:374 svay rieng\n",
      " City number:375 datong\n",
      " City number:376 kamaishi\n",
      " City number:377 galle\n",
      " City number:378 praxedis guerrero\n",
      " City number:379 pisco\n",
      " City number:380 selty\n",
      " City number:381 alice springs\n",
      " City number:382 ancud\n",
      " City number:383 beringovskiy\n",
      " City number:384 aklavik\n",
      " City number:385 clyde river\n",
      " City number:386 mucurapo\n",
      " City number:387 brae\n",
      " City number:388 da nang\n",
      " City number:389 kandrian\n",
      " City number:390 fortuna\n",
      " City number:391 jintur\n",
      " City number:392 kula\n",
      " City number:393 muros\n",
      " City number:394 hovd\n",
      " City number:395 aksarka\n",
      "Country not found\n",
      "Country not found\n",
      " City number:396 mayo\n",
      " City number:397 nalbari\n",
      " City number:398 ucluelet\n",
      " City number:399 pilar\n",
      " City number:400 swan hill\n",
      " City number:401 chernyshevskiy\n",
      " City number:402 lithakia\n",
      " City number:403 singkawang\n",
      " City number:404 surgut\n",
      " City number:405 narrabri\n",
      "Country not found\n",
      " City number:406 cabo san lucas\n",
      " City number:407 olafsvik\n",
      " City number:408 avera\n",
      " City number:409 tiksi\n",
      " City number:410 kunya\n",
      " City number:411 sharjah\n",
      " City number:412 alvand\n",
      " City number:413 puerto escondido\n",
      " City number:414 mount gambier\n",
      " City number:415 gillette\n",
      " City number:416 vanimo\n",
      " City number:417 barranca\n",
      " City number:418 svetlaya\n",
      " City number:419 denpasar\n",
      " City number:420 kaputa\n",
      " City number:421 namibe\n",
      " City number:422 bilma\n",
      "Country not found\n",
      " City number:423 kruisfontein\n",
      " City number:424 banda aceh\n",
      " City number:425 tarko-sale\n",
      " City number:426 victoria\n",
      " City number:427 ossora\n",
      " City number:428 gibara\n",
      " City number:429 iquique\n",
      " City number:430 te anau\n",
      " City number:431 bay roberts\n",
      " City number:432 tuatapere\n",
      " City number:433 jalu\n",
      " City number:434 mehran\n",
      " City number:435 panaba\n",
      " City number:436 labuhan\n",
      " City number:437 kiruna\n",
      " City number:438 makat\n",
      " City number:439 codrington\n",
      " City number:440 san pedro de ycuamandiyu\n",
      "Country not found\n",
      " City number:441 alofi\n",
      " City number:442 mattru\n",
      " City number:443 kyabe\n",
      " City number:444 grong\n",
      " City number:445 juquia\n",
      " City number:446 coihaique\n",
      " City number:447 atambua\n",
      " City number:448 lavrentiya\n",
      " City number:449 gallup\n",
      " City number:450 listowel\n",
      " City number:451 nioki\n",
      " City number:452 jacareacanga\n",
      "Country not found\n",
      " City number:453 luancheng\n",
      "Country not found\n",
      " City number:454 kyshtovka\n",
      " City number:455 southbridge\n",
      " City number:456 marechal candido rondon\n",
      " City number:457 kaohsiung\n",
      " City number:458 stuttgart\n",
      " City number:459 elk river\n",
      " City number:460 sobolevo\n",
      "Country not found\n",
      " City number:461 dorogino\n",
      " City number:462 dimona\n",
      " City number:463 kurchum\n",
      " City number:464 touros\n",
      " City number:465 heihe\n",
      " City number:466 gorzow wielkopolski\n",
      "Country not found\n",
      " City number:467 maldonado\n",
      " City number:468 murgab\n",
      " City number:469 miri\n",
      " City number:470 nogliki\n",
      " City number:471 srivardhan\n",
      " City number:472 saint simons\n",
      " City number:473 rabaul\n",
      " City number:474 gasa\n",
      " City number:475 pa sang\n",
      " City number:476 belmonte\n",
      " City number:477 korla\n",
      " City number:478 grenfell\n",
      " City number:479 chongqing\n",
      "Country not found\n",
      "Country not found\n",
      " City number:480 moose factory\n",
      " City number:481 veraval\n",
      " City number:482 yinchuan\n",
      " City number:483 marsh harbour\n",
      " City number:484 makkaveyevo\n",
      " City number:485 airai\n",
      " City number:486 batagay\n",
      "Country not found\n",
      " City number:487 yamada\n",
      " City number:488 talnakh\n",
      " City number:489 basco\n",
      " City number:490 gorontalo\n",
      "Country not found\n",
      " City number:491 ilo\n",
      " City number:492 rayachoti\n",
      " City number:493 evensk\n",
      "Country not found\n",
      " City number:494 ballyshannon\n",
      " City number:495 kisangani\n",
      " City number:496 parana\n",
      "Country not found\n",
      " City number:497 rincon\n",
      " City number:498 luang prabang\n",
      " City number:499 ilulissat\n",
      " City number:500 altay\n",
      " City number:501 tagab\n",
      "Country not found\n",
      " City number:502 port blair\n",
      " City number:503 vao\n",
      " City number:504 empalme\n",
      " City number:505 damavand\n",
      " City number:506 youghal\n",
      " City number:507 calabozo\n",
      " City number:508 shimoda\n",
      " City number:509 arroyo\n",
      " City number:510 puerto suarez\n",
      " City number:511 wanning\n",
      " City number:512 yumen\n",
      " City number:513 baker city\n",
      " City number:514 papetoai\n",
      " City number:515 hervey bay\n",
      " City number:516 kenai\n",
      " City number:517 clarence town\n",
      " City number:518 berlevag\n",
      " City number:519 lesozavodsk\n",
      " City number:520 sistranda\n",
      " City number:521 tyukhtet\n",
      " City number:522 arcata\n",
      " City number:523 vakhrushev\n",
      " City number:524 dondo\n",
      " City number:525 salinopolis\n",
      " City number:526 bongandanga\n",
      " City number:527 orlovskiy\n",
      " City number:528 saint-pierre\n",
      " City number:529 novichikha\n",
      " City number:530 oktyabrskiy\n",
      " City number:531 fairview\n",
      " City number:532 santa barbara\n",
      " City number:533 palu\n",
      " City number:534 yantzaza\n",
      " City number:535 yeppoon\n",
      " City number:536 mendi\n",
      " City number:537 maltahohe\n",
      " City number:538 puerto leguizamo\n",
      " City number:539 zyryanka\n",
      " City number:540 bandarbeyla\n"
     ]
    }
   ],
   "source": [
    "# Save config information.\n",
    "base = \"http://api.openweathermap.org/data/2.5/weather?\" \n",
    "units = \"metric\"\n",
    "ncity = 1\n",
    "\n",
    "city_data = []\n",
    "\n",
    "for city in cities:\n",
    "    url = f'{base}appid={weather_api_key}&units={units}&q='\n",
    "    \n",
    "    try:\n",
    "        response = requests.get(url + city).json()\n",
    "        country = response[\"sys\"][\"country\"]\n",
    "        latitude= response[\"coord\"][\"lat\"]\n",
    "        longitude =response[\"coord\"][\"lon\"]\n",
    "        temperature = response[\"main\"][\"temp\"]\n",
    "        humidity =response[\"main\"][\"humidity\"]\n",
    "        cloudiness= response[\"clouds\"][\"all\"]\n",
    "        wind_speed=response[\"wind\"][\"speed\"]\n",
    "        city_data.append({\"City\":city, \"Country\": country, 'Latitude':latitude, \n",
    "                          \"Longitude\": longitude, \"Temperature\": temperature, \"Humidity\": humidity,\n",
    "                         \"Cloudiness\": cloudiness, \"Windspeed\": wind_speed})\n",
    "        \n",
    "        print(f\" City number:{ncity} {city}\")\n",
    "        \n",
    "        ncity +=1\n",
    "    \n",
    "    except:\n",
    "        print(\"Country not found\")\n",
    "\n",
    "\n"
   ]
  },
  {
   "cell_type": "code",
   "execution_count": 62,
   "metadata": {},
   "outputs": [
    {
     "data": {
      "text/html": [
       "<div>\n",
       "<style scoped>\n",
       "    .dataframe tbody tr th:only-of-type {\n",
       "        vertical-align: middle;\n",
       "    }\n",
       "\n",
       "    .dataframe tbody tr th {\n",
       "        vertical-align: top;\n",
       "    }\n",
       "\n",
       "    .dataframe thead th {\n",
       "        text-align: right;\n",
       "    }\n",
       "</style>\n",
       "<table border=\"1\" class=\"dataframe\">\n",
       "  <thead>\n",
       "    <tr style=\"text-align: right;\">\n",
       "      <th></th>\n",
       "      <th>City</th>\n",
       "      <th>Country</th>\n",
       "      <th>Latitude</th>\n",
       "      <th>Longitude</th>\n",
       "      <th>Temperature</th>\n",
       "      <th>Humidity</th>\n",
       "      <th>Cloudiness</th>\n",
       "      <th>Windspeed</th>\n",
       "    </tr>\n",
       "  </thead>\n",
       "  <tbody>\n",
       "    <tr>\n",
       "      <th>0</th>\n",
       "      <td>provideniya</td>\n",
       "      <td>RU</td>\n",
       "      <td>64.3833</td>\n",
       "      <td>-173.3000</td>\n",
       "      <td>-5.64</td>\n",
       "      <td>86</td>\n",
       "      <td>98</td>\n",
       "      <td>11.44</td>\n",
       "    </tr>\n",
       "    <tr>\n",
       "      <th>1</th>\n",
       "      <td>havre-saint-pierre</td>\n",
       "      <td>CA</td>\n",
       "      <td>50.2334</td>\n",
       "      <td>-63.5986</td>\n",
       "      <td>24.80</td>\n",
       "      <td>68</td>\n",
       "      <td>90</td>\n",
       "      <td>6.17</td>\n",
       "    </tr>\n",
       "    <tr>\n",
       "      <th>2</th>\n",
       "      <td>faanui</td>\n",
       "      <td>PF</td>\n",
       "      <td>-16.4833</td>\n",
       "      <td>-151.7500</td>\n",
       "      <td>81.75</td>\n",
       "      <td>68</td>\n",
       "      <td>29</td>\n",
       "      <td>4.58</td>\n",
       "    </tr>\n",
       "    <tr>\n",
       "      <th>3</th>\n",
       "      <td>rikitea</td>\n",
       "      <td>PF</td>\n",
       "      <td>-23.1203</td>\n",
       "      <td>-134.9692</td>\n",
       "      <td>79.38</td>\n",
       "      <td>70</td>\n",
       "      <td>9</td>\n",
       "      <td>2.02</td>\n",
       "    </tr>\n",
       "    <tr>\n",
       "      <th>4</th>\n",
       "      <td>kishanganj</td>\n",
       "      <td>IN</td>\n",
       "      <td>26.1167</td>\n",
       "      <td>87.9333</td>\n",
       "      <td>83.53</td>\n",
       "      <td>28</td>\n",
       "      <td>8</td>\n",
       "      <td>3.43</td>\n",
       "    </tr>\n",
       "    <tr>\n",
       "      <th>...</th>\n",
       "      <td>...</td>\n",
       "      <td>...</td>\n",
       "      <td>...</td>\n",
       "      <td>...</td>\n",
       "      <td>...</td>\n",
       "      <td>...</td>\n",
       "      <td>...</td>\n",
       "      <td>...</td>\n",
       "    </tr>\n",
       "    <tr>\n",
       "      <th>535</th>\n",
       "      <td>mendi</td>\n",
       "      <td>PG</td>\n",
       "      <td>-6.1761</td>\n",
       "      <td>143.6513</td>\n",
       "      <td>58.35</td>\n",
       "      <td>99</td>\n",
       "      <td>100</td>\n",
       "      <td>0.12</td>\n",
       "    </tr>\n",
       "    <tr>\n",
       "      <th>536</th>\n",
       "      <td>maltahohe</td>\n",
       "      <td>NA</td>\n",
       "      <td>-24.8333</td>\n",
       "      <td>16.9833</td>\n",
       "      <td>78.04</td>\n",
       "      <td>40</td>\n",
       "      <td>2</td>\n",
       "      <td>9.06</td>\n",
       "    </tr>\n",
       "    <tr>\n",
       "      <th>537</th>\n",
       "      <td>puerto leguizamo</td>\n",
       "      <td>CO</td>\n",
       "      <td>-0.1934</td>\n",
       "      <td>-74.7819</td>\n",
       "      <td>71.53</td>\n",
       "      <td>74</td>\n",
       "      <td>45</td>\n",
       "      <td>0.63</td>\n",
       "    </tr>\n",
       "    <tr>\n",
       "      <th>538</th>\n",
       "      <td>zyryanka</td>\n",
       "      <td>RU</td>\n",
       "      <td>65.7500</td>\n",
       "      <td>150.8500</td>\n",
       "      <td>-25.20</td>\n",
       "      <td>87</td>\n",
       "      <td>63</td>\n",
       "      <td>0.96</td>\n",
       "    </tr>\n",
       "    <tr>\n",
       "      <th>539</th>\n",
       "      <td>bandarbeyla</td>\n",
       "      <td>SO</td>\n",
       "      <td>9.4942</td>\n",
       "      <td>50.8122</td>\n",
       "      <td>78.69</td>\n",
       "      <td>54</td>\n",
       "      <td>26</td>\n",
       "      <td>8.20</td>\n",
       "    </tr>\n",
       "  </tbody>\n",
       "</table>\n",
       "<p>540 rows × 8 columns</p>\n",
       "</div>"
      ],
      "text/plain": [
       "                   City Country  Latitude  Longitude  Temperature  Humidity  \\\n",
       "0           provideniya      RU   64.3833  -173.3000        -5.64        86   \n",
       "1    havre-saint-pierre      CA   50.2334   -63.5986        24.80        68   \n",
       "2                faanui      PF  -16.4833  -151.7500        81.75        68   \n",
       "3               rikitea      PF  -23.1203  -134.9692        79.38        70   \n",
       "4            kishanganj      IN   26.1167    87.9333        83.53        28   \n",
       "..                  ...     ...       ...        ...          ...       ...   \n",
       "535               mendi      PG   -6.1761   143.6513        58.35        99   \n",
       "536           maltahohe      NA  -24.8333    16.9833        78.04        40   \n",
       "537    puerto leguizamo      CO   -0.1934   -74.7819        71.53        74   \n",
       "538            zyryanka      RU   65.7500   150.8500       -25.20        87   \n",
       "539         bandarbeyla      SO    9.4942    50.8122        78.69        54   \n",
       "\n",
       "     Cloudiness  Windspeed  \n",
       "0            98      11.44  \n",
       "1            90       6.17  \n",
       "2            29       4.58  \n",
       "3             9       2.02  \n",
       "4             8       3.43  \n",
       "..          ...        ...  \n",
       "535         100       0.12  \n",
       "536           2       9.06  \n",
       "537          45       0.63  \n",
       "538          63       0.96  \n",
       "539          26       8.20  \n",
       "\n",
       "[540 rows x 8 columns]"
      ]
     },
     "execution_count": 62,
     "metadata": {},
     "output_type": "execute_result"
    }
   ],
   "source": [
    "weatherdf =pd.DataFrame(city_data)\n",
    "weatherdf[\"Temperature\"] = round(1.8 * weatherdf['Temperature'] + 32,2)\n",
    "weatherdf"
   ]
  },
  {
   "cell_type": "markdown",
   "metadata": {},
   "source": [
    "## Inspect the data and remove the cities where the humidity > 100%.\n",
    "----\n",
    "Skip this step if there are no cities that have humidity > 100%. "
   ]
  },
  {
   "cell_type": "code",
   "execution_count": 63,
   "metadata": {},
   "outputs": [
    {
     "data": {
      "text/html": [
       "<div>\n",
       "<style scoped>\n",
       "    .dataframe tbody tr th:only-of-type {\n",
       "        vertical-align: middle;\n",
       "    }\n",
       "\n",
       "    .dataframe tbody tr th {\n",
       "        vertical-align: top;\n",
       "    }\n",
       "\n",
       "    .dataframe thead th {\n",
       "        text-align: right;\n",
       "    }\n",
       "</style>\n",
       "<table border=\"1\" class=\"dataframe\">\n",
       "  <thead>\n",
       "    <tr style=\"text-align: right;\">\n",
       "      <th></th>\n",
       "      <th>City</th>\n",
       "      <th>Country</th>\n",
       "      <th>Latitude</th>\n",
       "      <th>Longitude</th>\n",
       "      <th>Temperature</th>\n",
       "      <th>Humidity</th>\n",
       "      <th>Cloudiness</th>\n",
       "      <th>Windspeed</th>\n",
       "    </tr>\n",
       "  </thead>\n",
       "  <tbody>\n",
       "  </tbody>\n",
       "</table>\n",
       "</div>"
      ],
      "text/plain": [
       "Empty DataFrame\n",
       "Columns: [City, Country, Latitude, Longitude, Temperature, Humidity, Cloudiness, Windspeed]\n",
       "Index: []"
      ]
     },
     "execution_count": 63,
     "metadata": {},
     "output_type": "execute_result"
    }
   ],
   "source": [
    "#no cities over 100% humidity\n",
    "overhum = weatherdf[weatherdf[\"Humidity\"]>100]\n",
    "overhum"
   ]
  },
  {
   "cell_type": "code",
   "execution_count": 64,
   "metadata": {},
   "outputs": [],
   "source": [
    "#  Get the indices of cities that have humidity over 100%.\n",
    "#N/A"
   ]
  },
  {
   "cell_type": "code",
   "execution_count": 65,
   "metadata": {},
   "outputs": [],
   "source": [
    "# Make a new DataFrame equal to the city data to drop all humidity outliers by index.\n",
    "# Passing \"inplace=False\" will make a copy of the city_data DataFrame, which we call \"clean_city_data\".\n"
   ]
  },
  {
   "cell_type": "code",
   "execution_count": 66,
   "metadata": {},
   "outputs": [],
   "source": [
    "#N/A"
   ]
  },
  {
   "cell_type": "markdown",
   "metadata": {},
   "source": [
    "## Plotting the Data\n",
    "* Use proper labeling of the plots using plot titles (including date of analysis) and axes labels.\n",
    "* Save the plotted figures as .pngs."
   ]
  },
  {
   "cell_type": "markdown",
   "metadata": {},
   "source": [
    "## Latitude vs. Temperature Plot"
   ]
  },
  {
   "cell_type": "code",
   "execution_count": 67,
   "metadata": {
    "scrolled": true
   },
   "outputs": [
    {
     "data": {
      "image/png": "[encoded data removed]",
      "text/plain": [
       "<Figure size 432x288 with 1 Axes>"
      ]
     },
     "metadata": {
      "needs_background": "light"
     },
     "output_type": "display_data"
    }
   ],
   "source": [
    "#scatterplot Temp vs Latitude\n",
    "\n",
    "plt.scatter(weatherdf[\"Latitude\"], weatherdf[\"Temperature\"], facecolors = 'blue', marker = 'o')\n",
    "\n",
    "plt.title(\"City Latitude vs Temperature (F)\")\n",
    "plt.xlabel(\"City Latitude\")\n",
    "plt.ylabel(\"City Temperature (F)\")\n",
    "\n",
    "plt.savefig('latvstemp.png')\n",
    "plt.show()\n",
    "#Observation: The closer the city is to the equator, the higher the temperature. \n",
    "#Also, the northern hemisphere cities are getting colder than the southern hemispherer cities.\n",
    "#Factors to consider:  Winter vs Summer in the hemispheres.\n"
   ]
  },
  {
   "cell_type": "markdown",
   "metadata": {},
   "source": [
    "## Latitude vs. Humidity Plot"
   ]
  },
  {
   "cell_type": "code",
   "execution_count": 68,
   "metadata": {},
   "outputs": [
    {
     "data": {
      "image/png": "[encoded data removed]",
      "text/plain": [
       "<Figure size 432x288 with 1 Axes>"
      ]
     },
     "metadata": {
      "needs_background": "light"
     },
     "output_type": "display_data"
    }
   ],
   "source": [
    "plt.scatter(weatherdf[\"Latitude\"], weatherdf[\"Humidity\"], facecolors = 'blue', marker = 'o')\n",
    "\n",
    "plt.title(\"Latitude vs Humidity %\")\n",
    "plt.xlabel(\"City Latitude\")\n",
    "plt.ylabel(\"City Humidity %\")\n",
    "plt.savefig('latvshum.png')\n",
    "plt.show()\n",
    "#Observation: The cities closest to the equator does not necessarily mean the humidity percentage is higher.  \n",
    "#If fact, some cities closer to the equator are less humidity right now than other cities. \n",
    "#Factors to consider:  Winter vs Summer in the hemispheres."
   ]
  },
  {
   "cell_type": "markdown",
   "metadata": {},
   "source": [
    "## Latitude vs. Cloudiness Plot"
   ]
  },
  {
   "cell_type": "code",
   "execution_count": 69,
   "metadata": {},
   "outputs": [
    {
     "data": {
      "image/png": "[encoded data removed]",
      "text/plain": [
       "<Figure size 432x288 with 1 Axes>"
      ]
     },
     "metadata": {
      "needs_background": "light"
     },
     "output_type": "display_data"
    }
   ],
   "source": [
    "plt.scatter(weatherdf[\"Latitude\"], weatherdf[\"Cloudiness\"], facecolors = 'blue', marker = 'o')\n",
    "\n",
    "plt.title(\"Latitude vs Cloudiness %\")\n",
    "plt.xlabel(\"City Latitude\")\n",
    "plt.ylabel(\"Cloudiness %\")\n",
    "plt.savefig('latvscloud.png')\n",
    "plt.show()\n",
    "#Observations: Cities tend to have more 0% cloudiness or 100% than anything in between no matter the city's latitude."
   ]
  },
  {
   "cell_type": "markdown",
   "metadata": {},
   "source": [
    "## Latitude vs. Wind Speed Plot"
   ]
  },
  {
   "cell_type": "code",
   "execution_count": 70,
   "metadata": {},
   "outputs": [
    {
     "data": {
      "image/png": "[encoded data removed]",
      "text/plain": [
       "<Figure size 432x288 with 1 Axes>"
      ]
     },
     "metadata": {
      "needs_background": "light"
     },
     "output_type": "display_data"
    }
   ],
   "source": [
    "plt.scatter(weatherdf[\"Latitude\"], weatherdf[\"Windspeed\"], facecolors = 'blue', marker = 'o')\n",
    "\n",
    "plt.title(\"Latitude vs Wind Speed (mph)\")\n",
    "plt.xlabel(\"City Latitude\")\n",
    "plt.ylabel(\"Wind Speed (mph)\")\n",
    "plt.savefig('latvswind.png')\n",
    "plt.show()\n",
    "#Observations: The city's latitude does not have a high correlation with the wind speed in that city. Most city's wind blows at about 5mph or lower each day."
   ]
  },
  {
   "cell_type": "markdown",
   "metadata": {},
   "source": [
    "## Linear Regression"
   ]
  },
  {
   "cell_type": "code",
   "execution_count": 71,
   "metadata": {},
   "outputs": [],
   "source": [
    "#dataframe for just North Hemisphere\n",
    "northtemp = weatherdf[weatherdf[\"Latitude\"]>0]"
   ]
  },
  {
   "cell_type": "markdown",
   "metadata": {},
   "source": [
    "####  Northern Hemisphere - Max Temp vs. Latitude Linear Regression"
   ]
  },
  {
   "cell_type": "code",
   "execution_count": 72,
   "metadata": {},
   "outputs": [
    {
     "name": "stdout",
     "output_type": "stream",
     "text": [
      "y = -1.51x +98.67\n"
     ]
    },
    {
     "data": {
      "text/plain": [
       "LinregressResult(slope=-1.5071501343495597, intercept=98.6727376676795, rvalue=-0.8660209266055193, pvalue=8.021260071568106e-113, stderr=0.04536082666695079)"
      ]
     },
     "execution_count": 72,
     "metadata": {},
     "output_type": "execute_result"
    }
   ],
   "source": [
    "#define the axis\n",
    "x_values = northtemp['Latitude']\n",
    "y_values = northtemp['Temperature']\n",
    "\n",
    "# Perform a linear regression on temperature vs. latitude\n",
    "(slope, intercept, rvalue, pvalue, stderr) = stats.linregress(x_values, y_values)\n",
    "\n",
    "#define regression values\n",
    "regress_values = x_values * slope + intercept\n",
    "#print(regress_values)\n",
    "line_eq = \"y = \" + str(round(slope,2)) + \"x +\" + str(round(intercept,2))\n",
    "print(line_eq)\n",
    "stats.linregress(x_values, y_values)"
   ]
  },
  {
   "cell_type": "code",
   "execution_count": 74,
   "metadata": {},
   "outputs": [
    {
     "name": "stdout",
     "output_type": "stream",
     "text": [
      "The r value is: 0.7499922453186822\n"
     ]
    },
    {
     "data": {
      "image/png": "[encoded data removed]",
      "text/plain": [
       "<Figure size 432x288 with 1 Axes>"
      ]
     },
     "metadata": {
      "needs_background": "light"
     },
     "output_type": "display_data"
    }
   ],
   "source": [
    "plt.plot(x_values,regress_values,\"r-\")\n",
    "\n",
    "# Label plot and annotate the line equation\n",
    "plt.title(\"North Hemisphere: City Latitude vs Temperature (F)\")\n",
    "plt.xlabel(' City Latitude')\n",
    "plt.ylabel('City Temperature (F)')\n",
    "plt.annotate(line_eq,(20,15),fontsize=16,color=\"blue\")\n",
    "\n",
    "# Print r value by squaring it\n",
    "print(f\"The r value is: {rvalue**2}\")\n",
    "\n",
    "# Show plot\n",
    "plt.savefig('regresslatvstemp.png')\n",
    "plt.show()\n",
    "\n",
    "#Answer : This is modeling the temperature changing at -1.47 Farhenheit for each degree in latitude it is away from the hottest city (closest to equator) in the Northern hemisphere."
   ]
  },
  {
   "cell_type": "code",
   "execution_count": 75,
   "metadata": {},
   "outputs": [
    {
     "data": {
      "image/png": "[encoded data removed]",
      "text/plain": [
       "<Figure size 432x288 with 1 Axes>"
      ]
     },
     "metadata": {
      "needs_background": "light"
     },
     "output_type": "display_data"
    }
   ],
   "source": [
    "plt.scatter(x_values, y_values, facecolors = 'blue', marker = 'o')\n",
    "plt.title(\"North Hemisphere: City Latitude vs Temperature (F)\")\n",
    "plt.xlabel(\"City Latitude\")\n",
    "plt.ylabel(\"City Temperature (F)\")\n",
    "\n",
    "plt.show()\n",
    "#Observations: The further away from the equator, the colder the temperature. (drops in a linear way) "
   ]
  },
  {
   "cell_type": "markdown",
   "metadata": {},
   "source": [
    "####  Southern Hemisphere - Max Temp vs. Latitude Linear Regression"
   ]
  },
  {
   "cell_type": "code",
   "execution_count": 76,
   "metadata": {},
   "outputs": [
    {
     "data": {
      "text/html": [
       "<div>\n",
       "<style scoped>\n",
       "    .dataframe tbody tr th:only-of-type {\n",
       "        vertical-align: middle;\n",
       "    }\n",
       "\n",
       "    .dataframe tbody tr th {\n",
       "        vertical-align: top;\n",
       "    }\n",
       "\n",
       "    .dataframe thead th {\n",
       "        text-align: right;\n",
       "    }\n",
       "</style>\n",
       "<table border=\"1\" class=\"dataframe\">\n",
       "  <thead>\n",
       "    <tr style=\"text-align: right;\">\n",
       "      <th></th>\n",
       "      <th>City</th>\n",
       "      <th>Country</th>\n",
       "      <th>Latitude</th>\n",
       "      <th>Longitude</th>\n",
       "      <th>Temperature</th>\n",
       "      <th>Humidity</th>\n",
       "      <th>Cloudiness</th>\n",
       "      <th>Windspeed</th>\n",
       "    </tr>\n",
       "  </thead>\n",
       "  <tbody>\n",
       "    <tr>\n",
       "      <th>2</th>\n",
       "      <td>faanui</td>\n",
       "      <td>PF</td>\n",
       "      <td>-16.4833</td>\n",
       "      <td>-151.7500</td>\n",
       "      <td>81.75</td>\n",
       "      <td>68</td>\n",
       "      <td>29</td>\n",
       "      <td>4.58</td>\n",
       "    </tr>\n",
       "    <tr>\n",
       "      <th>3</th>\n",
       "      <td>rikitea</td>\n",
       "      <td>PF</td>\n",
       "      <td>-23.1203</td>\n",
       "      <td>-134.9692</td>\n",
       "      <td>79.38</td>\n",
       "      <td>70</td>\n",
       "      <td>9</td>\n",
       "      <td>2.02</td>\n",
       "    </tr>\n",
       "    <tr>\n",
       "      <th>8</th>\n",
       "      <td>east london</td>\n",
       "      <td>ZA</td>\n",
       "      <td>-33.0153</td>\n",
       "      <td>27.9116</td>\n",
       "      <td>84.20</td>\n",
       "      <td>74</td>\n",
       "      <td>0</td>\n",
       "      <td>4.63</td>\n",
       "    </tr>\n",
       "    <tr>\n",
       "      <th>10</th>\n",
       "      <td>port-gentil</td>\n",
       "      <td>GA</td>\n",
       "      <td>-0.7193</td>\n",
       "      <td>8.7815</td>\n",
       "      <td>87.80</td>\n",
       "      <td>74</td>\n",
       "      <td>40</td>\n",
       "      <td>3.60</td>\n",
       "    </tr>\n",
       "    <tr>\n",
       "      <th>11</th>\n",
       "      <td>kerema</td>\n",
       "      <td>PG</td>\n",
       "      <td>-7.9631</td>\n",
       "      <td>145.7785</td>\n",
       "      <td>81.57</td>\n",
       "      <td>75</td>\n",
       "      <td>100</td>\n",
       "      <td>0.95</td>\n",
       "    </tr>\n",
       "    <tr>\n",
       "      <th>...</th>\n",
       "      <td>...</td>\n",
       "      <td>...</td>\n",
       "      <td>...</td>\n",
       "      <td>...</td>\n",
       "      <td>...</td>\n",
       "      <td>...</td>\n",
       "      <td>...</td>\n",
       "      <td>...</td>\n",
       "    </tr>\n",
       "    <tr>\n",
       "      <th>533</th>\n",
       "      <td>yantzaza</td>\n",
       "      <td>EC</td>\n",
       "      <td>-3.8278</td>\n",
       "      <td>-78.7594</td>\n",
       "      <td>68.18</td>\n",
       "      <td>84</td>\n",
       "      <td>100</td>\n",
       "      <td>0.24</td>\n",
       "    </tr>\n",
       "    <tr>\n",
       "      <th>534</th>\n",
       "      <td>yeppoon</td>\n",
       "      <td>AU</td>\n",
       "      <td>-23.1333</td>\n",
       "      <td>150.7333</td>\n",
       "      <td>78.80</td>\n",
       "      <td>50</td>\n",
       "      <td>40</td>\n",
       "      <td>4.12</td>\n",
       "    </tr>\n",
       "    <tr>\n",
       "      <th>535</th>\n",
       "      <td>mendi</td>\n",
       "      <td>PG</td>\n",
       "      <td>-6.1761</td>\n",
       "      <td>143.6513</td>\n",
       "      <td>58.35</td>\n",
       "      <td>99</td>\n",
       "      <td>100</td>\n",
       "      <td>0.12</td>\n",
       "    </tr>\n",
       "    <tr>\n",
       "      <th>536</th>\n",
       "      <td>maltahohe</td>\n",
       "      <td>NA</td>\n",
       "      <td>-24.8333</td>\n",
       "      <td>16.9833</td>\n",
       "      <td>78.04</td>\n",
       "      <td>40</td>\n",
       "      <td>2</td>\n",
       "      <td>9.06</td>\n",
       "    </tr>\n",
       "    <tr>\n",
       "      <th>537</th>\n",
       "      <td>puerto leguizamo</td>\n",
       "      <td>CO</td>\n",
       "      <td>-0.1934</td>\n",
       "      <td>-74.7819</td>\n",
       "      <td>71.53</td>\n",
       "      <td>74</td>\n",
       "      <td>45</td>\n",
       "      <td>0.63</td>\n",
       "    </tr>\n",
       "  </tbody>\n",
       "</table>\n",
       "<p>170 rows × 8 columns</p>\n",
       "</div>"
      ],
      "text/plain": [
       "                 City Country  Latitude  Longitude  Temperature  Humidity  \\\n",
       "2              faanui      PF  -16.4833  -151.7500        81.75        68   \n",
       "3             rikitea      PF  -23.1203  -134.9692        79.38        70   \n",
       "8         east london      ZA  -33.0153    27.9116        84.20        74   \n",
       "10        port-gentil      GA   -0.7193     8.7815        87.80        74   \n",
       "11             kerema      PG   -7.9631   145.7785        81.57        75   \n",
       "..                ...     ...       ...        ...          ...       ...   \n",
       "533          yantzaza      EC   -3.8278   -78.7594        68.18        84   \n",
       "534           yeppoon      AU  -23.1333   150.7333        78.80        50   \n",
       "535             mendi      PG   -6.1761   143.6513        58.35        99   \n",
       "536         maltahohe      NA  -24.8333    16.9833        78.04        40   \n",
       "537  puerto leguizamo      CO   -0.1934   -74.7819        71.53        74   \n",
       "\n",
       "     Cloudiness  Windspeed  \n",
       "2            29       4.58  \n",
       "3             9       2.02  \n",
       "8             0       4.63  \n",
       "10           40       3.60  \n",
       "11          100       0.95  \n",
       "..          ...        ...  \n",
       "533         100       0.24  \n",
       "534          40       4.12  \n",
       "535         100       0.12  \n",
       "536           2       9.06  \n",
       "537          45       0.63  \n",
       "\n",
       "[170 rows x 8 columns]"
      ]
     },
     "execution_count": 76,
     "metadata": {},
     "output_type": "execute_result"
    }
   ],
   "source": [
    "#define souhern hemisphere dataframe\n",
    "southtemp = weatherdf[weatherdf[\"Latitude\"]<0]\n",
    "southtemp "
   ]
  },
  {
   "cell_type": "code",
   "execution_count": 77,
   "metadata": {},
   "outputs": [
    {
     "name": "stdout",
     "output_type": "stream",
     "text": [
      "y = 0.4x +82.83\n"
     ]
    },
    {
     "data": {
      "text/plain": [
       "LinregressResult(slope=0.40327896316450496, intercept=82.82905487637817, rvalue=0.5551046025290757, pvalue=3.982684570314177e-15, stderr=0.046621351449818126)"
      ]
     },
     "execution_count": 77,
     "metadata": {},
     "output_type": "execute_result"
    }
   ],
   "source": [
    "#define the axis\n",
    "x_values = southtemp['Latitude']\n",
    "y_values = southtemp['Temperature']\n",
    "\n",
    "# Perform a linear regression on temperature vs. latitude\n",
    "(slope, intercept, rvalue, pvalue, stderr) = stats.linregress(x_values, y_values)\n",
    "\n",
    "#define regression values\n",
    "regress_values = x_values * slope + intercept\n",
    "#print(regress_values)\n",
    "line_eq = \"y = \" + str(round(slope,2)) + \"x +\" + str(round(intercept,2))\n",
    "print(line_eq)\n",
    "stats.linregress(x_values, y_values)"
   ]
  },
  {
   "cell_type": "code",
   "execution_count": 80,
   "metadata": {},
   "outputs": [
    {
     "name": "stdout",
     "output_type": "stream",
     "text": [
      "The r value is: 0.3081411197489631\n"
     ]
    },
    {
     "data": {
      "image/png": "[encoded data removed]",
      "text/plain": [
       "<Figure size 432x288 with 1 Axes>"
      ]
     },
     "metadata": {
      "needs_background": "light"
     },
     "output_type": "display_data"
    }
   ],
   "source": [
    "plt.plot(x_values,regress_values,\"r-\")\n",
    "\n",
    "# Label plot and annotate the line equation\n",
    "plt.title(\"South Hemisphere: City Latitude vs Temperature (F)\")\n",
    "plt.xlabel(' City Latitude')\n",
    "plt.ylabel('City Temperature (F)')\n",
    "plt.annotate(line_eq,(-30,75),fontsize=16,color=\"blue\")\n",
    "\n",
    "# Print r value by squaring it\n",
    "print(f\"The r value is: {rvalue**2}\")\n",
    "\n",
    "# Show plot\n",
    "plt.savefig('regresslatvstemp2.png')\n",
    "plt.show()\n",
    "#Answer: This is modeling the temperature changing at 0.37 degrees Farhenheit for each degree in latitude it is away from the coldest city in the Southern Hemisphere."
   ]
  },
  {
   "cell_type": "code",
   "execution_count": 81,
   "metadata": {},
   "outputs": [
    {
     "data": {
      "image/png": "[encoded data removed]",
      "text/plain": [
       "<Figure size 432x288 with 1 Axes>"
      ]
     },
     "metadata": {
      "needs_background": "light"
     },
     "output_type": "display_data"
    }
   ],
   "source": [
    "#scatterplot southern hemisphere latitude vs temperature\n",
    "plt.scatter(southtemp[\"Latitude\"], southtemp[\"Temperature\"], facecolors = 'blue', marker = 'o')\n",
    "plt.title(\"South Hemisphere: City Latitude vs Temperature (F)\")\n",
    "plt.xlabel(\"City Latitude\")\n",
    "plt.ylabel(\"City Temperature (F)\")\n",
    "\n",
    "plt.show()\n",
    "#Observations: The cities in the souther hemisphere show an decrease in temperature as they get further from the equator.\n",
    "#The correlation isn't as strong as the northern hemisphere. "
   ]
  },
  {
   "cell_type": "markdown",
   "metadata": {},
   "source": [
    "####  Northern Hemisphere - Humidity (%) vs. Latitude Linear Regression"
   ]
  },
  {
   "cell_type": "code",
   "execution_count": 82,
   "metadata": {},
   "outputs": [
    {
     "name": "stdout",
     "output_type": "stream",
     "text": [
      "y = 0.46x +50.83\n"
     ]
    },
    {
     "data": {
      "text/plain": [
       "LinregressResult(slope=0.45951309017526254, intercept=50.82577351616061, rvalue=0.38416406598543956, pvalue=1.8524539626725613e-14, stderr=0.05756831757189988)"
      ]
     },
     "execution_count": 82,
     "metadata": {},
     "output_type": "execute_result"
    }
   ],
   "source": [
    "#define the axis\n",
    "x_values = northtemp['Latitude']\n",
    "y_values = northtemp['Humidity']\n",
    "\n",
    "# Perform a linear regression on temperature vs. latitude\n",
    "(slope, intercept, rvalue, pvalue, stderr) = stats.linregress(x_values, y_values)\n",
    "\n",
    "#define regression values\n",
    "regress_values = x_values * slope + intercept\n",
    "#print(regress_values)\n",
    "line_eq = \"y = \" + str(round(slope,2)) + \"x +\" + str(round(intercept,2))\n",
    "print(line_eq)\n",
    "stats.linregress(x_values, y_values)"
   ]
  },
  {
   "cell_type": "code",
   "execution_count": 85,
   "metadata": {},
   "outputs": [
    {
     "name": "stdout",
     "output_type": "stream",
     "text": [
      "The r value is: 0.14758202959446517\n"
     ]
    },
    {
     "data": {
      "image/png": "[encoded data removed]",
      "text/plain": [
       "<Figure size 432x288 with 1 Axes>"
      ]
     },
     "metadata": {
      "needs_background": "light"
     },
     "output_type": "display_data"
    }
   ],
   "source": [
    "plt.plot(x_values,regress_values,\"r-\")\n",
    "\n",
    "# Label plot and annotate the line equation\n",
    "plt.title(\"North Hemisphere: City Latitude vs Humidity %\")\n",
    "plt.xlabel(' City Latitude')\n",
    "plt.ylabel('City Humidity %')\n",
    "plt.annotate(line_eq,(30,75),fontsize=16,color=\"blue\")\n",
    "\n",
    "# Print r value by squaring it\n",
    "print(f\"The r value is: {rvalue**2}\")\n",
    "\n",
    "# Show plot\n",
    "plt.savefig('latvshum.png')\n",
    "plt.show()\n",
    "#Answer: The increase in city humidity is 0.39% for each latitude degree it is away from the hottest city in the Northern Hemisphere."
   ]
  },
  {
   "cell_type": "code",
   "execution_count": 86,
   "metadata": {},
   "outputs": [
    {
     "data": {
      "image/png": "[encoded data removed]",
      "text/plain": [
       "<Figure size 432x288 with 1 Axes>"
      ]
     },
     "metadata": {
      "needs_background": "light"
     },
     "output_type": "display_data"
    }
   ],
   "source": [
    "plt.scatter(northtemp[\"Latitude\"], northtemp[\"Humidity\"], facecolors = 'blue', marker = 'o')\n",
    "\n",
    "plt.title(\"North Hemisphere: City Latitude vs Humdity (%)\")\n",
    "plt.xlabel(\"City Latitude\")\n",
    "plt.ylabel(\"City Humdity (%)\")\n",
    "\n",
    "plt.show()\n",
    "#Observations: The further away from the equator, the clolder the temperature. (drops in a linear way)"
   ]
  },
  {
   "cell_type": "markdown",
   "metadata": {},
   "source": [
    "####  Southern Hemisphere - Humidity (%) vs. Latitude Linear Regression"
   ]
  },
  {
   "cell_type": "code",
   "execution_count": 87,
   "metadata": {},
   "outputs": [
    {
     "name": "stdout",
     "output_type": "stream",
     "text": [
      "y = 0.21x +80.62\n"
     ]
    },
    {
     "data": {
      "text/plain": [
       "LinregressResult(slope=0.21228744908469718, intercept=80.62062713739179, rvalue=0.1730255296152375, pvalue=0.02404693736203581, stderr=0.09323077056161093)"
      ]
     },
     "execution_count": 87,
     "metadata": {},
     "output_type": "execute_result"
    }
   ],
   "source": [
    "#define the axis\n",
    "x_values = southtemp['Latitude']\n",
    "y_values = southtemp['Humidity']\n",
    "\n",
    "# Perform a linear regression on temperature vs. latitude\n",
    "(slope, intercept, rvalue, pvalue, stderr) = stats.linregress(x_values, y_values)\n",
    "\n",
    "#define regression values\n",
    "regress_values = x_values * slope + intercept\n",
    "#print(regress_values)\n",
    "line_eq = \"y = \" + str(round(slope,2)) + \"x +\" + str(round(intercept,2))\n",
    "print(line_eq)\n",
    "stats.linregress(x_values, y_values)"
   ]
  },
  {
   "cell_type": "code",
   "execution_count": 90,
   "metadata": {},
   "outputs": [
    {
     "name": "stdout",
     "output_type": "stream",
     "text": [
      "The r value is: 0.029937833898633432\n"
     ]
    },
    {
     "data": {
      "image/png": "[encoded data removed]",
      "text/plain": [
       "<Figure size 432x288 with 1 Axes>"
      ]
     },
     "metadata": {
      "needs_background": "light"
     },
     "output_type": "display_data"
    }
   ],
   "source": [
    "plt.plot(x_values,regress_values,\"r-\")\n",
    "\n",
    "# Label plot and annotate the line equation\n",
    "plt.title(\"South Hemisphere: City Latitude vs Humidity (%)\")\n",
    "plt.xlabel(' City Latitude')\n",
    "plt.ylabel('City Humidity (%)')\n",
    "plt.annotate(line_eq,(-40,76),fontsize=16,color=\"blue\")\n",
    "\n",
    "# Print r value by squaring it\n",
    "print(f\"The r value is: {rvalue**2}\")\n",
    "\n",
    "# Show plot\n",
    "plt.savefig('latvshum2.png')\n",
    "plt.show()\n",
    "#Answer: The city humidity increases by 0.38% for each latitude degree it is away from the coldest city in the Southern Hemisphere."
   ]
  },
  {
   "cell_type": "code",
   "execution_count": 91,
   "metadata": {},
   "outputs": [
    {
     "data": {
      "image/png": "[encoded data removed]",
      "text/plain": [
       "<Figure size 432x288 with 1 Axes>"
      ]
     },
     "metadata": {
      "needs_background": "light"
     },
     "output_type": "display_data"
    }
   ],
   "source": [
    "plt.scatter(southtemp[\"Latitude\"], southtemp[\"Humidity\"], facecolors = 'blue', marker = 'o')\n",
    "\n",
    "plt.title(\"South Hemisphere: City Latitude vs Humidity (%)\")\n",
    "plt.xlabel(\"City Latitude\")\n",
    "plt.ylabel(\"City Humidity (%)\")\n",
    "\n",
    "plt.show()"
   ]
  },
  {
   "cell_type": "markdown",
   "metadata": {},
   "source": [
    "####  Northern Hemisphere - Cloudiness (%) vs. Latitude Linear Regression"
   ]
  },
  {
   "cell_type": "code",
   "execution_count": 92,
   "metadata": {},
   "outputs": [
    {
     "name": "stdout",
     "output_type": "stream",
     "text": [
      "y = 0.49x +28.74\n"
     ]
    },
    {
     "data": {
      "text/plain": [
       "LinregressResult(slope=0.49387098930501605, intercept=28.744831809082374, rvalue=0.24081237683190204, pvalue=2.7917275743770027e-06, stderr=0.10376202059139693)"
      ]
     },
     "execution_count": 92,
     "metadata": {},
     "output_type": "execute_result"
    }
   ],
   "source": [
    "#define the axis\n",
    "x_values = northtemp['Latitude']\n",
    "y_values = northtemp['Cloudiness']\n",
    "\n",
    "# Perform a linear regression on temperature vs. latitude\n",
    "(slope, intercept, rvalue, pvalue, stderr) = stats.linregress(x_values, y_values)\n",
    "\n",
    "#define regression values\n",
    "regress_values = x_values * slope + intercept\n",
    "#print(regress_values)\n",
    "line_eq = \"y = \" + str(round(slope,2)) + \"x +\" + str(round(intercept,2))\n",
    "print(line_eq)\n",
    "stats.linregress(x_values, y_values)"
   ]
  },
  {
   "cell_type": "code",
   "execution_count": 96,
   "metadata": {},
   "outputs": [
    {
     "name": "stdout",
     "output_type": "stream",
     "text": [
      "The r value is: 0.05799060083542999\n"
     ]
    },
    {
     "data": {
      "image/png": "[encoded data removed]",
      "text/plain": [
       "<Figure size 432x288 with 1 Axes>"
      ]
     },
     "metadata": {
      "needs_background": "light"
     },
     "output_type": "display_data"
    }
   ],
   "source": [
    "plt.plot(x_values,regress_values,\"r-\")\n",
    "\n",
    "# Label plot and annotate the line equation\n",
    "plt.title(\"North Hemisphere: City Latitude vs Cloudiness %\")\n",
    "plt.xlabel('City Latitude')\n",
    "plt.ylabel('City Cloudiness %')\n",
    "plt.annotate(line_eq,(20,55),fontsize=16,color=\"blue\")\n",
    "\n",
    "# Print r value by squaring it\n",
    "print(f\"The r value is: {rvalue**2}\")\n",
    "\n",
    "# Show plot\n",
    "plt.savefig('latvscloud.png')\n",
    "plt.show()\n",
    "#Answer: The cloudiness changes by 0.24% for every latitude degree it is away from the equator"
   ]
  },
  {
   "cell_type": "code",
   "execution_count": 97,
   "metadata": {},
   "outputs": [
    {
     "data": {
      "image/png": "[encoded data removed]",
      "text/plain": [
       "<Figure size 432x288 with 1 Axes>"
      ]
     },
     "metadata": {
      "needs_background": "light"
     },
     "output_type": "display_data"
    }
   ],
   "source": [
    "plt.scatter(northtemp[\"Latitude\"], northtemp[\"Cloudiness\"], facecolors = 'blue', marker = 'o')\n",
    "\n",
    "plt.title(\"North Hemisphere: City Latitude vs Cloudiness %\")\n",
    "plt.xlabel(\"City Latitude\")\n",
    "plt.ylabel(\"City Cloudiness %\")\n",
    "plt.show()"
   ]
  },
  {
   "cell_type": "markdown",
   "metadata": {},
   "source": [
    "####  Southern Hemisphere - Cloudiness (%) vs. Latitude Linear Regression"
   ]
  },
  {
   "cell_type": "code",
   "execution_count": 98,
   "metadata": {},
   "outputs": [
    {
     "name": "stdout",
     "output_type": "stream",
     "text": [
      "y = 0.67x +77.66\n"
     ]
    },
    {
     "data": {
      "text/plain": [
       "LinregressResult(slope=0.6695415964413128, intercept=77.65778077571433, rvalue=0.24802032983303335, pvalue=0.0011100570323614454, stderr=0.20176671426706358)"
      ]
     },
     "execution_count": 98,
     "metadata": {},
     "output_type": "execute_result"
    }
   ],
   "source": [
    "#define the axis\n",
    "x_values = southtemp['Latitude']\n",
    "y_values = southtemp['Cloudiness']\n",
    "\n",
    "# Perform a linear regression on temperature vs. latitude\n",
    "(slope, intercept, rvalue, pvalue, stderr) = stats.linregress(x_values, y_values)\n",
    "\n",
    "#define regression values\n",
    "regress_values = x_values * slope + intercept\n",
    "#print(regress_values)\n",
    "line_eq = \"y = \" + str(round(slope,2)) + \"x +\" + str(round(intercept,2))\n",
    "print(line_eq)\n",
    "stats.linregress(x_values, y_values)"
   ]
  },
  {
   "cell_type": "code",
   "execution_count": 102,
   "metadata": {},
   "outputs": [
    {
     "name": "stdout",
     "output_type": "stream",
     "text": [
      "The r value is: 0.06151408401048665\n"
     ]
    },
    {
     "data": {
      "image/png": "[encoded data removed]",
      "text/plain": [
       "<Figure size 432x288 with 1 Axes>"
      ]
     },
     "metadata": {
      "needs_background": "light"
     },
     "output_type": "display_data"
    }
   ],
   "source": [
    "plt.plot(x_values,regress_values,\"r-\")\n",
    "\n",
    "# Label plot and annotate the line equation\n",
    "plt.title(\"South Hemisphere: City Latitude vs Cloudiness %\")\n",
    "plt.xlabel('City Latitude')\n",
    "plt.ylabel('City Cloudiness %')\n",
    "plt.annotate(line_eq,(-50,65),fontsize=16,color=\"blue\")\n",
    "\n",
    "# Print r value by squaring it\n",
    "print(f\"The r value is: {rvalue**2}\")\n",
    "\n",
    "# Show plot\n",
    "plt.savefig('latvscloud2.png')\n",
    "plt.show()\n",
    "#Answer: The cloudiness changes by 1.03% for every latitude degree it is towards the equator"
   ]
  },
  {
   "cell_type": "code",
   "execution_count": 103,
   "metadata": {},
   "outputs": [
    {
     "data": {
      "image/png": "[encoded data removed]",
      "text/plain": [
       "<Figure size 432x288 with 1 Axes>"
      ]
     },
     "metadata": {
      "needs_background": "light"
     },
     "output_type": "display_data"
    }
   ],
   "source": [
    "plt.scatter(southtemp[\"Latitude\"], southtemp[\"Humidity\"], facecolors = 'blue', marker = 'o')\n",
    "\n",
    "plt.title(\"South Hemisphere: City Latitude vs Cloudiness %\")\n",
    "plt.xlabel(\"City Latitude\")\n",
    "plt.ylabel(\"City Cloudiness %\")\n",
    "\n",
    "plt.show()"
   ]
  },
  {
   "cell_type": "markdown",
   "metadata": {},
   "source": [
    "####  Northern Hemisphere - Wind Speed (mph) vs. Latitude Linear Regression"
   ]
  },
  {
   "cell_type": "code",
   "execution_count": 104,
   "metadata": {},
   "outputs": [
    {
     "name": "stdout",
     "output_type": "stream",
     "text": [
      "y = 0.02x +3.0\n"
     ]
    },
    {
     "data": {
      "text/plain": [
       "LinregressResult(slope=0.02355662941003705, intercept=2.99503495123807, rvalue=0.1515437263224885, pvalue=0.0034775520570632414, stderr=0.008009515162826747)"
      ]
     },
     "execution_count": 104,
     "metadata": {},
     "output_type": "execute_result"
    }
   ],
   "source": [
    "#define the axis\n",
    "x_values = northtemp['Latitude']\n",
    "y_values = northtemp['Windspeed']\n",
    "\n",
    "# Perform a linear regression on temperature vs. latitude\n",
    "(slope, intercept, rvalue, pvalue, stderr) = stats.linregress(x_values, y_values)\n",
    "\n",
    "#define regression values\n",
    "regress_values = x_values * slope + intercept\n",
    "#print(regress_values)\n",
    "line_eq = \"y = \" + str(round(slope,2)) + \"x +\" + str(round(intercept,2))\n",
    "print(line_eq)\n",
    "stats.linregress(x_values, y_values)"
   ]
  },
  {
   "cell_type": "code",
   "execution_count": 110,
   "metadata": {},
   "outputs": [
    {
     "name": "stdout",
     "output_type": "stream",
     "text": [
      "The r value is: 0.022965500987705292\n"
     ]
    },
    {
     "data": {
      "image/png": "[encoded data removed]",
      "text/plain": [
       "<Figure size 432x288 with 1 Axes>"
      ]
     },
     "metadata": {
      "needs_background": "light"
     },
     "output_type": "display_data"
    }
   ],
   "source": [
    "plt.plot(x_values,regress_values,\"r-\")\n",
    "\n",
    "# Label plot and annotate the line equation\n",
    "plt.title(\"North Hemisphere: City Latitude vs Windspeed (mph)\")\n",
    "plt.xlabel('City Latitude')\n",
    "plt.ylabel('City Windspeed (mph)')\n",
    "plt.annotate(line_eq,(20,4.25),fontsize=16,color=\"blue\")\n",
    "\n",
    "# Print r value by squaring it\n",
    "print(f\"The r value is: {rvalue**2}\")\n",
    "\n",
    "# Show plot\n",
    "plt.savefig('latvswind.png')\n",
    "plt.show()\n",
    "#Answer: The windspeed goes up by 0.01 mph per every latitude degree away from the equator in the Northern Hemisphere."
   ]
  },
  {
   "cell_type": "code",
   "execution_count": 111,
   "metadata": {},
   "outputs": [
    {
     "data": {
      "image/png": "[encoded data removed]",
      "text/plain": [
       "<Figure size 432x288 with 1 Axes>"
      ]
     },
     "metadata": {
      "needs_background": "light"
     },
     "output_type": "display_data"
    }
   ],
   "source": [
    "plt.scatter(northtemp[\"Latitude\"], northtemp[\"Windspeed\"], facecolors = 'blue', marker = 'o')\n",
    "\n",
    "plt.title(\"North Hemisphere: City Latitude vs Windspeed (mph)\")\n",
    "plt.xlabel(\"City Latitude\")\n",
    "plt.ylabel(\"City Windspeed (mph)\")\n",
    "plt.show()"
   ]
  },
  {
   "cell_type": "markdown",
   "metadata": {},
   "source": [
    "####  Southern Hemisphere - Wind Speed (mph) vs. Latitude Linear Regression"
   ]
  },
  {
   "cell_type": "code",
   "execution_count": 112,
   "metadata": {},
   "outputs": [
    {
     "name": "stdout",
     "output_type": "stream",
     "text": [
      "y = -0.04x +2.36\n"
     ]
    },
    {
     "data": {
      "text/plain": [
       "LinregressResult(slope=-0.044428971861361334, intercept=2.361774531923674, rvalue=-0.24301341874568896, pvalue=0.0014073672980021586, stderr=0.013682434136635009)"
      ]
     },
     "execution_count": 112,
     "metadata": {},
     "output_type": "execute_result"
    }
   ],
   "source": [
    "#define the axis\n",
    "x_values = southtemp['Latitude']\n",
    "y_values = southtemp['Windspeed']\n",
    "\n",
    "# Perform a linear regression on temperature vs. latitude\n",
    "(slope, intercept, rvalue, pvalue, stderr) = stats.linregress(x_values, y_values)\n",
    "\n",
    "#define regression values\n",
    "regress_values = x_values * slope + intercept\n",
    "#print(regress_values)\n",
    "line_eq = \"y = \" + str(round(slope,2)) + \"x +\" + str(round(intercept,2))\n",
    "print(line_eq)\n",
    "stats.linregress(x_values, y_values)"
   ]
  },
  {
   "cell_type": "code",
   "execution_count": 117,
   "metadata": {},
   "outputs": [
    {
     "name": "stdout",
     "output_type": "stream",
     "text": [
      "The r value is: 0.05905552169046757\n"
     ]
    },
    {
     "data": {
      "image/png": "[encoded data removed]",
      "text/plain": [
       "<Figure size 432x288 with 1 Axes>"
      ]
     },
     "metadata": {
      "needs_background": "light"
     },
     "output_type": "display_data"
    }
   ],
   "source": [
    "plt.plot(x_values,regress_values,\"r-\")\n",
    "\n",
    "# Label plot and annotate the line equation\n",
    "plt.title(\"South Hemisphere: City Latitude vs Windspeed(mph)\")\n",
    "plt.xlabel('City Latitude')\n",
    "plt.ylabel('City Windspeed(mph)')\n",
    "plt.annotate(line_eq,(-40,4.2),fontsize=16,color=\"blue\")\n",
    "\n",
    "# Print r value by squaring it\n",
    "print(f\"The r value is: {rvalue**2}\")\n",
    "\n",
    "# Show plot\n",
    "plt.savefig('latvswind2.png')\n",
    "plt.show()\n",
    "#Answer: The windspeed goes down by 0.03 mph per every latitude degree towards the equator in the Southern Hemisphere."
   ]
  },
  {
   "cell_type": "code",
   "execution_count": 118,
   "metadata": {},
   "outputs": [
    {
     "data": {
      "image/png": "[encoded data removed]",
      "text/plain": [
       "<Figure size 432x288 with 1 Axes>"
      ]
     },
     "metadata": {
      "needs_background": "light"
     },
     "output_type": "display_data"
    }
   ],
   "source": [
    "plt.scatter(southtemp[\"Latitude\"], southtemp[\"Windspeed\"], facecolors = 'blue', marker = 'o')\n",
    "\n",
    "plt.title(\"South Hemisphere: City Latitude vs Windspeed (mph)\")\n",
    "plt.xlabel(\"City Latitude\")\n",
    "plt.ylabel(\"City Windspeed (mph)\")\n",
    "\n",
    "plt.show()"
   ]
  },
  {
   "cell_type": "code",
   "execution_count": 119,
   "metadata": {},
   "outputs": [],
   "source": [
    "weatherdf.to_csv('weatherAPI')"
   ]
  },
  {
   "cell_type": "code",
   "execution_count": null,
   "metadata": {},
   "outputs": [],
   "source": []
  }
 ],
 "metadata": {
  "anaconda-cloud": {},
  "kernel_info": {
   "name": "python3"
  },
  "kernelspec": {
   "display_name": "Python 3",
   "language": "python",
   "name": "python3"
  },
  "language_info": {
   "codemirror_mode": {
    "name": "ipython",
    "version": 3
   },
   "file_extension": ".py",
   "mimetype": "text/x-python",
   "name": "python",
   "nbconvert_exporter": "python",
   "pygments_lexer": "ipython3",
   "version": "3.8.5"
  },
  "latex_envs": {
   "LaTeX_envs_menu_present": true,
   "autoclose": false,
   "autocomplete": true,
   "bibliofile": "biblio.bib",
   "cite_by": "apalike",
   "current_citInitial": 1,
   "eqLabelWithNumbers": true,
   "eqNumInitial": 1,
   "hotkeys": {
    "equation": "Ctrl-E",
    "itemize": "Ctrl-I"
   },
   "labels_anchors": false,
   "latex_user_defs": false,
   "report_style_numbering": false,
   "user_envs_cfg": false
  },
  "nteract": {
   "version": "0.12.3"
  }
 },
 "nbformat": 4,
 "nbformat_minor": 4
}
