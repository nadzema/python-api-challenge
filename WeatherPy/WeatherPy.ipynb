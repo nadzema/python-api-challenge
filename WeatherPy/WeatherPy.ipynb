{
 "cells": [
  {
   "cell_type": "markdown",
   "metadata": {},
   "source": [
    "# WeatherPy\n",
    "----\n",
    "\n",
    "#### Note\n",
    "* Instructions have been included for each segment. You do not have to follow them exactly, but they are included to help you think through the steps."
   ]
  },
  {
   "cell_type": "code",
   "execution_count": 1,
   "metadata": {
    "scrolled": true
   },
   "outputs": [],
   "source": [
    "# Dependencies and Setup\n",
    "import matplotlib.pyplot as plt\n",
    "import pandas as pd\n",
    "import numpy as np\n",
    "import requests\n",
    "import time\n",
    "import json\n",
    "from scipy import stats\n",
    "from scipy.stats import linregress\n",
    "import pprint as pprint\n",
    "\n",
    "# Import API key\n",
    "from api_keys import weather_api_key\n",
    "\n",
    "# Incorporated citipy to determine city based on latitude and longitude\n",
    "from citipy import citipy\n",
    "\n",
    "# Output File (CSV)\n",
    "output_data_file = \"output_data/cities.csv\"\n",
    "\n",
    "# Range of latitudes and longitudes\n",
    "lat_range = (-90, 90)\n",
    "lng_range = (-180, 180)\n"
   ]
  },
  {
   "cell_type": "code",
   "execution_count": null,
   "metadata": {},
   "outputs": [],
   "source": []
  },
  {
   "cell_type": "code",
   "execution_count": 2,
   "metadata": {},
   "outputs": [
    {
     "data": {
      "text/plain": [
       "599"
      ]
     },
     "execution_count": 2,
     "metadata": {},
     "output_type": "execute_result"
    }
   ],
   "source": [
    "# List for holding lat_lngs and cities\n",
    "lat_lngs = []\n",
    "cities = []\n",
    "\n",
    "# Create a set of random lat and lng combinations\n",
    "lats = np.random.uniform(lat_range[0], lat_range[1], size=1500)\n",
    "lngs = np.random.uniform(lng_range[0], lng_range[1], size=1500)\n",
    "lat_lngs = zip(lats, lngs)\n",
    "\n",
    "# Identify nearest city for each lat, lng combination\n",
    "for lat_lng in lat_lngs:\n",
    "    city = citipy.nearest_city(lat_lng[0], lat_lng[1]).city_name\n",
    "    \n",
    "    # If the city is unique, then add it to a our cities list\n",
    "    if city not in cities:\n",
    "        cities.append(city)\n",
    "\n",
    "# Print the city count to confirm sufficient count\n",
    "len(cities)"
   ]
  },
  {
   "cell_type": "markdown",
   "metadata": {},
   "source": [
    "## Generate Cities List"
   ]
  },
  {
   "cell_type": "markdown",
   "metadata": {},
   "source": [
    "### Perform API Calls\n",
    "* Perform a weather check on each city using a series of successive API calls.\n",
    "* Include a print log of each city as it'sbeing processed (with the city number and city name).\n"
   ]
  },
  {
   "cell_type": "code",
   "execution_count": 3,
   "metadata": {
    "scrolled": true
   },
   "outputs": [
    {
     "name": "stdout",
     "output_type": "stream",
     "text": [
      "{\n",
      "    \"coord\": {\n",
      "        \"lon\": -68.3,\n",
      "        \"lat\": -54.8\n",
      "    },\n",
      "    \"weather\": [\n",
      "        {\n",
      "            \"id\": 801,\n",
      "            \"main\": \"Clouds\",\n",
      "            \"description\": \"few clouds\",\n",
      "            \"icon\": \"02d\"\n",
      "        }\n",
      "    ],\n",
      "    \"base\": \"stations\",\n",
      "    \"main\": {\n",
      "        \"temp\": 18,\n",
      "        \"feels_like\": 16.3,\n",
      "        \"temp_min\": 18,\n",
      "        \"temp_max\": 18,\n",
      "        \"pressure\": 1015,\n",
      "        \"humidity\": 55\n",
      "    },\n",
      "    \"visibility\": 10000,\n",
      "    \"wind\": {\n",
      "        \"speed\": 2.06,\n",
      "        \"deg\": 50\n",
      "    },\n",
      "    \"clouds\": {\n",
      "        \"all\": 20\n",
      "    },\n",
      "    \"dt\": 1612895525,\n",
      "    \"sys\": {\n",
      "        \"type\": 1,\n",
      "        \"id\": 8303,\n",
      "        \"country\": \"AR\",\n",
      "        \"sunrise\": 1612862084,\n",
      "        \"sunset\": 1612916414\n",
      "    },\n",
      "    \"timezone\": -10800,\n",
      "    \"id\": 3833367,\n",
      "    \"name\": \"Ushuaia\",\n",
      "    \"cod\": 200\n",
      "}\n"
     ]
    }
   ],
   "source": [
    "# Save config information.\n",
    "base = \"http://api.openweathermap.org/data/2.5/weather?\" \n",
    "units = \"metric\"\n",
    "\n",
    "# Build partial query URL\n",
    "\n",
    "url = f'{base}appid={weather_api_key}&units={units}&q='\n",
    "response = requests.get(url + city)\n",
    "weather = response.json()\n",
    "print(json.dumps(weather, indent =4))"
   ]
  },
  {
   "cell_type": "code",
   "execution_count": null,
   "metadata": {},
   "outputs": [],
   "source": []
  },
  {
   "cell_type": "code",
   "execution_count": null,
   "metadata": {},
   "outputs": [],
   "source": []
  },
  {
   "cell_type": "markdown",
   "metadata": {},
   "source": [
    "### Convert Raw Data to DataFrame\n",
    "* Export the city data into a .csv.\n",
    "* Display the DataFrame"
   ]
  },
  {
   "cell_type": "code",
   "execution_count": 4,
   "metadata": {},
   "outputs": [
    {
     "data": {
      "text/html": [
       "<div>\n",
       "<style scoped>\n",
       "    .dataframe tbody tr th:only-of-type {\n",
       "        vertical-align: middle;\n",
       "    }\n",
       "\n",
       "    .dataframe tbody tr th {\n",
       "        vertical-align: top;\n",
       "    }\n",
       "\n",
       "    .dataframe thead th {\n",
       "        text-align: right;\n",
       "    }\n",
       "</style>\n",
       "<table border=\"1\" class=\"dataframe\">\n",
       "  <thead>\n",
       "    <tr style=\"text-align: right;\">\n",
       "      <th></th>\n",
       "      <th>City</th>\n",
       "    </tr>\n",
       "  </thead>\n",
       "  <tbody>\n",
       "    <tr>\n",
       "      <th>0</th>\n",
       "      <td>bredasdorp</td>\n",
       "    </tr>\n",
       "    <tr>\n",
       "      <th>1</th>\n",
       "      <td>kishtwar</td>\n",
       "    </tr>\n",
       "    <tr>\n",
       "      <th>2</th>\n",
       "      <td>ushuaia</td>\n",
       "    </tr>\n",
       "    <tr>\n",
       "      <th>3</th>\n",
       "      <td>upernavik</td>\n",
       "    </tr>\n",
       "    <tr>\n",
       "      <th>4</th>\n",
       "      <td>cabo san lucas</td>\n",
       "    </tr>\n",
       "    <tr>\n",
       "      <th>...</th>\n",
       "      <td>...</td>\n",
       "    </tr>\n",
       "    <tr>\n",
       "      <th>594</th>\n",
       "      <td>cascais</td>\n",
       "    </tr>\n",
       "    <tr>\n",
       "      <th>595</th>\n",
       "      <td>russell</td>\n",
       "    </tr>\n",
       "    <tr>\n",
       "      <th>596</th>\n",
       "      <td>sambava</td>\n",
       "    </tr>\n",
       "    <tr>\n",
       "      <th>597</th>\n",
       "      <td>kodinsk</td>\n",
       "    </tr>\n",
       "    <tr>\n",
       "      <th>598</th>\n",
       "      <td>rio gallegos</td>\n",
       "    </tr>\n",
       "  </tbody>\n",
       "</table>\n",
       "<p>599 rows × 1 columns</p>\n",
       "</div>"
      ],
      "text/plain": [
       "               City\n",
       "0        bredasdorp\n",
       "1          kishtwar\n",
       "2           ushuaia\n",
       "3         upernavik\n",
       "4    cabo san lucas\n",
       "..              ...\n",
       "594         cascais\n",
       "595         russell\n",
       "596         sambava\n",
       "597         kodinsk\n",
       "598    rio gallegos\n",
       "\n",
       "[599 rows x 1 columns]"
      ]
     },
     "execution_count": 4,
     "metadata": {},
     "output_type": "execute_result"
    }
   ],
   "source": [
    "#create a City dataframe\n",
    "citydf = pd.DataFrame({'City': cities})\n",
    "citydf"
   ]
  },
  {
   "cell_type": "code",
   "execution_count": 5,
   "metadata": {},
   "outputs": [],
   "source": [
    "#citydf[\"Country\"] = \"\"\n",
    "#citydf[\"Latitude\"] = \"\"\n",
    "#citydf[\"Longitude\"] = \"\"\n",
    "#citydf[\"Temperature (F)\"] = \"\"\n",
    "#citydf[\"Humidity\"] = \"\"\n",
    "#citydf[\"Cloudiness\"] = \"\"\n",
    "#citydf[\"Wind Speed (mph)\"] = \"\"\n",
    "place =[]\n",
    "country = []\n",
    "latitude = []\n",
    "longitude = []\n",
    "temperature = []\n",
    "humidity = []\n",
    "cloudiness=[]\n",
    "wind_speed= []\n",
    "city_data = []\n"
   ]
  },
  {
   "cell_type": "code",
   "execution_count": null,
   "metadata": {},
   "outputs": [],
   "source": []
  },
  {
   "cell_type": "code",
   "execution_count": 42,
   "metadata": {},
   "outputs": [
    {
     "name": "stdout",
     "output_type": "stream",
     "text": [
      " City number:1 bredasdorp\n",
      " City number:2 kishtwar\n",
      " City number:3 ushuaia\n",
      " City number:4 upernavik\n",
      " City number:5 cabo san lucas\n",
      " City number:6 krasnoselkup\n",
      " City number:7 amahai\n",
      " City number:8 puerto ayora\n",
      " City number:9 jamestown\n",
      " City number:10 hermanus\n",
      " City number:11 imbituba\n",
      " City number:12 udachnyy\n",
      " City number:13 avarua\n",
      " City number:14 bluff\n",
      " City number:15 along\n",
      " City number:16 mecca\n",
      " City number:17 gazojak\n",
      " City number:18 kapaa\n",
      " City number:19 rikitea\n",
      " City number:20 hilo\n",
      " City number:21 new norfolk\n",
      " City number:22 ahuimanu\n",
      " City number:23 birao\n",
      " City number:24 fairbanks\n",
      " City number:25 georgetown\n",
      " City number:26 iquique\n",
      " City number:27 catalao\n",
      " City number:28 nemuro\n",
      " City number:29 airai\n",
      " City number:30 punta arenas\n",
      " City number:31 ampanihy\n",
      " City number:32 cape town\n",
      " City number:33 mataura\n",
      " City number:34 sao filipe\n",
      " City number:35 maragogi\n",
      " City number:36 dikson\n",
      " City number:37 qaanaaq\n",
      "Country not found\n",
      " City number:38 tasiilaq\n",
      " City number:39 albany\n",
      " City number:40 leshukonskoye\n",
      " City number:41 hithadhoo\n",
      " City number:42 vaini\n",
      "Country not found\n",
      " City number:43 tiksi\n",
      "Country not found\n",
      " City number:44 nuevo progreso\n",
      " City number:45 lebu\n",
      " City number:46 quatre cocos\n",
      " City number:47 kumbo\n",
      " City number:48 saint-philippe\n",
      " City number:49 la ronge\n",
      " City number:50 nautla\n",
      " City number:51 vrangel\n",
      " City number:52 busselton\n",
      " City number:53 lasa\n",
      " City number:54 gushikawa\n",
      " City number:55 esperance\n",
      "Country not found\n",
      " City number:56 shimoda\n",
      " City number:57 gari\n",
      " City number:58 nizwa\n",
      "Country not found\n",
      " City number:59 sur\n",
      " City number:60 east london\n",
      "Country not found\n",
      " City number:61 ibra\n",
      " City number:62 hobart\n",
      " City number:63 nikolskoye\n",
      " City number:64 saskylakh\n",
      " City number:65 yellowknife\n",
      " City number:66 lorengau\n",
      " City number:67 chuy\n",
      " City number:68 saldanha\n",
      " City number:69 bambous virieux\n",
      " City number:70 necochea\n",
      " City number:71 cayenne\n",
      "Country not found\n",
      " City number:72 kaitangata\n",
      " City number:73 coquimbo\n",
      " City number:74 bathurst\n",
      " City number:75 klaksvik\n",
      " City number:76 barrow\n",
      " City number:77 arraial do cabo\n",
      " City number:78 karpathos\n",
      " City number:79 saint george\n",
      " City number:80 bengkulu\n",
      " City number:81 thunder bay\n",
      "Country not found\n",
      " City number:82 san patricio\n",
      " City number:83 ewa beach\n",
      " City number:84 komsomolskiy\n",
      " City number:85 thinadhoo\n",
      " City number:86 soe\n",
      " City number:87 port blair\n",
      " City number:88 mitsamiouli\n",
      " City number:89 sabang\n",
      " City number:90 chokurdakh\n",
      " City number:91 bethel\n",
      " City number:92 kabalo\n",
      " City number:93 balkanabat\n",
      " City number:94 makasar\n",
      " City number:95 bilma\n",
      " City number:96 labuhan\n",
      " City number:97 marzuq\n",
      " City number:98 atuona\n",
      " City number:99 batman\n",
      " City number:100 milkovo\n",
      " City number:101 ponta do sol\n",
      " City number:102 shache\n",
      " City number:103 beringovskiy\n",
      " City number:104 salinopolis\n",
      " City number:105 castro\n",
      " City number:106 gladstone\n",
      " City number:107 juneau\n",
      " City number:108 kamphaeng phet\n",
      " City number:109 mahebourg\n",
      " City number:110 kungurtug\n",
      " City number:111 los llanos de aridane\n",
      " City number:112 mildura\n",
      " City number:113 ambilobe\n",
      " City number:114 honningsvag\n",
      " City number:115 saryg-sep\n",
      " City number:116 lakefield\n",
      "Country not found\n",
      " City number:117 walvis bay\n",
      " City number:118 butaritari\n",
      " City number:119 vao\n",
      " City number:120 iqaluit\n",
      " City number:121 egvekinot\n",
      " City number:122 san cristobal\n",
      " City number:123 sibolga\n",
      " City number:124 severo-kurilsk\n",
      " City number:125 port alfred\n",
      " City number:126 faanui\n",
      " City number:127 vardo\n",
      " City number:128 turmalina\n",
      " City number:129 washougal\n",
      "Country not found\n",
      " City number:130 miraflores\n",
      " City number:131 lagoa\n",
      " City number:132 vila velha\n",
      " City number:133 tres arroyos\n",
      " City number:134 tokomaru\n",
      " City number:135 touros\n",
      " City number:136 sorland\n",
      " City number:137 zhangye\n",
      " City number:138 fort nelson\n",
      " City number:139 mount isa\n",
      " City number:140 athabasca\n",
      " City number:141 aparecida do taboado\n",
      " City number:142 carnarvon\n",
      " City number:143 nouakchott\n",
      " City number:144 elizabeth city\n",
      " City number:145 inhambane\n",
      " City number:146 ahmadpur east\n",
      "Country not found\n",
      " City number:147 mandalgovi\n",
      " City number:148 saint-louis\n",
      " City number:149 pevek\n",
      " City number:150 thompson\n",
      " City number:151 izyaslav\n",
      " City number:152 tigil\n",
      " City number:153 kyshtovka\n",
      " City number:154 kenora\n",
      " City number:155 longyearbyen\n",
      " City number:156 ostrovnoy\n",
      " City number:157 mar del plata\n",
      " City number:158 ballina\n",
      " City number:159 sarh\n",
      " City number:160 neiafu\n",
      " City number:161 ribeira grande\n",
      " City number:162 grindavik\n",
      " City number:163 kalmunai\n",
      " City number:164 hambantota\n",
      " City number:165 lavrentiya\n",
      " City number:166 la asuncion\n",
      " City number:167 sokoni\n",
      " City number:168 cootamundra\n",
      " City number:169 vilkaviskis\n",
      " City number:170 san quintin\n",
      " City number:171 pisco\n",
      " City number:172 khatanga\n",
      " City number:173 tuktoyaktuk\n",
      " City number:174 jacmel\n",
      " City number:175 narok\n",
      " City number:176 rawson\n",
      " City number:177 yumen\n",
      " City number:178 shenjiamen\n",
      " City number:179 yulara\n",
      " City number:180 gavle\n",
      " City number:181 dzilam gonzalez\n",
      " City number:182 paracuru\n",
      " City number:183 deventer\n",
      " City number:184 makakilo city\n",
      " City number:185 nanortalik\n",
      " City number:186 torbay\n",
      " City number:187 kenai\n",
      " City number:188 verkhoyansk\n",
      " City number:189 male\n",
      " City number:190 nyurba\n",
      "Country not found\n",
      " City number:191 alice town\n",
      " City number:192 cidreira\n",
      " City number:193 kirovskiy\n",
      " City number:194 moyale\n",
      " City number:195 comodoro rivadavia\n",
      " City number:196 sheboygan\n",
      " City number:197 sharjah\n",
      "Country not found\n",
      "Country not found\n",
      " City number:198 kodiak\n",
      " City number:199 hasaki\n",
      " City number:200 mbanza-ngungu\n",
      " City number:201 isangel\n",
      " City number:202 shingu\n",
      " City number:203 camacha\n",
      " City number:204 buala\n",
      " City number:205 vila franca do campo\n",
      " City number:206 never\n",
      " City number:207 chara\n",
      " City number:208 finschhafen\n",
      " City number:209 morant bay\n",
      " City number:210 nishihara\n",
      " City number:211 payson\n",
      " City number:212 santa ana\n",
      " City number:213 klichka\n",
      " City number:214 talnakh\n",
      " City number:215 ilo\n",
      " City number:216 maraba\n",
      " City number:217 samarai\n",
      " City number:218 port elizabeth\n",
      " City number:219 salalah\n",
      " City number:220 laguna\n",
      " City number:221 andenes\n",
      " City number:222 norman wells\n",
      " City number:223 shevchenkove\n",
      " City number:224 tuy hoa\n",
      " City number:225 malatya\n",
      " City number:226 det udom\n",
      " City number:227 kamenka\n",
      " City number:228 praia da vitoria\n",
      " City number:229 westport\n",
      " City number:230 provideniya\n",
      " City number:231 ust-maya\n",
      " City number:232 churapcha\n",
      " City number:233 bonavista\n",
      " City number:234 codrington\n",
      " City number:235 murdochville\n",
      " City number:236 kavaratti\n",
      " City number:237 port hardy\n",
      " City number:238 constitucion\n",
      " City number:239 ilhabela\n",
      " City number:240 fortuna\n",
      " City number:241 slave lake\n",
      " City number:242 souillac\n",
      " City number:243 george\n",
      " City number:244 lisala\n",
      " City number:245 olafsvik\n",
      " City number:246 kashira\n",
      " City number:247 aguimes\n",
      " City number:248 alto araguaia\n",
      " City number:249 ambulu\n",
      " City number:250 stornoway\n",
      " City number:251 mount gambier\n",
      " City number:252 haines junction\n",
      " City number:253 srednekolymsk\n",
      " City number:254 einbeck\n",
      " City number:255 grand gaube\n",
      "Country not found\n",
      " City number:256 gostovici\n",
      " City number:257 anadyr\n",
      " City number:258 amravati\n",
      " City number:259 rundu\n",
      " City number:260 ixtapa\n",
      " City number:261 koprivnica\n",
      " City number:262 panama city\n",
      " City number:263 raga\n",
      " City number:264 longjiang\n",
      " City number:265 alofi\n",
      " City number:266 mahibadhoo\n",
      " City number:267 narsaq\n",
      " City number:268 katrineholm\n",
      " City number:269 santa isabel do rio negro\n",
      " City number:270 kapoeta\n",
      " City number:271 taksimo\n",
      " City number:272 chincha alta\n",
      " City number:273 sioux lookout\n",
      " City number:274 luderitz\n",
      " City number:275 petersberg\n",
      " City number:276 ipixuna\n",
      " City number:277 clyde river\n",
      "Country not found\n",
      " City number:278 guerrero negro\n",
      " City number:279 khani\n",
      " City number:280 angatuba\n",
      " City number:281 killin\n",
      " City number:282 gigmoto\n",
      " City number:283 hamilton\n",
      " City number:284 makushino\n",
      " City number:285 leningradskiy\n",
      " City number:286 kholtoson\n",
      " City number:287 portage\n",
      "Country not found\n",
      " City number:288 marawi\n",
      " City number:289 pangnirtung\n",
      " City number:290 xining\n",
      " City number:291 havelock\n",
      " City number:292 alice springs\n",
      " City number:293 gemena\n",
      " City number:294 calvinia\n",
      " City number:295 lashio\n",
      " City number:296 mareeba\n",
      " City number:297 ban nahin\n",
      " City number:298 chadiza\n",
      " City number:299 chipinge\n",
      " City number:300 imeni poliny osipenko\n",
      " City number:301 labrea\n",
      " City number:302 daru\n",
      " City number:303 ingham\n",
      " City number:304 kharp\n",
      " City number:305 sinnamary\n",
      " City number:306 at-bashi\n",
      " City number:307 padang\n",
      " City number:308 tessalit\n",
      " City number:309 qurayyat\n",
      " City number:310 gazanjyk\n",
      " City number:311 vilhena\n",
      " City number:312 mbandaka\n",
      " City number:313 tecoanapa\n",
      "Country not found\n",
      "Country not found\n",
      " City number:314 saurimo\n",
      " City number:315 nuuk\n",
      " City number:316 alexandria\n",
      " City number:317 kautokeino\n",
      " City number:318 chulym\n",
      " City number:319 deputatskiy\n",
      "Country not found\n",
      " City number:320 saint-francois\n",
      " City number:321 todos santos\n",
      " City number:322 araouane\n",
      " City number:323 kurumkan\n",
      " City number:324 shubarshi\n",
      " City number:325 dingle\n",
      " City number:326 geraldton\n",
      "Country not found\n",
      "Country not found\n",
      " City number:327 tura\n",
      " City number:328 madang\n",
      " City number:329 batagay-alyta\n",
      " City number:330 tahe\n",
      " City number:331 huarmey\n",
      " City number:332 ilulissat\n",
      " City number:333 mahanoro\n",
      " City number:334 sjovegan\n",
      " City number:335 beyneu\n",
      " City number:336 montepuez\n",
      " City number:337 taltal\n",
      " City number:338 raudeberg\n",
      " City number:339 santa maria\n",
      " City number:340 rawlins\n",
      "Country not found\n",
      " City number:341 batouri\n",
      " City number:342 redwater\n",
      " City number:343 ponta delgada\n",
      " City number:344 kirensk\n",
      "Country not found\n",
      " City number:345 vestmannaeyjar\n",
      " City number:346 douglas\n",
      " City number:347 mana\n",
      " City number:348 evensk\n",
      " City number:349 korla\n",
      " City number:350 ahipara\n",
      " City number:351 dakar\n",
      " City number:352 wanaka\n",
      " City number:353 moose factory\n",
      " City number:354 zyryanka\n",
      " City number:355 bourail\n",
      " City number:356 san rafael\n",
      " City number:357 astoria\n",
      " City number:358 svetlyy\n",
      " City number:359 humaita\n",
      " City number:360 kaeo\n",
      " City number:361 atbasar\n",
      " City number:362 alekseyevka\n",
      " City number:363 sola\n",
      " City number:364 groningen\n",
      " City number:365 celestun\n",
      " City number:366 soavinandriana\n",
      " City number:367 paamiut\n",
      " City number:368 chokwe\n",
      "Country not found\n",
      " City number:369 yerbogachen\n",
      " City number:370 okhotsk\n",
      " City number:371 mackay\n",
      " City number:372 seoul\n",
      " City number:373 dargaville\n",
      " City number:374 kruisfontein\n",
      " City number:375 yaya\n",
      "Country not found\n",
      "Country not found\n",
      " City number:376 pontes e lacerda\n",
      " City number:377 ataco\n",
      " City number:378 kavieng\n",
      " City number:379 pacific grove\n",
      " City number:380 pathalgaon\n",
      "Country not found\n",
      " City number:381 edea\n",
      " City number:382 pochutla\n",
      " City number:383 portland\n",
      " City number:384 sandviken\n",
      " City number:385 launceston\n",
      "Country not found\n",
      " City number:386 caravelas\n",
      " City number:387 qui nhon\n",
      " City number:388 vuktyl\n",
      " City number:389 charters towers\n",
      " City number:390 dunedin\n",
      "Country not found\n",
      " City number:391 menongue\n",
      " City number:392 brumado\n",
      " City number:393 ann arbor\n",
      " City number:394 entre rios\n",
      " City number:395 carroll\n",
      " City number:396 oranjestad\n",
      " City number:397 maceio\n",
      " City number:398 sarkand\n",
      " City number:399 coahuayana\n",
      " City number:400 yeniseysk\n",
      " City number:401 ugoofaaru\n",
      " City number:402 porlamar\n",
      " City number:403 puerto madryn\n",
      " City number:404 akyab\n",
      " City number:405 podporozhye\n",
      " City number:406 majene\n",
      " City number:407 pizarro\n",
      " City number:408 sorong\n",
      " City number:409 aksarka\n",
      "Country not found\n",
      " City number:410 qaqortoq\n",
      " City number:411 stockach\n",
      " City number:412 nieuw amsterdam\n",
      " City number:413 jingdezhen\n",
      " City number:414 urtenen\n",
      " City number:415 port lincoln\n",
      "Country not found\n",
      " City number:416 muncar\n",
      " City number:417 kushmurun\n",
      "Country not found\n",
      " City number:418 tanete\n",
      " City number:419 flinders\n",
      " City number:420 bose\n",
      " City number:421 lugo\n",
      " City number:422 muli\n",
      " City number:423 lagunas\n",
      " City number:424 clearwater\n",
      " City number:425 odesskoye\n",
      " City number:426 carballo\n",
      " City number:427 jasper\n",
      " City number:428 harper\n",
      " City number:429 burgeo\n",
      " City number:430 saint-pierre\n",
      " City number:431 novita\n",
      " City number:432 buraydah\n",
      " City number:433 novopokrovka\n",
      " City number:434 akniste\n",
      " City number:435 acarau\n",
      " City number:436 teguise\n",
      " City number:437 taunggyi\n",
      " City number:438 podgornoye\n",
      " City number:439 paracatu\n",
      " City number:440 sampit\n",
      " City number:441 hualmay\n",
      " City number:442 bow island\n",
      " City number:443 khatassy\n",
      " City number:444 kokopo\n",
      " City number:445 victoria\n",
      " City number:446 saint-augustin\n",
      " City number:447 upata\n",
      " City number:448 santa barbara\n",
      " City number:449 cedral\n",
      " City number:450 gravdal\n",
      " City number:451 cherskiy\n",
      " City number:452 byron bay\n",
      " City number:453 lompoc\n",
      " City number:454 dinar\n",
      " City number:455 santa rosa\n",
      " City number:456 niltepec\n",
      "Country not found\n",
      " City number:457 verkh-usugli\n",
      " City number:458 charlestown\n",
      " City number:459 half moon bay\n",
      " City number:460 north bend\n",
      "Country not found\n",
      " City number:461 mitu\n",
      " City number:462 elesbao veloso\n",
      " City number:463 port said\n",
      " City number:464 sao miguel do araguaia\n",
      "Country not found\n",
      " City number:465 kaduqli\n",
      " City number:466 arman\n",
      " City number:467 petauke\n",
      " City number:468 ancud\n",
      " City number:469 nador\n",
      " City number:470 valdivia\n",
      " City number:471 bani walid\n",
      " City number:472 ushtobe\n",
      " City number:473 turka\n",
      " City number:474 sao joao da barra\n",
      " City number:475 killybegs\n",
      " City number:476 bako\n",
      " City number:477 husavik\n",
      " City number:478 naze\n",
      " City number:479 buenavista\n",
      " City number:480 aripuana\n",
      " City number:481 basco\n",
      " City number:482 avera\n",
      " City number:483 kirundo\n",
      " City number:484 qianan\n",
      " City number:485 la romana\n",
      " City number:486 la orilla\n",
      " City number:487 saint austell\n",
      " City number:488 tendukheda\n",
      " City number:489 rangapara\n",
      " City number:490 severobaykalsk\n",
      " City number:491 tilichiki\n",
      " City number:492 kuala terengganu\n",
      " City number:493 tuatapere\n",
      " City number:494 port-gentil\n",
      " City number:495 ketchikan\n",
      " City number:496 perth\n",
      " City number:497 yenagoa\n",
      " City number:498 victoriaville\n",
      " City number:499 cedar city\n",
      " City number:500 college\n",
      " City number:501 berlevag\n",
      " City number:502 lisakovsk\n",
      "Country not found\n",
      " City number:503 okha\n",
      " City number:504 nha trang\n",
      " City number:505 saint-jovite\n",
      " City number:506 tchollire\n",
      " City number:507 azul\n",
      " City number:508 ostersund\n",
      " City number:509 de aar\n",
      " City number:510 windsor\n",
      " City number:511 monrovia\n",
      " City number:512 sitka\n",
      " City number:513 kavali\n",
      " City number:514 magway\n",
      " City number:515 namatanai\n",
      " City number:516 pangkalanbuun\n",
      "Country not found\n",
      " City number:517 galle\n",
      " City number:518 muzhi\n",
      " City number:519 margate\n",
      " City number:520 inongo\n",
      " City number:521 santa cruz del sur\n",
      " City number:522 kemin\n",
      " City number:523 bethanien\n",
      " City number:524 buchanan\n",
      " City number:525 alot\n",
      " City number:526 obihiro\n",
      " City number:527 dicabisagan\n",
      " City number:528 deer lake\n",
      " City number:529 peniche\n",
      " City number:530 hodosa\n",
      " City number:531 ardahan\n",
      " City number:532 roebourne\n",
      " City number:533 randallstown\n",
      " City number:534 otjiwarongo\n",
      " City number:535 tubuala\n",
      " City number:536 nara\n",
      " City number:537 garissa\n",
      " City number:538 meulaboh\n",
      " City number:539 dickinson\n",
      " City number:540 preston\n",
      " City number:541 dois irmaos\n",
      " City number:542 tabuk\n",
      " City number:543 belaya gora\n",
      " City number:544 manggar\n",
      " City number:545 gao\n",
      " City number:546 angoche\n",
      " City number:547 punta alta\n",
      " City number:548 mehamn\n",
      " City number:549 hargeysa\n",
      " City number:550 kovdor\n",
      " City number:551 lazarev\n",
      " City number:552 carutapera\n",
      " City number:553 panevezys\n",
      " City number:554 akureyri\n",
      "Country not found\n",
      "Country not found\n",
      " City number:555 cascais\n",
      " City number:556 russell\n",
      " City number:557 sambava\n",
      " City number:558 kodinsk\n",
      " City number:559 rio gallegos\n"
     ]
    }
   ],
   "source": [
    "# Save config information.\n",
    "base = \"http://api.openweathermap.org/data/2.5/weather?\" \n",
    "units = \"metric\"\n",
    "ncity = 1\n",
    "\n",
    "city_data = []\n",
    "\n",
    "for city in cities:\n",
    "    url = f'{base}appid={weather_api_key}&units={units}&q='\n",
    "    \n",
    "    try:\n",
    "        response = requests.get(url + city).json()\n",
    "        country = response[\"sys\"][\"country\"]\n",
    "        latitude= response[\"coord\"][\"lat\"]\n",
    "        longitude =response[\"coord\"][\"lon\"]\n",
    "        temperature = response[\"main\"][\"temp\"]\n",
    "        humidity =response[\"main\"][\"humidity\"]\n",
    "        cloudiness= response[\"clouds\"][\"all\"]\n",
    "        wind_speed=response[\"wind\"][\"speed\"]\n",
    "        city_data.append({\"City\":city, \"Country\": country, 'Latitude':latitude, \n",
    "                          \"Longitude\": longitude, \"Temperature\": temperature, \"Humidity\": humidity,\n",
    "                         \"Cloudiness\": cloudiness, \"Windspeed\": wind_speed})\n",
    "        \n",
    "        print(f\" City number:{ncity} {city}\")\n",
    "        \n",
    "        ncity +=1\n",
    "    \n",
    "    except:\n",
    "        print(\"Country not found\")\n",
    "\n",
    "\n"
   ]
  },
  {
   "cell_type": "code",
   "execution_count": 43,
   "metadata": {},
   "outputs": [
    {
     "data": {
      "text/html": [
       "<div>\n",
       "<style scoped>\n",
       "    .dataframe tbody tr th:only-of-type {\n",
       "        vertical-align: middle;\n",
       "    }\n",
       "\n",
       "    .dataframe tbody tr th {\n",
       "        vertical-align: top;\n",
       "    }\n",
       "\n",
       "    .dataframe thead th {\n",
       "        text-align: right;\n",
       "    }\n",
       "</style>\n",
       "<table border=\"1\" class=\"dataframe\">\n",
       "  <thead>\n",
       "    <tr style=\"text-align: right;\">\n",
       "      <th></th>\n",
       "      <th>City</th>\n",
       "      <th>Country</th>\n",
       "      <th>Latitude</th>\n",
       "      <th>Longitude</th>\n",
       "      <th>Temperature</th>\n",
       "      <th>Humidity</th>\n",
       "      <th>Cloudiness</th>\n",
       "      <th>Windspeed</th>\n",
       "    </tr>\n",
       "  </thead>\n",
       "  <tbody>\n",
       "    <tr>\n",
       "      <th>0</th>\n",
       "      <td>bredasdorp</td>\n",
       "      <td>ZA</td>\n",
       "      <td>-34.5322</td>\n",
       "      <td>20.0403</td>\n",
       "      <td>70.00</td>\n",
       "      <td>80</td>\n",
       "      <td>0</td>\n",
       "      <td>1.94</td>\n",
       "    </tr>\n",
       "    <tr>\n",
       "      <th>1</th>\n",
       "      <td>kishtwar</td>\n",
       "      <td>IN</td>\n",
       "      <td>33.3167</td>\n",
       "      <td>75.7667</td>\n",
       "      <td>45.45</td>\n",
       "      <td>56</td>\n",
       "      <td>100</td>\n",
       "      <td>1.35</td>\n",
       "    </tr>\n",
       "    <tr>\n",
       "      <th>2</th>\n",
       "      <td>ushuaia</td>\n",
       "      <td>AR</td>\n",
       "      <td>-54.8000</td>\n",
       "      <td>-68.3000</td>\n",
       "      <td>64.40</td>\n",
       "      <td>55</td>\n",
       "      <td>20</td>\n",
       "      <td>2.06</td>\n",
       "    </tr>\n",
       "    <tr>\n",
       "      <th>3</th>\n",
       "      <td>upernavik</td>\n",
       "      <td>GL</td>\n",
       "      <td>72.7868</td>\n",
       "      <td>-56.1549</td>\n",
       "      <td>10.54</td>\n",
       "      <td>76</td>\n",
       "      <td>19</td>\n",
       "      <td>0.77</td>\n",
       "    </tr>\n",
       "    <tr>\n",
       "      <th>4</th>\n",
       "      <td>cabo san lucas</td>\n",
       "      <td>MX</td>\n",
       "      <td>22.8909</td>\n",
       "      <td>-109.9124</td>\n",
       "      <td>72.75</td>\n",
       "      <td>53</td>\n",
       "      <td>1</td>\n",
       "      <td>3.60</td>\n",
       "    </tr>\n",
       "    <tr>\n",
       "      <th>...</th>\n",
       "      <td>...</td>\n",
       "      <td>...</td>\n",
       "      <td>...</td>\n",
       "      <td>...</td>\n",
       "      <td>...</td>\n",
       "      <td>...</td>\n",
       "      <td>...</td>\n",
       "      <td>...</td>\n",
       "    </tr>\n",
       "    <tr>\n",
       "      <th>554</th>\n",
       "      <td>cascais</td>\n",
       "      <td>PT</td>\n",
       "      <td>38.6979</td>\n",
       "      <td>-9.4215</td>\n",
       "      <td>57.81</td>\n",
       "      <td>82</td>\n",
       "      <td>75</td>\n",
       "      <td>6.17</td>\n",
       "    </tr>\n",
       "    <tr>\n",
       "      <th>555</th>\n",
       "      <td>russell</td>\n",
       "      <td>US</td>\n",
       "      <td>32.3502</td>\n",
       "      <td>-85.1999</td>\n",
       "      <td>62.22</td>\n",
       "      <td>77</td>\n",
       "      <td>90</td>\n",
       "      <td>1.54</td>\n",
       "    </tr>\n",
       "    <tr>\n",
       "      <th>556</th>\n",
       "      <td>sambava</td>\n",
       "      <td>MG</td>\n",
       "      <td>-14.2667</td>\n",
       "      <td>50.1667</td>\n",
       "      <td>79.18</td>\n",
       "      <td>81</td>\n",
       "      <td>100</td>\n",
       "      <td>0.80</td>\n",
       "    </tr>\n",
       "    <tr>\n",
       "      <th>557</th>\n",
       "      <td>kodinsk</td>\n",
       "      <td>RU</td>\n",
       "      <td>58.6881</td>\n",
       "      <td>99.1844</td>\n",
       "      <td>2.91</td>\n",
       "      <td>92</td>\n",
       "      <td>82</td>\n",
       "      <td>2.28</td>\n",
       "    </tr>\n",
       "    <tr>\n",
       "      <th>558</th>\n",
       "      <td>rio gallegos</td>\n",
       "      <td>AR</td>\n",
       "      <td>-51.6226</td>\n",
       "      <td>-69.2181</td>\n",
       "      <td>75.20</td>\n",
       "      <td>41</td>\n",
       "      <td>40</td>\n",
       "      <td>4.12</td>\n",
       "    </tr>\n",
       "  </tbody>\n",
       "</table>\n",
       "<p>559 rows × 8 columns</p>\n",
       "</div>"
      ],
      "text/plain": [
       "               City Country  Latitude  Longitude  Temperature  Humidity  \\\n",
       "0        bredasdorp      ZA  -34.5322    20.0403        70.00        80   \n",
       "1          kishtwar      IN   33.3167    75.7667        45.45        56   \n",
       "2           ushuaia      AR  -54.8000   -68.3000        64.40        55   \n",
       "3         upernavik      GL   72.7868   -56.1549        10.54        76   \n",
       "4    cabo san lucas      MX   22.8909  -109.9124        72.75        53   \n",
       "..              ...     ...       ...        ...          ...       ...   \n",
       "554         cascais      PT   38.6979    -9.4215        57.81        82   \n",
       "555         russell      US   32.3502   -85.1999        62.22        77   \n",
       "556         sambava      MG  -14.2667    50.1667        79.18        81   \n",
       "557         kodinsk      RU   58.6881    99.1844         2.91        92   \n",
       "558    rio gallegos      AR  -51.6226   -69.2181        75.20        41   \n",
       "\n",
       "     Cloudiness  Windspeed  \n",
       "0             0       1.94  \n",
       "1           100       1.35  \n",
       "2            20       2.06  \n",
       "3            19       0.77  \n",
       "4             1       3.60  \n",
       "..          ...        ...  \n",
       "554          75       6.17  \n",
       "555          90       1.54  \n",
       "556         100       0.80  \n",
       "557          82       2.28  \n",
       "558          40       4.12  \n",
       "\n",
       "[559 rows x 8 columns]"
      ]
     },
     "execution_count": 43,
     "metadata": {},
     "output_type": "execute_result"
    }
   ],
   "source": [
    "weatherdf =pd.DataFrame(city_data)\n",
    "weatherdf[\"Temperature\"] = round(1.8 * weatherdf['Temperature'] + 32,2)\n",
    "weatherdf"
   ]
  },
  {
   "cell_type": "markdown",
   "metadata": {},
   "source": [
    "## Inspect the data and remove the cities where the humidity > 100%.\n",
    "----\n",
    "Skip this step if there are no cities that have humidity > 100%. "
   ]
  },
  {
   "cell_type": "code",
   "execution_count": 44,
   "metadata": {},
   "outputs": [
    {
     "data": {
      "text/html": [
       "<div>\n",
       "<style scoped>\n",
       "    .dataframe tbody tr th:only-of-type {\n",
       "        vertical-align: middle;\n",
       "    }\n",
       "\n",
       "    .dataframe tbody tr th {\n",
       "        vertical-align: top;\n",
       "    }\n",
       "\n",
       "    .dataframe thead th {\n",
       "        text-align: right;\n",
       "    }\n",
       "</style>\n",
       "<table border=\"1\" class=\"dataframe\">\n",
       "  <thead>\n",
       "    <tr style=\"text-align: right;\">\n",
       "      <th></th>\n",
       "      <th>City</th>\n",
       "      <th>Country</th>\n",
       "      <th>Latitude</th>\n",
       "      <th>Longitude</th>\n",
       "      <th>Temperature</th>\n",
       "      <th>Humidity</th>\n",
       "      <th>Cloudiness</th>\n",
       "      <th>Windspeed</th>\n",
       "    </tr>\n",
       "  </thead>\n",
       "  <tbody>\n",
       "  </tbody>\n",
       "</table>\n",
       "</div>"
      ],
      "text/plain": [
       "Empty DataFrame\n",
       "Columns: [City, Country, Latitude, Longitude, Temperature, Humidity, Cloudiness, Windspeed]\n",
       "Index: []"
      ]
     },
     "execution_count": 44,
     "metadata": {},
     "output_type": "execute_result"
    }
   ],
   "source": [
    "#no cities over 100% humidity\n",
    "overhum = weatherdf[weatherdf[\"Humidity\"]>100]\n",
    "overhum"
   ]
  },
  {
   "cell_type": "code",
   "execution_count": 45,
   "metadata": {},
   "outputs": [],
   "source": [
    "#  Get the indices of cities that have humidity over 100%.\n",
    "#N/A"
   ]
  },
  {
   "cell_type": "code",
   "execution_count": 46,
   "metadata": {},
   "outputs": [],
   "source": [
    "# Make a new DataFrame equal to the city data to drop all humidity outliers by index.\n",
    "# Passing \"inplace=False\" will make a copy of the city_data DataFrame, which we call \"clean_city_data\".\n"
   ]
  },
  {
   "cell_type": "code",
   "execution_count": 47,
   "metadata": {},
   "outputs": [],
   "source": [
    "#N/A"
   ]
  },
  {
   "cell_type": "markdown",
   "metadata": {},
   "source": [
    "## Plotting the Data\n",
    "* Use proper labeling of the plots using plot titles (including date of analysis) and axes labels.\n",
    "* Save the plotted figures as .pngs."
   ]
  },
  {
   "cell_type": "markdown",
   "metadata": {},
   "source": [
    "## Latitude vs. Temperature Plot"
   ]
  },
  {
   "cell_type": "code",
   "execution_count": 48,
   "metadata": {
    "scrolled": true
   },
   "outputs": [
    {
     "data": {
      "image/png": "[encoded data removed]",
      "text/plain": [
       "<Figure size 432x288 with 1 Axes>"
      ]
     },
     "metadata": {
      "needs_background": "light"
     },
     "output_type": "display_data"
    }
   ],
   "source": [
    "#scatterplot Temp vs Latitude\n",
    "\n",
    "plt.scatter(weatherdf[\"Latitude\"], weatherdf[\"Temperature\"], facecolors = 'blue', marker = 'o')\n",
    "\n",
    "plt.title(\"City Latitude vs Temperature (F)\")\n",
    "plt.xlabel(\"City Latitude\")\n",
    "plt.ylabel(\"City Temperature (F)\")\n",
    "\n",
    "plt.show()\n",
    "#Observation: The closer the city is to the equator, the higher the temperature. \n",
    "#Also, the northern hemisphere cities are getting colder than the southern hemispherer cities.\n",
    "#Factors to consider:  Winter vs Summer in the hemispheres."
   ]
  },
  {
   "cell_type": "markdown",
   "metadata": {},
   "source": [
    "## Latitude vs. Humidity Plot"
   ]
  },
  {
   "cell_type": "code",
   "execution_count": 49,
   "metadata": {},
   "outputs": [
    {
     "data": {
      "image/png": "[encoded data removed]",
      "text/plain": [
       "<Figure size 432x288 with 1 Axes>"
      ]
     },
     "metadata": {
      "needs_background": "light"
     },
     "output_type": "display_data"
    }
   ],
   "source": [
    "plt.scatter(weatherdf[\"Latitude\"], weatherdf[\"Humidity\"], facecolors = 'blue', marker = 'o')\n",
    "\n",
    "plt.title(\"Latitude vs Humidity %\")\n",
    "plt.xlabel(\"City Latitude\")\n",
    "plt.ylabel(\"City Humidity %\")\n",
    "\n",
    "plt.show()\n",
    "#Observation: The cities closest to the equator does not necessarily mean the humidity percentage is higher.  \n",
    "#If fact, some cities closer to the equator are less humidity right now than other cities. \n",
    "#Factors to consider:  Winter vs Summer in the hemispheres."
   ]
  },
  {
   "cell_type": "markdown",
   "metadata": {},
   "source": [
    "## Latitude vs. Cloudiness Plot"
   ]
  },
  {
   "cell_type": "code",
   "execution_count": 50,
   "metadata": {},
   "outputs": [
    {
     "data": {
      "image/png": "[encoded data removed]",
      "text/plain": [
       "<Figure size 432x288 with 1 Axes>"
      ]
     },
     "metadata": {
      "needs_background": "light"
     },
     "output_type": "display_data"
    }
   ],
   "source": [
    "plt.scatter(weatherdf[\"Latitude\"], weatherdf[\"Cloudiness\"], facecolors = 'blue', marker = 'o')\n",
    "\n",
    "plt.title(\"Latitude vs Cloudiness %\")\n",
    "plt.xlabel(\"City Latitude\")\n",
    "plt.ylabel(\"Cloudiness %\")\n",
    "\n",
    "plt.show()\n",
    "#Observations: Cities tend to have more 0% cloudiness or 100% than anything in between no matter the city's latitude."
   ]
  },
  {
   "cell_type": "markdown",
   "metadata": {},
   "source": [
    "## Latitude vs. Wind Speed Plot"
   ]
  },
  {
   "cell_type": "code",
   "execution_count": 51,
   "metadata": {},
   "outputs": [
    {
     "data": {
      "image/png": "[encoded data removed]",
      "text/plain": [
       "<Figure size 432x288 with 1 Axes>"
      ]
     },
     "metadata": {
      "needs_background": "light"
     },
     "output_type": "display_data"
    }
   ],
   "source": [
    "plt.scatter(weatherdf[\"Latitude\"], weatherdf[\"Windspeed\"], facecolors = 'blue', marker = 'o')\n",
    "\n",
    "plt.title(\"Latitude vs Wind Speed (mph)\")\n",
    "plt.xlabel(\"City Latitude\")\n",
    "plt.ylabel(\"Wind Speed (mph)\")\n",
    "\n",
    "plt.show()\n",
    "#Observations: The city's latitude does not have a high correlation with the wind speed in that city. Most city's wind blows at about 5mph or lower each day."
   ]
  },
  {
   "cell_type": "markdown",
   "metadata": {},
   "source": [
    "## Linear Regression"
   ]
  },
  {
   "cell_type": "code",
   "execution_count": 52,
   "metadata": {},
   "outputs": [],
   "source": [
    "#dataframe for just North Hemisphere\n",
    "northtemp = weatherdf[weatherdf[\"Latitude\"]>0]"
   ]
  },
  {
   "cell_type": "markdown",
   "metadata": {},
   "source": [
    "####  Northern Hemisphere - Max Temp vs. Latitude Linear Regression"
   ]
  },
  {
   "cell_type": "code",
   "execution_count": 53,
   "metadata": {},
   "outputs": [
    {
     "name": "stdout",
     "output_type": "stream",
     "text": [
      "y = -1.47x +95.3\n"
     ]
    },
    {
     "data": {
      "text/plain": [
       "LinregressResult(slope=-1.4733208714557435, intercept=95.30015625226201, rvalue=-0.88436242399255, pvalue=8.495444835289732e-127, stderr=0.04005235825566684)"
      ]
     },
     "execution_count": 53,
     "metadata": {},
     "output_type": "execute_result"
    }
   ],
   "source": [
    "#define the axis\n",
    "x_values = northtemp['Latitude']\n",
    "y_values = northtemp['Temperature']\n",
    "\n",
    "# Perform a linear regression on temperature vs. latitude\n",
    "(slope, intercept, rvalue, pvalue, stderr) = stats.linregress(x_values, y_values)\n",
    "\n",
    "#define regression values\n",
    "regress_values = x_values * slope + intercept\n",
    "#print(regress_values)\n",
    "line_eq = \"y = \" + str(round(slope,2)) + \"x +\" + str(round(intercept,2))\n",
    "print(line_eq)\n",
    "stats.linregress(x_values, y_values)"
   ]
  },
  {
   "cell_type": "code",
   "execution_count": 55,
   "metadata": {},
   "outputs": [
    {
     "name": "stdout",
     "output_type": "stream",
     "text": [
      "The r value is: 0.7820968969699789\n"
     ]
    },
    {
     "data": {
      "image/png": "[encoded data removed]",
      "text/plain": [
       "<Figure size 432x288 with 1 Axes>"
      ]
     },
     "metadata": {
      "needs_background": "light"
     },
     "output_type": "display_data"
    }
   ],
   "source": [
    "plt.plot(x_values,regress_values,\"r-\")\n",
    "\n",
    "# Label plot and annotate the line equation\n",
    "plt.title(\"North Hemisphere: City Latitude vs Temperature (F)\")\n",
    "plt.xlabel(' City Latitude')\n",
    "plt.ylabel('City Temperature (F)')\n",
    "plt.annotate(line_eq,(20,15),fontsize=16,color=\"blue\")\n",
    "\n",
    "# Print r value by squaring it\n",
    "print(f\"The r value is: {rvalue**2}\")\n",
    "\n",
    "# Show plot\n",
    "plt.show()\n",
    "\n",
    "#Answer : This is modeling the temperature changing at -1.47 Farhenheit for each degree in latitude it is away from the hottest city (closest to equator) in the Northern hemisphere."
   ]
  },
  {
   "cell_type": "code",
   "execution_count": 56,
   "metadata": {},
   "outputs": [
    {
     "data": {
      "image/png": "[encoded data removed]",
      "text/plain": [
       "<Figure size 432x288 with 1 Axes>"
      ]
     },
     "metadata": {
      "needs_background": "light"
     },
     "output_type": "display_data"
    }
   ],
   "source": [
    "plt.scatter(x_values, y_values, facecolors = 'blue', marker = 'o')\n",
    "plt.title(\"North Hemisphere: City Latitude vs Temperature (F)\")\n",
    "plt.xlabel(\"City Latitude\")\n",
    "plt.ylabel(\"City Temperature (F)\")\n",
    "\n",
    "plt.show()\n",
    "#Observations: The further away from the equator, the colder the temperature. (drops in a linear way) "
   ]
  },
  {
   "cell_type": "markdown",
   "metadata": {},
   "source": [
    "####  Southern Hemisphere - Max Temp vs. Latitude Linear Regression"
   ]
  },
  {
   "cell_type": "code",
   "execution_count": 57,
   "metadata": {},
   "outputs": [
    {
     "data": {
      "text/html": [
       "<div>\n",
       "<style scoped>\n",
       "    .dataframe tbody tr th:only-of-type {\n",
       "        vertical-align: middle;\n",
       "    }\n",
       "\n",
       "    .dataframe tbody tr th {\n",
       "        vertical-align: top;\n",
       "    }\n",
       "\n",
       "    .dataframe thead th {\n",
       "        text-align: right;\n",
       "    }\n",
       "</style>\n",
       "<table border=\"1\" class=\"dataframe\">\n",
       "  <thead>\n",
       "    <tr style=\"text-align: right;\">\n",
       "      <th></th>\n",
       "      <th>City</th>\n",
       "      <th>Country</th>\n",
       "      <th>Latitude</th>\n",
       "      <th>Longitude</th>\n",
       "      <th>Temperature</th>\n",
       "      <th>Humidity</th>\n",
       "      <th>Cloudiness</th>\n",
       "      <th>Windspeed</th>\n",
       "    </tr>\n",
       "  </thead>\n",
       "  <tbody>\n",
       "    <tr>\n",
       "      <th>0</th>\n",
       "      <td>bredasdorp</td>\n",
       "      <td>ZA</td>\n",
       "      <td>-34.5322</td>\n",
       "      <td>20.0403</td>\n",
       "      <td>70.00</td>\n",
       "      <td>80</td>\n",
       "      <td>0</td>\n",
       "      <td>1.94</td>\n",
       "    </tr>\n",
       "    <tr>\n",
       "      <th>2</th>\n",
       "      <td>ushuaia</td>\n",
       "      <td>AR</td>\n",
       "      <td>-54.8000</td>\n",
       "      <td>-68.3000</td>\n",
       "      <td>64.40</td>\n",
       "      <td>55</td>\n",
       "      <td>20</td>\n",
       "      <td>2.06</td>\n",
       "    </tr>\n",
       "    <tr>\n",
       "      <th>6</th>\n",
       "      <td>amahai</td>\n",
       "      <td>ID</td>\n",
       "      <td>-3.3333</td>\n",
       "      <td>128.9167</td>\n",
       "      <td>84.99</td>\n",
       "      <td>85</td>\n",
       "      <td>100</td>\n",
       "      <td>1.91</td>\n",
       "    </tr>\n",
       "    <tr>\n",
       "      <th>7</th>\n",
       "      <td>puerto ayora</td>\n",
       "      <td>EC</td>\n",
       "      <td>-0.7393</td>\n",
       "      <td>-90.3518</td>\n",
       "      <td>81.46</td>\n",
       "      <td>83</td>\n",
       "      <td>90</td>\n",
       "      <td>5.14</td>\n",
       "    </tr>\n",
       "    <tr>\n",
       "      <th>9</th>\n",
       "      <td>hermanus</td>\n",
       "      <td>ZA</td>\n",
       "      <td>-34.4187</td>\n",
       "      <td>19.2345</td>\n",
       "      <td>70.00</td>\n",
       "      <td>80</td>\n",
       "      <td>0</td>\n",
       "      <td>3.85</td>\n",
       "    </tr>\n",
       "    <tr>\n",
       "      <th>...</th>\n",
       "      <td>...</td>\n",
       "      <td>...</td>\n",
       "      <td>...</td>\n",
       "      <td>...</td>\n",
       "      <td>...</td>\n",
       "      <td>...</td>\n",
       "      <td>...</td>\n",
       "      <td>...</td>\n",
       "    </tr>\n",
       "    <tr>\n",
       "      <th>545</th>\n",
       "      <td>angoche</td>\n",
       "      <td>MZ</td>\n",
       "      <td>-16.2325</td>\n",
       "      <td>39.9086</td>\n",
       "      <td>80.38</td>\n",
       "      <td>85</td>\n",
       "      <td>100</td>\n",
       "      <td>1.90</td>\n",
       "    </tr>\n",
       "    <tr>\n",
       "      <th>546</th>\n",
       "      <td>punta alta</td>\n",
       "      <td>AR</td>\n",
       "      <td>-38.8759</td>\n",
       "      <td>-62.0736</td>\n",
       "      <td>77.11</td>\n",
       "      <td>36</td>\n",
       "      <td>0</td>\n",
       "      <td>7.05</td>\n",
       "    </tr>\n",
       "    <tr>\n",
       "      <th>551</th>\n",
       "      <td>carutapera</td>\n",
       "      <td>BR</td>\n",
       "      <td>-1.1950</td>\n",
       "      <td>-46.0200</td>\n",
       "      <td>86.18</td>\n",
       "      <td>62</td>\n",
       "      <td>72</td>\n",
       "      <td>4.32</td>\n",
       "    </tr>\n",
       "    <tr>\n",
       "      <th>556</th>\n",
       "      <td>sambava</td>\n",
       "      <td>MG</td>\n",
       "      <td>-14.2667</td>\n",
       "      <td>50.1667</td>\n",
       "      <td>79.18</td>\n",
       "      <td>81</td>\n",
       "      <td>100</td>\n",
       "      <td>0.80</td>\n",
       "    </tr>\n",
       "    <tr>\n",
       "      <th>558</th>\n",
       "      <td>rio gallegos</td>\n",
       "      <td>AR</td>\n",
       "      <td>-51.6226</td>\n",
       "      <td>-69.2181</td>\n",
       "      <td>75.20</td>\n",
       "      <td>41</td>\n",
       "      <td>40</td>\n",
       "      <td>4.12</td>\n",
       "    </tr>\n",
       "  </tbody>\n",
       "</table>\n",
       "<p>180 rows × 8 columns</p>\n",
       "</div>"
      ],
      "text/plain": [
       "             City Country  Latitude  Longitude  Temperature  Humidity  \\\n",
       "0      bredasdorp      ZA  -34.5322    20.0403        70.00        80   \n",
       "2         ushuaia      AR  -54.8000   -68.3000        64.40        55   \n",
       "6          amahai      ID   -3.3333   128.9167        84.99        85   \n",
       "7    puerto ayora      EC   -0.7393   -90.3518        81.46        83   \n",
       "9        hermanus      ZA  -34.4187    19.2345        70.00        80   \n",
       "..            ...     ...       ...        ...          ...       ...   \n",
       "545       angoche      MZ  -16.2325    39.9086        80.38        85   \n",
       "546    punta alta      AR  -38.8759   -62.0736        77.11        36   \n",
       "551    carutapera      BR   -1.1950   -46.0200        86.18        62   \n",
       "556       sambava      MG  -14.2667    50.1667        79.18        81   \n",
       "558  rio gallegos      AR  -51.6226   -69.2181        75.20        41   \n",
       "\n",
       "     Cloudiness  Windspeed  \n",
       "0             0       1.94  \n",
       "2            20       2.06  \n",
       "6           100       1.91  \n",
       "7            90       5.14  \n",
       "9             0       3.85  \n",
       "..          ...        ...  \n",
       "545         100       1.90  \n",
       "546           0       7.05  \n",
       "551          72       4.32  \n",
       "556         100       0.80  \n",
       "558          40       4.12  \n",
       "\n",
       "[180 rows x 8 columns]"
      ]
     },
     "execution_count": 57,
     "metadata": {},
     "output_type": "execute_result"
    }
   ],
   "source": [
    "#define souhern hemisphere dataframe\n",
    "southtemp = weatherdf[weatherdf[\"Latitude\"]<0]\n",
    "southtemp "
   ]
  },
  {
   "cell_type": "code",
   "execution_count": 58,
   "metadata": {},
   "outputs": [
    {
     "name": "stdout",
     "output_type": "stream",
     "text": [
      "y = 0.37x +82.05\n"
     ]
    },
    {
     "data": {
      "text/plain": [
       "LinregressResult(slope=0.37015216128718065, intercept=82.04898375726259, rvalue=0.5427462218149103, pvalue=3.532918047294081e-15, stderr=0.04293380471258405)"
      ]
     },
     "execution_count": 58,
     "metadata": {},
     "output_type": "execute_result"
    }
   ],
   "source": [
    "#define the axis\n",
    "x_values = southtemp['Latitude']\n",
    "y_values = southtemp['Temperature']\n",
    "\n",
    "# Perform a linear regression on temperature vs. latitude\n",
    "(slope, intercept, rvalue, pvalue, stderr) = stats.linregress(x_values, y_values)\n",
    "\n",
    "#define regression values\n",
    "regress_values = x_values * slope + intercept\n",
    "#print(regress_values)\n",
    "line_eq = \"y = \" + str(round(slope,2)) + \"x +\" + str(round(intercept,2))\n",
    "print(line_eq)\n",
    "stats.linregress(x_values, y_values)"
   ]
  },
  {
   "cell_type": "code",
   "execution_count": 60,
   "metadata": {},
   "outputs": [
    {
     "name": "stdout",
     "output_type": "stream",
     "text": [
      "The r value is: 0.2945734612943598\n"
     ]
    },
    {
     "data": {
      "image/png": "[encoded data removed]",
      "text/plain": [
       "<Figure size 432x288 with 1 Axes>"
      ]
     },
     "metadata": {
      "needs_background": "light"
     },
     "output_type": "display_data"
    }
   ],
   "source": [
    "plt.plot(x_values,regress_values,\"r-\")\n",
    "\n",
    "# Label plot and annotate the line equation\n",
    "plt.title(\"South Hemisphere: City Latitude vs Temperature (F)\")\n",
    "plt.xlabel(' City Latitude')\n",
    "plt.ylabel('City Temperature (F)')\n",
    "plt.annotate(line_eq,(20,15),fontsize=16,color=\"blue\")\n",
    "\n",
    "# Print r value by squaring it\n",
    "print(f\"The r value is: {rvalue**2}\")\n",
    "\n",
    "# Show plot\n",
    "plt.show()\n",
    "#Answer: This is modeling the temperature changing at 0.37 degrees Farhenheit for each degree in latitude it is away from the coldest city in the Southern Hemisphere."
   ]
  },
  {
   "cell_type": "code",
   "execution_count": 61,
   "metadata": {},
   "outputs": [
    {
     "data": {
      "image/png": "[encoded data removed]",
      "text/plain": [
       "<Figure size 432x288 with 1 Axes>"
      ]
     },
     "metadata": {
      "needs_background": "light"
     },
     "output_type": "display_data"
    }
   ],
   "source": [
    "#scatterplot southern hemisphere latitude vs temperature\n",
    "plt.scatter(southtemp[\"Latitude\"], southtemp[\"Temperature\"], facecolors = 'blue', marker = 'o')\n",
    "plt.title(\"South Hemisphere: City Latitude vs Temperature (F)\")\n",
    "plt.xlabel(\"City Latitude\")\n",
    "plt.ylabel(\"City Temperature (F)\")\n",
    "\n",
    "plt.show()\n",
    "#Observations: The cities in the souther hemisphere show an decrease in temperature as they get further from the equator.\n",
    "#The correlation isn't as strong as the northern hemisphere. "
   ]
  },
  {
   "cell_type": "code",
   "execution_count": null,
   "metadata": {},
   "outputs": [],
   "source": []
  },
  {
   "cell_type": "markdown",
   "metadata": {},
   "source": [
    "####  Northern Hemisphere - Humidity (%) vs. Latitude Linear Regression"
   ]
  },
  {
   "cell_type": "code",
   "execution_count": 62,
   "metadata": {},
   "outputs": [
    {
     "name": "stdout",
     "output_type": "stream",
     "text": [
      "y = 0.39x +57.18\n"
     ]
    },
    {
     "data": {
      "text/plain": [
       "LinregressResult(slope=0.38999635222900814, intercept=57.182751392889784, rvalue=0.4095661114663668, pvalue=9.205323072879575e-17, stderr=0.044739818521263006)"
      ]
     },
     "execution_count": 62,
     "metadata": {},
     "output_type": "execute_result"
    }
   ],
   "source": [
    "#define the axis\n",
    "x_values = northtemp['Latitude']\n",
    "y_values = northtemp['Humidity']\n",
    "\n",
    "# Perform a linear regression on temperature vs. latitude\n",
    "(slope, intercept, rvalue, pvalue, stderr) = stats.linregress(x_values, y_values)\n",
    "\n",
    "#define regression values\n",
    "regress_values = x_values * slope + intercept\n",
    "#print(regress_values)\n",
    "line_eq = \"y = \" + str(round(slope,2)) + \"x +\" + str(round(intercept,2))\n",
    "print(line_eq)\n",
    "stats.linregress(x_values, y_values)"
   ]
  },
  {
   "cell_type": "code",
   "execution_count": 65,
   "metadata": {},
   "outputs": [
    {
     "name": "stdout",
     "output_type": "stream",
     "text": [
      "The r value is: 0.1677443996616804\n"
     ]
    },
    {
     "data": {
      "image/png": "[encoded data removed]",
      "text/plain": [
       "<Figure size 432x288 with 1 Axes>"
      ]
     },
     "metadata": {
      "needs_background": "light"
     },
     "output_type": "display_data"
    }
   ],
   "source": [
    "plt.plot(x_values,regress_values,\"r-\")\n",
    "\n",
    "# Label plot and annotate the line equation\n",
    "plt.title(\"North Hemisphere: City Latitude vs Humidity %\")\n",
    "plt.xlabel(' City Latitude')\n",
    "plt.ylabel('City Humidity %')\n",
    "plt.annotate(line_eq,(20,15),fontsize=16,color=\"blue\")\n",
    "\n",
    "# Print r value by squaring it\n",
    "print(f\"The r value is: {rvalue**2}\")\n",
    "\n",
    "# Show plot\n",
    "plt.show()\n",
    "#Answer: The increase in city humidity is 0.39% for each latitude degree it is away from the hottest city in the Northern Hemisphere."
   ]
  },
  {
   "cell_type": "code",
   "execution_count": 66,
   "metadata": {},
   "outputs": [
    {
     "data": {
      "image/png": "[encoded data removed]",
      "text/plain": [
       "<Figure size 432x288 with 1 Axes>"
      ]
     },
     "metadata": {
      "needs_background": "light"
     },
     "output_type": "display_data"
    }
   ],
   "source": [
    "plt.scatter(northtemp[\"Latitude\"], northtemp[\"Humidity\"], facecolors = 'blue', marker = 'o')\n",
    "\n",
    "plt.title(\"North Hemisphere: City Latitude vs Humdity (%)\")\n",
    "plt.xlabel(\"City Latitude\")\n",
    "plt.ylabel(\"City Humdity (%)\")\n",
    "\n",
    "plt.show()\n",
    "#Observations: The further away from the equator, the clolder the temperature. (drops in a linear way)"
   ]
  },
  {
   "cell_type": "markdown",
   "metadata": {},
   "source": [
    "####  Southern Hemisphere - Humidity (%) vs. Latitude Linear Regression"
   ]
  },
  {
   "cell_type": "code",
   "execution_count": 67,
   "metadata": {},
   "outputs": [
    {
     "name": "stdout",
     "output_type": "stream",
     "text": [
      "y = 0.38x +82.81\n"
     ]
    },
    {
     "data": {
      "text/plain": [
       "LinregressResult(slope=0.3776053717437329, intercept=82.81151486775985, rvalue=0.28367176601554395, pvalue=0.00011389142448167092, stderr=0.09567425286521569)"
      ]
     },
     "execution_count": 67,
     "metadata": {},
     "output_type": "execute_result"
    }
   ],
   "source": [
    "#define the axis\n",
    "x_values = southtemp['Latitude']\n",
    "y_values = southtemp['Humidity']\n",
    "\n",
    "# Perform a linear regression on temperature vs. latitude\n",
    "(slope, intercept, rvalue, pvalue, stderr) = stats.linregress(x_values, y_values)\n",
    "\n",
    "#define regression values\n",
    "regress_values = x_values * slope + intercept\n",
    "#print(regress_values)\n",
    "line_eq = \"y = \" + str(round(slope,2)) + \"x +\" + str(round(intercept,2))\n",
    "print(line_eq)\n",
    "stats.linregress(x_values, y_values)"
   ]
  },
  {
   "cell_type": "code",
   "execution_count": 70,
   "metadata": {},
   "outputs": [
    {
     "name": "stdout",
     "output_type": "stream",
     "text": [
      "The r value is: 0.08046967083437752\n"
     ]
    },
    {
     "data": {
      "image/png": "[encoded data removed]",
      "text/plain": [
       "<Figure size 432x288 with 1 Axes>"
      ]
     },
     "metadata": {
      "needs_background": "light"
     },
     "output_type": "display_data"
    }
   ],
   "source": [
    "plt.plot(x_values,regress_values,\"r-\")\n",
    "\n",
    "# Label plot and annotate the line equation\n",
    "plt.title(\"South Hemisphere: City Latitude vs Humidity (%)\")\n",
    "plt.xlabel(' City Latitude')\n",
    "plt.ylabel('City Humidity (%)')\n",
    "plt.annotate(line_eq,(20,15),fontsize=16,color=\"blue\")\n",
    "\n",
    "# Print r value by squaring it\n",
    "print(f\"The r value is: {rvalue**2}\")\n",
    "\n",
    "# Show plot\n",
    "plt.show()\n",
    "#Answer: The city humidity increases by 0.38% for each latitude degree it is away from the coldest city in the Southern Hemisphere."
   ]
  },
  {
   "cell_type": "code",
   "execution_count": 71,
   "metadata": {},
   "outputs": [
    {
     "data": {
      "image/png": "[encoded data removed]",
      "text/plain": [
       "<Figure size 432x288 with 1 Axes>"
      ]
     },
     "metadata": {
      "needs_background": "light"
     },
     "output_type": "display_data"
    }
   ],
   "source": [
    "plt.scatter(southtemp[\"Latitude\"], southtemp[\"Humidity\"], facecolors = 'blue', marker = 'o')\n",
    "\n",
    "plt.title(\"South Hemisphere: City Latitude vs Humidity (%)\")\n",
    "plt.xlabel(\"City Latitude\")\n",
    "plt.ylabel(\"City Humidity (%)\")\n",
    "\n",
    "plt.show()"
   ]
  },
  {
   "cell_type": "markdown",
   "metadata": {},
   "source": [
    "####  Northern Hemisphere - Cloudiness (%) vs. Latitude Linear Regression"
   ]
  },
  {
   "cell_type": "code",
   "execution_count": 72,
   "metadata": {},
   "outputs": [
    {
     "name": "stdout",
     "output_type": "stream",
     "text": [
      "y = 0.24x +45.58\n"
     ]
    },
    {
     "data": {
      "text/plain": [
       "LinregressResult(slope=0.2435717521969654, intercept=45.576306302447364, rvalue=0.12398070887205453, pvalue=0.01573527428163127, stderr=0.10040108215852098)"
      ]
     },
     "execution_count": 72,
     "metadata": {},
     "output_type": "execute_result"
    }
   ],
   "source": [
    "#define the axis\n",
    "x_values = northtemp['Latitude']\n",
    "y_values = northtemp['Cloudiness']\n",
    "\n",
    "# Perform a linear regression on temperature vs. latitude\n",
    "(slope, intercept, rvalue, pvalue, stderr) = stats.linregress(x_values, y_values)\n",
    "\n",
    "#define regression values\n",
    "regress_values = x_values * slope + intercept\n",
    "#print(regress_values)\n",
    "line_eq = \"y = \" + str(round(slope,2)) + \"x +\" + str(round(intercept,2))\n",
    "print(line_eq)\n",
    "stats.linregress(x_values, y_values)"
   ]
  },
  {
   "cell_type": "code",
   "execution_count": 74,
   "metadata": {},
   "outputs": [
    {
     "name": "stdout",
     "output_type": "stream",
     "text": [
      "The r value is: 0.015371216172417141\n"
     ]
    },
    {
     "data": {
      "image/png": "[encoded data removed]",
      "text/plain": [
       "<Figure size 432x288 with 1 Axes>"
      ]
     },
     "metadata": {
      "needs_background": "light"
     },
     "output_type": "display_data"
    }
   ],
   "source": [
    "plt.plot(x_values,regress_values,\"r-\")\n",
    "\n",
    "# Label plot and annotate the line equation\n",
    "plt.title(\"North Hemisphere: City Latitude vs Cloudiness %\")\n",
    "plt.xlabel('City Latitude')\n",
    "plt.ylabel('City Cloudiness %')\n",
    "plt.annotate(line_eq,(20,15),fontsize=16,color=\"blue\")\n",
    "\n",
    "# Print r value by squaring it\n",
    "print(f\"The r value is: {rvalue**2}\")\n",
    "\n",
    "# Show plot\n",
    "plt.show()\n",
    "#Answer: The cloudiness changes by 0.24% for every latitude degree it is away from the equator"
   ]
  },
  {
   "cell_type": "code",
   "execution_count": 75,
   "metadata": {},
   "outputs": [
    {
     "data": {
      "image/png": "[encoded data removed]",
      "text/plain": [
       "<Figure size 432x288 with 1 Axes>"
      ]
     },
     "metadata": {
      "needs_background": "light"
     },
     "output_type": "display_data"
    }
   ],
   "source": [
    "plt.scatter(northtemp[\"Latitude\"], northtemp[\"Cloudiness\"], facecolors = 'blue', marker = 'o')\n",
    "\n",
    "plt.title(\"North Hemisphere: City Latitude vs Cloudiness %\")\n",
    "plt.xlabel(\"City Latitude\")\n",
    "plt.ylabel(\"City Cloudiness %\")\n",
    "plt.show()"
   ]
  },
  {
   "cell_type": "markdown",
   "metadata": {},
   "source": [
    "####  Southern Hemisphere - Cloudiness (%) vs. Latitude Linear Regression"
   ]
  },
  {
   "cell_type": "code",
   "execution_count": 76,
   "metadata": {},
   "outputs": [
    {
     "name": "stdout",
     "output_type": "stream",
     "text": [
      "y = 1.03x +78.13\n"
     ]
    },
    {
     "data": {
      "text/plain": [
       "LinregressResult(slope=1.0345590165454193, intercept=78.132201270533, rvalue=0.35024952189688385, pvalue=1.4362127820744636e-06, stderr=0.20737100754371743)"
      ]
     },
     "execution_count": 76,
     "metadata": {},
     "output_type": "execute_result"
    }
   ],
   "source": [
    "#define the axis\n",
    "x_values = southtemp['Latitude']\n",
    "y_values = southtemp['Cloudiness']\n",
    "\n",
    "# Perform a linear regression on temperature vs. latitude\n",
    "(slope, intercept, rvalue, pvalue, stderr) = stats.linregress(x_values, y_values)\n",
    "\n",
    "#define regression values\n",
    "regress_values = x_values * slope + intercept\n",
    "#print(regress_values)\n",
    "line_eq = \"y = \" + str(round(slope,2)) + \"x +\" + str(round(intercept,2))\n",
    "print(line_eq)\n",
    "stats.linregress(x_values, y_values)"
   ]
  },
  {
   "cell_type": "code",
   "execution_count": 78,
   "metadata": {},
   "outputs": [
    {
     "name": "stdout",
     "output_type": "stream",
     "text": [
      "The r value is: 0.12267472758899572\n"
     ]
    },
    {
     "data": {
      "image/png": "[encoded data removed]",
      "text/plain": [
       "<Figure size 432x288 with 1 Axes>"
      ]
     },
     "metadata": {
      "needs_background": "light"
     },
     "output_type": "display_data"
    }
   ],
   "source": [
    "plt.plot(x_values,regress_values,\"r-\")\n",
    "\n",
    "# Label plot and annotate the line equation\n",
    "plt.title(\"South Hemisphere: City Latitude vs Cloudiness %\")\n",
    "plt.xlabel('City Latitude')\n",
    "plt.ylabel('City Cloudiness %')\n",
    "plt.annotate(line_eq,(20,15),fontsize=16,color=\"blue\")\n",
    "\n",
    "# Print r value by squaring it\n",
    "print(f\"The r value is: {rvalue**2}\")\n",
    "\n",
    "# Show plot\n",
    "plt.show()\n",
    "#Answer: The cloudiness changes by 1.03% for every latitude degree it is towards the equator"
   ]
  },
  {
   "cell_type": "code",
   "execution_count": 79,
   "metadata": {},
   "outputs": [
    {
     "data": {
      "image/png": "[encoded data removed]",
      "text/plain": [
       "<Figure size 432x288 with 1 Axes>"
      ]
     },
     "metadata": {
      "needs_background": "light"
     },
     "output_type": "display_data"
    }
   ],
   "source": [
    "plt.scatter(southtemp[\"Latitude\"], southtemp[\"Humidity\"], facecolors = 'blue', marker = 'o')\n",
    "\n",
    "plt.title(\"South Hemisphere: City Latitude vs Cloudiness %\")\n",
    "plt.xlabel(\"City Latitude\")\n",
    "plt.ylabel(\"City Cloudiness %\")\n",
    "\n",
    "plt.show()"
   ]
  },
  {
   "cell_type": "markdown",
   "metadata": {},
   "source": [
    "####  Northern Hemisphere - Wind Speed (mph) vs. Latitude Linear Regression"
   ]
  },
  {
   "cell_type": "code",
   "execution_count": 80,
   "metadata": {},
   "outputs": [
    {
     "name": "stdout",
     "output_type": "stream",
     "text": [
      "y = 0.01x +3.31\n"
     ]
    },
    {
     "data": {
      "text/plain": [
       "LinregressResult(slope=0.010690652472031421, intercept=3.308065297799515, rvalue=0.07334312104728548, pvalue=0.15414516704666603, stderr=0.007486915222053916)"
      ]
     },
     "execution_count": 80,
     "metadata": {},
     "output_type": "execute_result"
    }
   ],
   "source": [
    "#define the axis\n",
    "x_values = northtemp['Latitude']\n",
    "y_values = northtemp['Windspeed']\n",
    "\n",
    "# Perform a linear regression on temperature vs. latitude\n",
    "(slope, intercept, rvalue, pvalue, stderr) = stats.linregress(x_values, y_values)\n",
    "\n",
    "#define regression values\n",
    "regress_values = x_values * slope + intercept\n",
    "#print(regress_values)\n",
    "line_eq = \"y = \" + str(round(slope,2)) + \"x +\" + str(round(intercept,2))\n",
    "print(line_eq)\n",
    "stats.linregress(x_values, y_values)"
   ]
  },
  {
   "cell_type": "code",
   "execution_count": 81,
   "metadata": {},
   "outputs": [
    {
     "name": "stdout",
     "output_type": "stream",
     "text": [
      "The r value is: 0.00537921340495677\n"
     ]
    },
    {
     "data": {
      "image/png": "[encoded data removed]",
      "text/plain": [
       "<Figure size 432x288 with 1 Axes>"
      ]
     },
     "metadata": {
      "needs_background": "light"
     },
     "output_type": "display_data"
    }
   ],
   "source": [
    "plt.plot(x_values,regress_values,\"r-\")\n",
    "\n",
    "# Label plot and annotate the line equation\n",
    "plt.title(\"North Hemisphere: City Latitude vs Windspeed (mph)\")\n",
    "plt.xlabel('City Latitude')\n",
    "plt.ylabel('City Windspeed (mph)')\n",
    "plt.annotate(line_eq,(20,15),fontsize=16,color=\"blue\")\n",
    "\n",
    "# Print r value by squaring it\n",
    "print(f\"The r value is: {rvalue**2}\")\n",
    "\n",
    "# Show plot\n",
    "plt.show()\n",
    "#Answer: The windspeed goes up by 0.01 mph per every latitude degree away from the equator in the Northern Hemisphere."
   ]
  },
  {
   "cell_type": "code",
   "execution_count": 82,
   "metadata": {},
   "outputs": [
    {
     "data": {
      "image/png": "[encoded data removed]",
      "text/plain": [
       "<Figure size 432x288 with 1 Axes>"
      ]
     },
     "metadata": {
      "needs_background": "light"
     },
     "output_type": "display_data"
    }
   ],
   "source": [
    "plt.scatter(northtemp[\"Latitude\"], northtemp[\"Windspeed\"], facecolors = 'blue', marker = 'o')\n",
    "\n",
    "plt.title(\"North Hemisphere: City Latitude vs Windspeed (mph)\")\n",
    "plt.xlabel(\"City Latitude\")\n",
    "plt.ylabel(\"City Windspeed (mph)\")\n",
    "plt.show()"
   ]
  },
  {
   "cell_type": "markdown",
   "metadata": {},
   "source": [
    "####  Southern Hemisphere - Wind Speed (mph) vs. Latitude Linear Regression"
   ]
  },
  {
   "cell_type": "code",
   "execution_count": 83,
   "metadata": {},
   "outputs": [
    {
     "name": "stdout",
     "output_type": "stream",
     "text": [
      "y = -0.03x +2.9\n"
     ]
    },
    {
     "data": {
      "text/plain": [
       "LinregressResult(slope=-0.030230893462933558, intercept=2.8981045194847486, rvalue=-0.1702525358610541, pvalue=0.022314458233112747, stderr=0.013114754178943167)"
      ]
     },
     "execution_count": 83,
     "metadata": {},
     "output_type": "execute_result"
    }
   ],
   "source": [
    "#define the axis\n",
    "x_values = southtemp['Latitude']\n",
    "y_values = southtemp['Windspeed']\n",
    "\n",
    "# Perform a linear regression on temperature vs. latitude\n",
    "(slope, intercept, rvalue, pvalue, stderr) = stats.linregress(x_values, y_values)\n",
    "\n",
    "#define regression values\n",
    "regress_values = x_values * slope + intercept\n",
    "#print(regress_values)\n",
    "line_eq = \"y = \" + str(round(slope,2)) + \"x +\" + str(round(intercept,2))\n",
    "print(line_eq)\n",
    "stats.linregress(x_values, y_values)"
   ]
  },
  {
   "cell_type": "code",
   "execution_count": 84,
   "metadata": {},
   "outputs": [
    {
     "name": "stdout",
     "output_type": "stream",
     "text": [
      "The r value is: 0.028985925967119512\n"
     ]
    },
    {
     "data": {
      "image/png": "[encoded data removed]",
      "text/plain": [
       "<Figure size 432x288 with 1 Axes>"
      ]
     },
     "metadata": {
      "needs_background": "light"
     },
     "output_type": "display_data"
    }
   ],
   "source": [
    "plt.plot(x_values,regress_values,\"r-\")\n",
    "\n",
    "# Label plot and annotate the line equation\n",
    "plt.title(\"South Hemisphere: City Latitude vs Windspeed(mph)\")\n",
    "plt.xlabel('City Latitude')\n",
    "plt.ylabel('City Windspeed(mph)')\n",
    "plt.annotate(line_eq,(20,15),fontsize=16,color=\"blue\")\n",
    "\n",
    "# Print r value by squaring it\n",
    "print(f\"The r value is: {rvalue**2}\")\n",
    "\n",
    "# Show plot\n",
    "plt.show()\n",
    "#Answer: The windspeed goes down by 0.03 mph per every latitude degree towards the equator in the Southern Hemisphere."
   ]
  },
  {
   "cell_type": "code",
   "execution_count": 85,
   "metadata": {},
   "outputs": [
    {
     "data": {
      "image/png": "[encoded data removed]",
      "text/plain": [
       "<Figure size 432x288 with 1 Axes>"
      ]
     },
     "metadata": {
      "needs_background": "light"
     },
     "output_type": "display_data"
    }
   ],
   "source": [
    "plt.scatter(southtemp[\"Latitude\"], southtemp[\"Windspeed\"], facecolors = 'blue', marker = 'o')\n",
    "\n",
    "plt.title(\"South Hemisphere: City Latitude vs Windspeed (mph)\")\n",
    "plt.xlabel(\"City Latitude\")\n",
    "plt.ylabel(\"City Windspeed (mph)\")\n",
    "\n",
    "plt.show()"
   ]
  },
  {
   "cell_type": "code",
   "execution_count": null,
   "metadata": {},
   "outputs": [],
   "source": []
  },
  {
   "cell_type": "code",
   "execution_count": null,
   "metadata": {},
   "outputs": [],
   "source": []
  }
 ],
 "metadata": {
  "anaconda-cloud": {},
  "kernel_info": {
   "name": "python3"
  },
  "kernelspec": {
   "display_name": "Python 3",
   "language": "python",
   "name": "python3"
  },
  "language_info": {
   "codemirror_mode": {
    "name": "ipython",
    "version": 3
   },
   "file_extension": ".py",
   "mimetype": "text/x-python",
   "name": "python",
   "nbconvert_exporter": "python",
   "pygments_lexer": "ipython3",
   "version": "3.8.5"
  },
  "latex_envs": {
   "LaTeX_envs_menu_present": true,
   "autoclose": false,
   "autocomplete": true,
   "bibliofile": "biblio.bib",
   "cite_by": "apalike",
   "current_citInitial": 1,
   "eqLabelWithNumbers": true,
   "eqNumInitial": 1,
   "hotkeys": {
    "equation": "Ctrl-E",
    "itemize": "Ctrl-I"
   },
   "labels_anchors": false,
   "latex_user_defs": false,
   "report_style_numbering": false,
   "user_envs_cfg": false
  },
  "nteract": {
   "version": "0.12.3"
  }
 },
 "nbformat": 4,
 "nbformat_minor": 4
}
